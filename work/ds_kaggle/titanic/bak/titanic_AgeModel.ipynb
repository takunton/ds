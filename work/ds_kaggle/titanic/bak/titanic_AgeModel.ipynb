{
 "cells": [
  {
   "cell_type": "markdown",
   "id": "1f83d016-0a5d-4c7d-a6cd-d41145408ddd",
   "metadata": {},
   "source": [
    "# Titanic_AgeModel"
   ]
  },
  {
   "cell_type": "code",
   "execution_count": 1,
   "id": "a0fcd16d-c702-4b15-9b27-544b4f27c404",
   "metadata": {},
   "outputs": [],
   "source": [
    "import pandas as pd\n",
    "import seaborn as sns\n",
    "\n",
    "from sklearn.preprocessing import StandardScaler\n",
    "from sklearn.linear_model import LinearRegression\n",
    "from sklearn.metrics import r2_score\n",
    "from sklearn.model_selection import train_test_split"
   ]
  },
  {
   "cell_type": "code",
   "execution_count": 2,
   "id": "24d347ea-a154-4fcd-a97d-5faf9c355095",
   "metadata": {},
   "outputs": [
    {
     "data": {
      "text/html": [
       "<div>\n",
       "<style scoped>\n",
       "    .dataframe tbody tr th:only-of-type {\n",
       "        vertical-align: middle;\n",
       "    }\n",
       "\n",
       "    .dataframe tbody tr th {\n",
       "        vertical-align: top;\n",
       "    }\n",
       "\n",
       "    .dataframe thead th {\n",
       "        text-align: right;\n",
       "    }\n",
       "</style>\n",
       "<table border=\"1\" class=\"dataframe\">\n",
       "  <thead>\n",
       "    <tr style=\"text-align: right;\">\n",
       "      <th></th>\n",
       "      <th>PassengerId</th>\n",
       "      <th>Survived</th>\n",
       "      <th>Pclass</th>\n",
       "      <th>Name</th>\n",
       "      <th>Sex</th>\n",
       "      <th>Age</th>\n",
       "      <th>SibSp</th>\n",
       "      <th>Parch</th>\n",
       "      <th>Ticket</th>\n",
       "      <th>Fare</th>\n",
       "      <th>Cabin</th>\n",
       "      <th>Embarked</th>\n",
       "    </tr>\n",
       "  </thead>\n",
       "  <tbody>\n",
       "    <tr>\n",
       "      <th>0</th>\n",
       "      <td>1</td>\n",
       "      <td>0</td>\n",
       "      <td>3</td>\n",
       "      <td>Braund, Mr. Owen Harris</td>\n",
       "      <td>male</td>\n",
       "      <td>22.0</td>\n",
       "      <td>1</td>\n",
       "      <td>0</td>\n",
       "      <td>A/5 21171</td>\n",
       "      <td>7.2500</td>\n",
       "      <td>NaN</td>\n",
       "      <td>S</td>\n",
       "    </tr>\n",
       "    <tr>\n",
       "      <th>1</th>\n",
       "      <td>2</td>\n",
       "      <td>1</td>\n",
       "      <td>1</td>\n",
       "      <td>Cumings, Mrs. John Bradley (Florence Briggs Th...</td>\n",
       "      <td>female</td>\n",
       "      <td>38.0</td>\n",
       "      <td>1</td>\n",
       "      <td>0</td>\n",
       "      <td>PC 17599</td>\n",
       "      <td>71.2833</td>\n",
       "      <td>C85</td>\n",
       "      <td>C</td>\n",
       "    </tr>\n",
       "    <tr>\n",
       "      <th>2</th>\n",
       "      <td>3</td>\n",
       "      <td>1</td>\n",
       "      <td>3</td>\n",
       "      <td>Heikkinen, Miss. Laina</td>\n",
       "      <td>female</td>\n",
       "      <td>26.0</td>\n",
       "      <td>0</td>\n",
       "      <td>0</td>\n",
       "      <td>STON/O2. 3101282</td>\n",
       "      <td>7.9250</td>\n",
       "      <td>NaN</td>\n",
       "      <td>S</td>\n",
       "    </tr>\n",
       "    <tr>\n",
       "      <th>3</th>\n",
       "      <td>4</td>\n",
       "      <td>1</td>\n",
       "      <td>1</td>\n",
       "      <td>Futrelle, Mrs. Jacques Heath (Lily May Peel)</td>\n",
       "      <td>female</td>\n",
       "      <td>35.0</td>\n",
       "      <td>1</td>\n",
       "      <td>0</td>\n",
       "      <td>113803</td>\n",
       "      <td>53.1000</td>\n",
       "      <td>C123</td>\n",
       "      <td>S</td>\n",
       "    </tr>\n",
       "    <tr>\n",
       "      <th>4</th>\n",
       "      <td>5</td>\n",
       "      <td>0</td>\n",
       "      <td>3</td>\n",
       "      <td>Allen, Mr. William Henry</td>\n",
       "      <td>male</td>\n",
       "      <td>35.0</td>\n",
       "      <td>0</td>\n",
       "      <td>0</td>\n",
       "      <td>373450</td>\n",
       "      <td>8.0500</td>\n",
       "      <td>NaN</td>\n",
       "      <td>S</td>\n",
       "    </tr>\n",
       "  </tbody>\n",
       "</table>\n",
       "</div>"
      ],
      "text/plain": [
       "   PassengerId  Survived  Pclass  \\\n",
       "0            1         0       3   \n",
       "1            2         1       1   \n",
       "2            3         1       3   \n",
       "3            4         1       1   \n",
       "4            5         0       3   \n",
       "\n",
       "                                                Name     Sex   Age  SibSp  \\\n",
       "0                            Braund, Mr. Owen Harris    male  22.0      1   \n",
       "1  Cumings, Mrs. John Bradley (Florence Briggs Th...  female  38.0      1   \n",
       "2                             Heikkinen, Miss. Laina  female  26.0      0   \n",
       "3       Futrelle, Mrs. Jacques Heath (Lily May Peel)  female  35.0      1   \n",
       "4                           Allen, Mr. William Henry    male  35.0      0   \n",
       "\n",
       "   Parch            Ticket     Fare Cabin Embarked  \n",
       "0      0         A/5 21171   7.2500   NaN        S  \n",
       "1      0          PC 17599  71.2833   C85        C  \n",
       "2      0  STON/O2. 3101282   7.9250   NaN        S  \n",
       "3      0            113803  53.1000  C123        S  \n",
       "4      0            373450   8.0500   NaN        S  "
      ]
     },
     "execution_count": 2,
     "metadata": {},
     "output_type": "execute_result"
    }
   ],
   "source": [
    "# データロード\n",
    "df = pd.read_csv('csv/train.csv')\n",
    "df = df.dropna(subset=['Age'])\n",
    "df.head()"
   ]
  },
  {
   "cell_type": "code",
   "execution_count": 3,
   "id": "60c73d8c-1894-4d4c-a26c-5d25e352c7cd",
   "metadata": {},
   "outputs": [],
   "source": [
    "# 特徴量選択\n",
    "X = df.drop(columns=['Name', 'Age', 'Ticket', 'Cabin'])\n",
    "X = pd.get_dummies(X, drop_first=True)\n",
    "y = df['Age']"
   ]
  },
  {
   "cell_type": "code",
   "execution_count": 4,
   "id": "d4780438-a101-45c3-b9be-bcc06e0b369b",
   "metadata": {},
   "outputs": [],
   "source": [
    "# hold-out\n",
    "X_train, X_test, y_train, y_test = train_test_split(X, y, test_size=0.3, random_state=0)"
   ]
  },
  {
   "cell_type": "code",
   "execution_count": 5,
   "id": "6c5d53be-3c0e-438e-975e-bd8a33aa88e7",
   "metadata": {},
   "outputs": [],
   "source": [
    "# 標準化\n",
    "scaler = StandardScaler()\n",
    "# trainデータの平均・標準偏差を使用\n",
    "scaler.fit(X_train)\n",
    "\n",
    "# trainデータ\n",
    "X_train_scaled = scaler.transform(X_train)\n",
    "X_train_scaled = pd.DataFrame(X_train_scaled, columns=X.columns)\n",
    "# testデータ\n",
    "X_test_scaled = scaler.transform(X_test)\n",
    "X_test_scaled = pd.DataFrame(X_test_scaled, columns=X.columns)"
   ]
  },
  {
   "cell_type": "code",
   "execution_count": 6,
   "id": "ec235f3f-9ee2-4514-9e9a-9f4cdde630fa",
   "metadata": {},
   "outputs": [
    {
     "data": {
      "text/html": [
       "<style>#sk-container-id-1 {color: black;background-color: white;}#sk-container-id-1 pre{padding: 0;}#sk-container-id-1 div.sk-toggleable {background-color: white;}#sk-container-id-1 label.sk-toggleable__label {cursor: pointer;display: block;width: 100%;margin-bottom: 0;padding: 0.3em;box-sizing: border-box;text-align: center;}#sk-container-id-1 label.sk-toggleable__label-arrow:before {content: \"▸\";float: left;margin-right: 0.25em;color: #696969;}#sk-container-id-1 label.sk-toggleable__label-arrow:hover:before {color: black;}#sk-container-id-1 div.sk-estimator:hover label.sk-toggleable__label-arrow:before {color: black;}#sk-container-id-1 div.sk-toggleable__content {max-height: 0;max-width: 0;overflow: hidden;text-align: left;background-color: #f0f8ff;}#sk-container-id-1 div.sk-toggleable__content pre {margin: 0.2em;color: black;border-radius: 0.25em;background-color: #f0f8ff;}#sk-container-id-1 input.sk-toggleable__control:checked~div.sk-toggleable__content {max-height: 200px;max-width: 100%;overflow: auto;}#sk-container-id-1 input.sk-toggleable__control:checked~label.sk-toggleable__label-arrow:before {content: \"▾\";}#sk-container-id-1 div.sk-estimator input.sk-toggleable__control:checked~label.sk-toggleable__label {background-color: #d4ebff;}#sk-container-id-1 div.sk-label input.sk-toggleable__control:checked~label.sk-toggleable__label {background-color: #d4ebff;}#sk-container-id-1 input.sk-hidden--visually {border: 0;clip: rect(1px 1px 1px 1px);clip: rect(1px, 1px, 1px, 1px);height: 1px;margin: -1px;overflow: hidden;padding: 0;position: absolute;width: 1px;}#sk-container-id-1 div.sk-estimator {font-family: monospace;background-color: #f0f8ff;border: 1px dotted black;border-radius: 0.25em;box-sizing: border-box;margin-bottom: 0.5em;}#sk-container-id-1 div.sk-estimator:hover {background-color: #d4ebff;}#sk-container-id-1 div.sk-parallel-item::after {content: \"\";width: 100%;border-bottom: 1px solid gray;flex-grow: 1;}#sk-container-id-1 div.sk-label:hover label.sk-toggleable__label {background-color: #d4ebff;}#sk-container-id-1 div.sk-serial::before {content: \"\";position: absolute;border-left: 1px solid gray;box-sizing: border-box;top: 0;bottom: 0;left: 50%;z-index: 0;}#sk-container-id-1 div.sk-serial {display: flex;flex-direction: column;align-items: center;background-color: white;padding-right: 0.2em;padding-left: 0.2em;position: relative;}#sk-container-id-1 div.sk-item {position: relative;z-index: 1;}#sk-container-id-1 div.sk-parallel {display: flex;align-items: stretch;justify-content: center;background-color: white;position: relative;}#sk-container-id-1 div.sk-item::before, #sk-container-id-1 div.sk-parallel-item::before {content: \"\";position: absolute;border-left: 1px solid gray;box-sizing: border-box;top: 0;bottom: 0;left: 50%;z-index: -1;}#sk-container-id-1 div.sk-parallel-item {display: flex;flex-direction: column;z-index: 1;position: relative;background-color: white;}#sk-container-id-1 div.sk-parallel-item:first-child::after {align-self: flex-end;width: 50%;}#sk-container-id-1 div.sk-parallel-item:last-child::after {align-self: flex-start;width: 50%;}#sk-container-id-1 div.sk-parallel-item:only-child::after {width: 0;}#sk-container-id-1 div.sk-dashed-wrapped {border: 1px dashed gray;margin: 0 0.4em 0.5em 0.4em;box-sizing: border-box;padding-bottom: 0.4em;background-color: white;}#sk-container-id-1 div.sk-label label {font-family: monospace;font-weight: bold;display: inline-block;line-height: 1.2em;}#sk-container-id-1 div.sk-label-container {text-align: center;}#sk-container-id-1 div.sk-container {/* jupyter's `normalize.less` sets `[hidden] { display: none; }` but bootstrap.min.css set `[hidden] { display: none !important; }` so we also need the `!important` here to be able to override the default hidden behavior on the sphinx rendered scikit-learn.org. See: https://github.com/scikit-learn/scikit-learn/issues/21755 */display: inline-block !important;position: relative;}#sk-container-id-1 div.sk-text-repr-fallback {display: none;}</style><div id=\"sk-container-id-1\" class=\"sk-top-container\"><div class=\"sk-text-repr-fallback\"><pre>LinearRegression()</pre><b>In a Jupyter environment, please rerun this cell to show the HTML representation or trust the notebook. <br />On GitHub, the HTML representation is unable to render, please try loading this page with nbviewer.org.</b></div><div class=\"sk-container\" hidden><div class=\"sk-item\"><div class=\"sk-estimator sk-toggleable\"><input class=\"sk-toggleable__control sk-hidden--visually\" id=\"sk-estimator-id-1\" type=\"checkbox\" checked><label for=\"sk-estimator-id-1\" class=\"sk-toggleable__label sk-toggleable__label-arrow\">LinearRegression</label><div class=\"sk-toggleable__content\"><pre>LinearRegression()</pre></div></div></div></div></div>"
      ],
      "text/plain": [
       "LinearRegression()"
      ]
     },
     "execution_count": 6,
     "metadata": {},
     "output_type": "execute_result"
    }
   ],
   "source": [
    "# 学習\n",
    "model = LinearRegression()\n",
    "model.fit(X_train, y_train)"
   ]
  },
  {
   "cell_type": "code",
   "execution_count": 7,
   "id": "1f780431-7b66-4c10-81cd-50132dc13b4e",
   "metadata": {},
   "outputs": [],
   "source": [
    "y_pred = model.predict(X_test_scaled)"
   ]
  },
  {
   "cell_type": "code",
   "execution_count": 8,
   "id": "1296c097-972e-42b7-a104-77e6fb1514e9",
   "metadata": {},
   "outputs": [
    {
     "data": {
      "text/plain": [
       "-1.6698783375467476"
      ]
     },
     "execution_count": 8,
     "metadata": {},
     "output_type": "execute_result"
    }
   ],
   "source": [
    "r2_score(y_test, y_pred)"
   ]
  },
  {
   "cell_type": "code",
   "execution_count": 9,
   "id": "41fdf3d7-226b-4eed-8132-1acfc23fa8b1",
   "metadata": {},
   "outputs": [
    {
     "data": {
      "text/plain": [
       "423    28.00\n",
       "177    50.00\n",
       "305     0.92\n",
       "292    36.00\n",
       "889    26.00\n",
       "       ...  \n",
       "203    45.50\n",
       "499    24.00\n",
       "628    26.00\n",
       "879    56.00\n",
       "745    70.00\n",
       "Name: Age, Length: 215, dtype: float64"
      ]
     },
     "execution_count": 9,
     "metadata": {},
     "output_type": "execute_result"
    }
   ],
   "source": [
    "y_test"
   ]
  },
  {
   "cell_type": "code",
   "execution_count": 10,
   "id": "df5b9f7b-f8ca-4b1e-8f84-f599c10632ea",
   "metadata": {},
   "outputs": [
    {
     "data": {
      "text/plain": [
       "array([47.29357125, 67.33202022, 49.44287892, 57.21568907, 52.61548322,\n",
       "       46.19225523, 55.21050731, 65.07695681, 69.34198973, 69.33742519,\n",
       "       51.30725647, 38.78982121, 34.53123043, 51.30651525, 56.36282298,\n",
       "       47.80623079, 60.32492755, 26.60222141, 36.48961273, 60.32644882,\n",
       "       51.30691937, 47.80761576, 40.73091058, 47.3439017 , 51.30818738,\n",
       "       26.60171072, 53.69953866, 60.31588836, 51.75705652, 48.44274321,\n",
       "       51.30752962, 34.29866937, 51.30822351, 49.74429987, 51.30818919,\n",
       "       50.15732109, 49.74355355, 55.72421095, 51.30829241, 31.71706492,\n",
       "       51.30687242, 37.68959507, 51.75683218, 68.18426798, 51.30863909,\n",
       "       38.790524  , 19.53060516, 52.38953377, 51.30824836, 47.34245599,\n",
       "       69.34676628, 47.80761284, 60.32607237, 53.70751519, 61.42718698,\n",
       "       48.44497037, 46.65739794, 47.34369771, 46.70816256, 65.37317837,\n",
       "       68.17429912, 51.30837789, 56.31004989, 51.3074818 , 56.81623326,\n",
       "       47.2936193 , 56.80718642, 60.32684763, 64.16129052, 51.4589108 ,\n",
       "       51.30712781, 49.44753385, 45.5086195 , 51.70371797, 53.69763854,\n",
       "       52.60834914, 38.7906    , 51.3065778 , 51.30765334, 60.32604902,\n",
       "       33.43178562, 48.64684753, 69.34039817, 45.50706339, 56.82316834,\n",
       "       51.30665712, 46.19367838, 62.25545326, 54.50554083, 75.92301595,\n",
       "       52.85395479, 48.1980665 , 38.79083839, 49.89700627, 53.70878026,\n",
       "       33.15031856, 68.44841747, 48.14909647, 51.30878386, 62.89106998,\n",
       "       34.82417156, 55.72393499, 47.80859648, 66.23115485, 49.74163476,\n",
       "       47.80714785, 53.70682455, 62.25775236, 55.64999686, 34.297041  ,\n",
       "       51.30658115, 44.23397487, 37.1125213 , 54.06015035, 60.74647522,\n",
       "       51.30859787, 46.70621125, 43.38000494, 46.65589352, 47.80720038,\n",
       "       51.3085398 , 40.73428281, 43.37845729, 51.30723084, 64.22037695,\n",
       "       43.84227391, 38.72712022, 51.3086747 , 51.309008  , 47.80756031,\n",
       "       49.74406464, 37.6894049 , 63.90741274, 55.7247625 , 55.72389979,\n",
       "       66.90463973, 49.73831269, 26.60164944, 53.25015387, 51.30754182,\n",
       "       47.80696499, 51.30768633, 41.53790604, 47.8077354 , 50.94959514,\n",
       "       60.32237137, 69.34135258, 52.40803645, 66.23250109, 51.30758561,\n",
       "       52.40908281, 37.69072885, 55.20956472, 29.46622028, 37.68901386,\n",
       "       48.1973778 , 48.19772147, 37.68845238, 51.30837012, 51.3077902 ,\n",
       "       48.1987551 , 66.23127836, 51.30709396, 38.21466703, 51.30685556,\n",
       "       47.80603631, 61.10797731, 51.30804418, 39.3634186 , 55.72403675,\n",
       "       47.8082918 , 48.44160665, 51.41299073, 33.72520816, 43.08460024,\n",
       "       56.35857395, 55.64973422, 32.23169837, 65.37332238, 45.5071131 ,\n",
       "       51.30692401, 51.30794199, 66.9054615 , 51.30733234, 60.32473602,\n",
       "       47.80849024, 51.30807246, 36.43021707, 41.59080501, 46.65775653,\n",
       "       48.19791534, 51.30735569, 34.57821347, 51.30840312, 51.30877284,\n",
       "       54.3859964 , 63.92195566, 69.34222319, 60.32671438, 52.40770082,\n",
       "       53.70423711, 37.69060716, 53.71422949, 48.19953145, 46.19262441,\n",
       "       42.69146661, 50.60614195, 51.30795568, 35.68195614, 41.5911547 ,\n",
       "       48.19779569, 51.3078891 , 51.30825159, 52.55888329, 64.22299468])"
      ]
     },
     "execution_count": 10,
     "metadata": {},
     "output_type": "execute_result"
    }
   ],
   "source": [
    "y_pred"
   ]
  },
  {
   "cell_type": "code",
   "execution_count": null,
   "id": "c08cdf29-0af7-4b51-804d-72b9c9ce8474",
   "metadata": {},
   "outputs": [],
   "source": []
  }
 ],
 "metadata": {
  "kernelspec": {
   "display_name": "Python 3 (ipykernel)",
   "language": "python",
   "name": "python3"
  },
  "language_info": {
   "codemirror_mode": {
    "name": "ipython",
    "version": 3
   },
   "file_extension": ".py",
   "mimetype": "text/x-python",
   "name": "python",
   "nbconvert_exporter": "python",
   "pygments_lexer": "ipython3",
   "version": "3.9.12"
  }
 },
 "nbformat": 4,
 "nbformat_minor": 5
}
