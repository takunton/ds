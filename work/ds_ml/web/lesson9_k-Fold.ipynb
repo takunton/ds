{
 "cells": [
  {
   "cell_type": "markdown",
   "metadata": {
    "colab_type": "text",
    "id": "view-in-github"
   },
   "source": [
    "<a href=\"https://colab.research.google.com/github/takunton/ds/blob/main/lesson8.ipynb\" target=\"_parent\"><img src=\"https://colab.research.google.com/assets/colab-badge.svg\" alt=\"Open In Colab\"/></a>"
   ]
  },
  {
   "cell_type": "code",
   "execution_count": 12,
   "metadata": {
    "id": "IJ_-H4cAJRV7"
   },
   "outputs": [],
   "source": [
    "import numpy as np\n",
    "import seaborn as sns\n",
    "from sklearn.linear_model import LinearRegression\n",
    "from sklearn.model_selection import KFold\n",
    "from sklearn.model_selection import cross_val_score"
   ]
  },
  {
   "cell_type": "code",
   "execution_count": 8,
   "metadata": {
    "id": "_HUXKtY6Kwf1"
   },
   "outputs": [],
   "source": [
    "# 学習データ取得\n",
    "df = sns.load_dataset('tips')\n",
    "X = df['total_bill'].values.reshape(-1,1)\n",
    "y = df['tip'].values"
   ]
  },
  {
   "cell_type": "code",
   "execution_count": 15,
   "metadata": {
    "colab": {
     "base_uri": "https://localhost:8080/",
     "height": 419
    },
    "id": "AswWmx2CMe-z",
    "outputId": "b0a46cfe-9171-4fdd-b2e6-786fca8095f3"
   },
   "outputs": [
    {
     "name": "stdout",
     "output_type": "stream",
     "text": [
      "MSE(5FoldCV):1.080211088394392\n",
      "std:0.1617010050703952\n"
     ]
    }
   ],
   "source": [
    "model = LinearRegression()\n",
    "# よく使われるのはk=5とk=10\n",
    "cv = KFold(n_splits=5, random_state=0, shuffle=True)\n",
    "mse_list = []\n",
    "\n",
    "# 学習データ、テストデータを分割してループ\n",
    "# LOOCVにより学習データとテストデータのindexを生成\n",
    "for train_index, test_index in cv.split(X):\n",
    "#     print('train index:', train_index, 'test index:', test_index)\n",
    "    # 学習データとテストデータを取得\n",
    "    X_train, X_test = X[train_index], X[test_index]\n",
    "    y_train, y_test = y[train_index], y[test_index]\n",
    "    \n",
    "    # モデル生成\n",
    "    model.fit(X_train, y_train)\n",
    "\n",
    "    # テストデータの予測値を取得\n",
    "    y_pred = model.predict(X_test)\n",
    "\n",
    "    # 損失\n",
    "    mse = np.mean((y_pred - y_test)**2)\n",
    "    mse_list.append(mse)\n",
    "\n",
    "print(f'MSE(5FoldCV):{np.mean(mse_list)}')\n",
    "print(f'std:{np.std(mse_list)}')"
   ]
  },
  {
   "cell_type": "code",
   "execution_count": 18,
   "metadata": {
    "id": "1dB-qPLPQfRA"
   },
   "outputs": [
    {
     "data": {
      "text/plain": [
       "-1.080211088394392"
      ]
     },
     "execution_count": 18,
     "metadata": {},
     "output_type": "execute_result"
    }
   ],
   "source": [
    "scores = cross_val_score(model, X, y, scoring='neg_mean_squared_error', cv=cv, n_jobs=-1)\n",
    "np.mean(scores)\n",
    "# 大きいほうが精度が良い\n",
    "# イテレーションを回すことなく一行でCross Validationを実行できる"
   ]
  },
  {
   "cell_type": "code",
   "execution_count": 19,
   "metadata": {},
   "outputs": [
    {
     "data": {
      "text/plain": [
       "array([-0.82130906, -1.07458421, -1.08801239, -1.33238677, -1.084763  ])"
      ]
     },
     "execution_count": 19,
     "metadata": {},
     "output_type": "execute_result"
    }
   ],
   "source": [
    "# 各グループごとのMSE指標値\n",
    "scores"
   ]
  }
 ],
 "metadata": {
  "colab": {
   "authorship_tag": "ABX9TyPxvvD1xUpRocBfULuVSbI+",
   "include_colab_link": true,
   "name": "Untitled2.ipynb",
   "provenance": []
  },
  "kernelspec": {
   "display_name": "Python 3",
   "language": "python",
   "name": "python3"
  },
  "language_info": {
   "codemirror_mode": {
    "name": "ipython",
    "version": 3
   },
   "file_extension": ".py",
   "mimetype": "text/x-python",
   "name": "python",
   "nbconvert_exporter": "python",
   "pygments_lexer": "ipython3",
   "version": "3.7.6"
  }
 },
 "nbformat": 4,
 "nbformat_minor": 4
}
