{
  "nbformat": 4,
  "nbformat_minor": 0,
  "metadata": {
    "colab": {
      "provenance": [],
      "authorship_tag": "ABX9TyOXOuKnajG+jOTZfKR/pqVz",
      "include_colab_link": true
    },
    "kernelspec": {
      "name": "python3",
      "display_name": "Python 3"
    },
    "language_info": {
      "name": "python"
    }
  },
  "cells": [
    {
      "cell_type": "markdown",
      "metadata": {
        "id": "view-in-github",
        "colab_type": "text"
      },
      "source": [
        "<a href=\"https://colab.research.google.com/github/takunton/ds/blob/main/work/ds_ml/web/lesson32_xgboost.ipynb\" target=\"_parent\"><img src=\"https://colab.research.google.com/assets/colab-badge.svg\" alt=\"Open In Colab\"/></a>"
      ]
    },
    {
      "cell_type": "code",
      "execution_count": 1,
      "metadata": {
        "colab": {
          "base_uri": "https://localhost:8080/"
        },
        "id": "afpej3EkxV2S",
        "outputId": "8705ad5b-1e67-4f68-c7cc-b350019b7b8b"
      },
      "outputs": [
        {
          "output_type": "stream",
          "name": "stdout",
          "text": [
            "Looking in indexes: https://pypi.org/simple, https://us-python.pkg.dev/colab-wheels/public/simple/\n",
            "Requirement already satisfied: xgboost in /usr/local/lib/python3.8/dist-packages (0.90)\n",
            "Requirement already satisfied: numpy in /usr/local/lib/python3.8/dist-packages (from xgboost) (1.21.6)\n",
            "Requirement already satisfied: scipy in /usr/local/lib/python3.8/dist-packages (from xgboost) (1.7.3)\n"
          ]
        }
      ],
      "source": [
        "%pip install xgboost"
      ]
    },
    {
      "cell_type": "code",
      "source": [
        "import pandas as pd\n",
        "import seaborn as sns\n",
        "\n",
        "df = sns.load_dataset('titanic')\n",
        "# df = df.dropna()\n",
        "X = df.loc[:, (df.columns!='survived') & (df.columns!='alive')]\n",
        "X = pd.get_dummies(X, drop_first=True)\n",
        "y = df['survived']"
      ],
      "metadata": {
        "id": "qmZbrmv8xmjH"
      },
      "execution_count": 2,
      "outputs": []
    },
    {
      "cell_type": "code",
      "source": [
        "from sklearn.model_selection import train_test_split\n",
        "X_train, X_test, y_train, y_test = train_test_split(X, y, test_size=0.3)"
      ],
      "metadata": {
        "id": "hrxy2y2gxvQA"
      },
      "execution_count": 3,
      "outputs": []
    },
    {
      "cell_type": "code",
      "source": [
        "from xgboost import XGBClassifier\n",
        "model = XGBClassifier(early_stopping_rounds=10)"
      ],
      "metadata": {
        "id": "o7-U-weGx_G-"
      },
      "execution_count": 4,
      "outputs": []
    },
    {
      "cell_type": "code",
      "source": [
        "eval_set = [(X_test, y_test)]\n",
        "model.fit(X_train, y_train, eval_set=eval_set, verbose=True)"
      ],
      "metadata": {
        "colab": {
          "base_uri": "https://localhost:8080/"
        },
        "id": "u861qYHkyXZ1",
        "outputId": "c55c3bfc-2fcb-4f60-c1f8-04642ccadefc"
      },
      "execution_count": 5,
      "outputs": [
        {
          "output_type": "stream",
          "name": "stdout",
          "text": [
            "[0]\tvalidation_0-error:0.126866\n",
            "[1]\tvalidation_0-error:0.126866\n",
            "[2]\tvalidation_0-error:0.126866\n",
            "[3]\tvalidation_0-error:0.126866\n",
            "[4]\tvalidation_0-error:0.126866\n",
            "[5]\tvalidation_0-error:0.126866\n",
            "[6]\tvalidation_0-error:0.126866\n",
            "[7]\tvalidation_0-error:0.126866\n",
            "[8]\tvalidation_0-error:0.13806\n",
            "[9]\tvalidation_0-error:0.134328\n",
            "[10]\tvalidation_0-error:0.134328\n",
            "[11]\tvalidation_0-error:0.130597\n",
            "[12]\tvalidation_0-error:0.130597\n",
            "[13]\tvalidation_0-error:0.130597\n",
            "[14]\tvalidation_0-error:0.130597\n",
            "[15]\tvalidation_0-error:0.130597\n",
            "[16]\tvalidation_0-error:0.130597\n",
            "[17]\tvalidation_0-error:0.130597\n",
            "[18]\tvalidation_0-error:0.130597\n",
            "[19]\tvalidation_0-error:0.130597\n",
            "[20]\tvalidation_0-error:0.130597\n",
            "[21]\tvalidation_0-error:0.130597\n",
            "[22]\tvalidation_0-error:0.130597\n",
            "[23]\tvalidation_0-error:0.130597\n",
            "[24]\tvalidation_0-error:0.130597\n",
            "[25]\tvalidation_0-error:0.130597\n",
            "[26]\tvalidation_0-error:0.130597\n",
            "[27]\tvalidation_0-error:0.130597\n",
            "[28]\tvalidation_0-error:0.130597\n",
            "[29]\tvalidation_0-error:0.126866\n",
            "[30]\tvalidation_0-error:0.126866\n",
            "[31]\tvalidation_0-error:0.126866\n",
            "[32]\tvalidation_0-error:0.126866\n",
            "[33]\tvalidation_0-error:0.130597\n",
            "[34]\tvalidation_0-error:0.130597\n",
            "[35]\tvalidation_0-error:0.130597\n",
            "[36]\tvalidation_0-error:0.130597\n",
            "[37]\tvalidation_0-error:0.130597\n",
            "[38]\tvalidation_0-error:0.130597\n",
            "[39]\tvalidation_0-error:0.130597\n",
            "[40]\tvalidation_0-error:0.130597\n",
            "[41]\tvalidation_0-error:0.130597\n",
            "[42]\tvalidation_0-error:0.130597\n",
            "[43]\tvalidation_0-error:0.130597\n",
            "[44]\tvalidation_0-error:0.130597\n",
            "[45]\tvalidation_0-error:0.130597\n",
            "[46]\tvalidation_0-error:0.130597\n",
            "[47]\tvalidation_0-error:0.130597\n",
            "[48]\tvalidation_0-error:0.130597\n",
            "[49]\tvalidation_0-error:0.130597\n",
            "[50]\tvalidation_0-error:0.130597\n",
            "[51]\tvalidation_0-error:0.130597\n",
            "[52]\tvalidation_0-error:0.130597\n",
            "[53]\tvalidation_0-error:0.126866\n",
            "[54]\tvalidation_0-error:0.126866\n",
            "[55]\tvalidation_0-error:0.126866\n",
            "[56]\tvalidation_0-error:0.126866\n",
            "[57]\tvalidation_0-error:0.126866\n",
            "[58]\tvalidation_0-error:0.123134\n",
            "[59]\tvalidation_0-error:0.123134\n",
            "[60]\tvalidation_0-error:0.123134\n",
            "[61]\tvalidation_0-error:0.123134\n",
            "[62]\tvalidation_0-error:0.123134\n",
            "[63]\tvalidation_0-error:0.123134\n",
            "[64]\tvalidation_0-error:0.123134\n",
            "[65]\tvalidation_0-error:0.119403\n",
            "[66]\tvalidation_0-error:0.119403\n",
            "[67]\tvalidation_0-error:0.123134\n",
            "[68]\tvalidation_0-error:0.123134\n",
            "[69]\tvalidation_0-error:0.119403\n",
            "[70]\tvalidation_0-error:0.123134\n",
            "[71]\tvalidation_0-error:0.126866\n",
            "[72]\tvalidation_0-error:0.126866\n",
            "[73]\tvalidation_0-error:0.126866\n",
            "[74]\tvalidation_0-error:0.126866\n",
            "[75]\tvalidation_0-error:0.126866\n",
            "[76]\tvalidation_0-error:0.126866\n",
            "[77]\tvalidation_0-error:0.126866\n",
            "[78]\tvalidation_0-error:0.126866\n",
            "[79]\tvalidation_0-error:0.126866\n",
            "[80]\tvalidation_0-error:0.126866\n",
            "[81]\tvalidation_0-error:0.126866\n",
            "[82]\tvalidation_0-error:0.123134\n",
            "[83]\tvalidation_0-error:0.126866\n",
            "[84]\tvalidation_0-error:0.126866\n",
            "[85]\tvalidation_0-error:0.126866\n",
            "[86]\tvalidation_0-error:0.126866\n",
            "[87]\tvalidation_0-error:0.126866\n",
            "[88]\tvalidation_0-error:0.130597\n",
            "[89]\tvalidation_0-error:0.130597\n",
            "[90]\tvalidation_0-error:0.130597\n",
            "[91]\tvalidation_0-error:0.130597\n",
            "[92]\tvalidation_0-error:0.130597\n",
            "[93]\tvalidation_0-error:0.130597\n",
            "[94]\tvalidation_0-error:0.130597\n",
            "[95]\tvalidation_0-error:0.130597\n",
            "[96]\tvalidation_0-error:0.130597\n",
            "[97]\tvalidation_0-error:0.134328\n",
            "[98]\tvalidation_0-error:0.130597\n",
            "[99]\tvalidation_0-error:0.126866\n"
          ]
        },
        {
          "output_type": "execute_result",
          "data": {
            "text/plain": [
              "XGBClassifier(early_stopping_rounds=10)"
            ]
          },
          "metadata": {},
          "execution_count": 5
        }
      ]
    },
    {
      "cell_type": "code",
      "source": [
        "from sklearn import metrics\n",
        "y_pred = model.predict_proba(X_test)\n",
        "metrics.log_loss(y_test, y_pred)"
      ],
      "metadata": {
        "colab": {
          "base_uri": "https://localhost:8080/"
        },
        "id": "QD5T2MVyyc4t",
        "outputId": "6a2e80ea-4758-4e39-b1ba-7375f0907332"
      },
      "execution_count": 6,
      "outputs": [
        {
          "output_type": "execute_result",
          "data": {
            "text/plain": [
              "0.3362370888014505"
            ]
          },
          "metadata": {},
          "execution_count": 6
        }
      ]
    },
    {
      "cell_type": "code",
      "source": [
        "import matplotlib.pyplot as plt\n",
        "model.feature_importances_\n",
        "plt.barh(X.columns, model.feature_importances_)"
      ],
      "metadata": {
        "colab": {
          "base_uri": "https://localhost:8080/",
          "height": 283
        },
        "id": "SecJXtyJyz82",
        "outputId": "fe6f0ebb-7c23-4010-f45a-bf3a0e95ef9e"
      },
      "execution_count": 7,
      "outputs": [
        {
          "output_type": "execute_result",
          "data": {
            "text/plain": [
              "<BarContainer object of 22 artists>"
            ]
          },
          "metadata": {},
          "execution_count": 7
        },
        {
          "output_type": "display_data",
          "data": {
            "text/plain": [
              "<Figure size 432x288 with 1 Axes>"
            ],
            "image/png": "[encoded data removed]"
          },
          "metadata": {
            "needs_background": "light"
          }
        }
      ]
    },
    {
      "cell_type": "code",
      "source": [],
      "metadata": {
        "id": "iuf9VjL-y_ZE"
      },
      "execution_count": null,
      "outputs": []
    }
  ]
}