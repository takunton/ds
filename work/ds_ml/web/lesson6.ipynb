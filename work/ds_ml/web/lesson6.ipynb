{
  "cells": [
    {
      "cell_type": "markdown",
      "metadata": {
        "id": "nxPXDyGCBU2-"
      },
      "source": [
        "## import"
      ]
    },
    {
      "cell_type": "code",
      "execution_count": null,
      "metadata": {
        "id": "lhuE0ZO3BU3A"
      },
      "outputs": [],
      "source": [
        "import numpy as np\n",
        "import pandas as pd\n",
        "import seaborn as sns\n",
        "from sklearn.linear_model import LinearRegression"
      ]
    },
    {
      "cell_type": "markdown",
      "metadata": {
        "id": "UJASjJnNBU3B"
      },
      "source": [
        "## 学習データを準備する"
      ]
    },
    {
      "cell_type": "code",
      "execution_count": null,
      "metadata": {
        "id": "mSvZDDi_BU3C"
      },
      "outputs": [],
      "source": [
        "df = sns.load_dataset('diamonds')\n",
        "df = df[(df[['x', 'y', 'z']] != 0).all(axis=1)]\n",
        "X = df['carat'].values\n",
        "y = df['price'].values"
      ]
    },
    {
      "cell_type": "code",
      "execution_count": null,
      "metadata": {
        "id": "pFJtD4HnBU3C",
        "outputId": "dd9b8cb1-c885-4a7d-dd2b-68a02cc4d658"
      },
      "outputs": [
        {
          "name": "stdout",
          "output_type": "stream",
          "text": [
            "(53920,) (53920,)\n"
          ]
        }
      ],
      "source": [
        "print(X.shape, y.shape)"
      ]
    },
    {
      "cell_type": "code",
      "execution_count": null,
      "metadata": {
        "id": "6-7TEbjMBU3D",
        "outputId": "cdb6fce9-10dc-4be0-af8f-5a71d11dd92d"
      },
      "outputs": [
        {
          "name": "stdout",
          "output_type": "stream",
          "text": [
            "(53920, 1)\n"
          ]
        }
      ],
      "source": [
        "X = X.reshape(-1, 1)\n",
        "print(X.shape)"
      ]
    },
    {
      "cell_type": "markdown",
      "metadata": {
        "id": "w8RwuegCBU3E"
      },
      "source": [
        "## 学習する"
      ]
    },
    {
      "cell_type": "code",
      "execution_count": null,
      "metadata": {
        "id": "ju5dWEdDBU3E",
        "outputId": "d03c31aa-f3c8-48c0-dd64-e8f89590b28b"
      },
      "outputs": [
        {
          "data": {
            "text/plain": [
              "LinearRegression(copy_X=True, fit_intercept=True, n_jobs=None, normalize=False)"
            ]
          },
          "execution_count": 31,
          "metadata": {},
          "output_type": "execute_result"
        }
      ],
      "source": [
        "model = LinearRegression()\n",
        "model.fit(X, y)"
      ]
    },
    {
      "cell_type": "code",
      "execution_count": null,
      "metadata": {
        "id": "5JTVGPUjBU3F",
        "outputId": "a66cbaa0-5550-4cc3-cce7-62559341f0bf"
      },
      "outputs": [
        {
          "name": "stdout",
          "output_type": "stream",
          "text": [
            "[7755.76725406] -2255.7687870379596\n"
          ]
        }
      ],
      "source": [
        "# 切片：coef_\n",
        "# 傾き：intercept_\n",
        "print(model.coef_, model.intercept_)\n",
        "\n",
        "# 正規方程式の結果と同じである"
      ]
    },
    {
      "cell_type": "markdown",
      "metadata": {
        "id": "ujap8dOQBU3F"
      },
      "source": [
        "##  新たなデータで予測をする"
      ]
    },
    {
      "cell_type": "code",
      "execution_count": null,
      "metadata": {
        "id": "CFUxO_PCBU3G",
        "outputId": "79839631-7146-4114-fe8b-4933defaeb32"
      },
      "outputs": [
        {
          "data": {
            "text/plain": [
              "array([13255.76572108, 21011.53297513])"
            ]
          },
          "execution_count": 39,
          "metadata": {},
          "output_type": "execute_result"
        }
      ],
      "source": [
        "# 2, 3カラットの価格予測\n",
        "X_new = np.array([2,3]).reshape(-1, 1)\n",
        "model.predict(X_new)"
      ]
    },
    {
      "cell_type": "markdown",
      "metadata": {
        "id": "vr8CZyWXBU3G"
      },
      "source": [
        "### ポイント"
      ]
    },
    {
      "cell_type": "markdown",
      "metadata": {
        "id": "m1Hzy_N8BU3G"
      },
      "source": [
        "#### 説明変数はあくまでもデータ数m×特徴量数nの形なので，特徴量数が一つの場合でも「.reshape(-1, 1)」で多次元arrayにする."
      ]
    },
    {
      "cell_type": "markdown",
      "metadata": {
        "id": "3dMfpe8VBU3H"
      },
      "source": [
        "#### 予測の結果もリストで得られることに注意．複数のデータを一気に予測できる．"
      ]
    },
    {
      "cell_type": "code",
      "execution_count": null,
      "metadata": {
        "id": "XbYxpfDmBU3H"
      },
      "outputs": [],
      "source": [
        ""
      ]
    }
  ],
  "metadata": {
    "kernelspec": {
      "display_name": "Python 3",
      "language": "python",
      "name": "python3"
    },
    "language_info": {
      "codemirror_mode": {
        "name": "ipython",
        "version": 3
      },
      "file_extension": ".py",
      "mimetype": "text/x-python",
      "name": "python",
      "nbconvert_exporter": "python",
      "pygments_lexer": "ipython3",
      "version": "3.7.6"
    },
    "colab": {
      "name": "lesson5.ipynb",
      "provenance": []
    }
  },
  "nbformat": 4,
  "nbformat_minor": 0
}