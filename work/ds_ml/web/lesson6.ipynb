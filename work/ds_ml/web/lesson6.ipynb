{
  "cells": [
    {
      "cell_type": "markdown",
      "metadata": {
        "id": "nxPXDyGCBU2-"
      },
      "source": [
        "## import"
      ]
    },
    {
      "cell_type": "code",
      "execution_count": 2,
      "metadata": {
        "id": "lhuE0ZO3BU3A"
      },
      "outputs": [],
      "source": [
        "import numpy as np\n",
        "import seaborn as sns\n",
        "from sklearn.linear_model import LinearRegression"
      ]
    },
    {
      "cell_type": "markdown",
      "metadata": {
        "id": "UJASjJnNBU3B"
      },
      "source": [
        "## 学習データを準備する"
      ]
    },
    {
      "cell_type": "code",
      "execution_count": 7,
      "metadata": {
        "id": "mSvZDDi_BU3C"
      },
      "outputs": [],
      "source": [
        "df = sns.load_dataset('diamonds')\n",
        "df = df[(df[['x', 'y', 'z']] != 0).all(axis=1)]\n",
        "X = df['depth'].values\n",
        "y = df['price'].values\n",
        "X = X.reshape(-1, 1)"
      ]
    },
    {
      "cell_type": "markdown",
      "metadata": {
        "id": "w8RwuegCBU3E"
      },
      "source": [
        "## 学習する"
      ]
    },
    {
      "cell_type": "code",
      "execution_count": 8,
      "metadata": {
        "id": "ju5dWEdDBU3E",
        "outputId": "1a23df91-c275-4422-9b73-d43e46398c9e",
        "colab": {
          "base_uri": "https://localhost:8080/"
        }
      },
      "outputs": [
        {
          "output_type": "execute_result",
          "data": {
            "text/plain": [
              "LinearRegression()"
            ]
          },
          "metadata": {},
          "execution_count": 8
        }
      ],
      "source": [
        "model = LinearRegression()\n",
        "model.fit(X, y)"
      ]
    },
    {
      "cell_type": "code",
      "execution_count": 9,
      "metadata": {
        "id": "5JTVGPUjBU3F",
        "outputId": "fe80a40d-eecf-4cbe-c70f-b977e80b5009",
        "colab": {
          "base_uri": "https://localhost:8080/"
        }
      },
      "outputs": [
        {
          "output_type": "stream",
          "name": "stdout",
          "text": [
            "[-29.86685265] 5775.256869212753\n"
          ]
        }
      ],
      "source": [
        "# 切片：intercept_\n",
        "# 傾き：coef_\n",
        "print(model.coef_, model.intercept_)"
      ]
    },
    {
      "cell_type": "markdown",
      "metadata": {
        "id": "ujap8dOQBU3F"
      },
      "source": [
        "##  新たなデータで予測をする"
      ]
    },
    {
      "cell_type": "code",
      "execution_count": null,
      "metadata": {
        "id": "CFUxO_PCBU3G",
        "outputId": "79839631-7146-4114-fe8b-4933defaeb32"
      },
      "outputs": [
        {
          "data": {
            "text/plain": [
              "array([13255.76572108, 21011.53297513])"
            ]
          },
          "execution_count": 39,
          "metadata": {},
          "output_type": "execute_result"
        }
      ],
      "source": [
        "# 2, 3カラットの価格予測\n",
        "X_new = np.array([2,3]).reshape(-1, 1)\n",
        "model.predict(X_new)"
      ]
    },
    {
      "cell_type": "markdown",
      "metadata": {
        "id": "vr8CZyWXBU3G"
      },
      "source": [
        "### ポイント"
      ]
    },
    {
      "cell_type": "markdown",
      "metadata": {
        "id": "m1Hzy_N8BU3G"
      },
      "source": [
        "#### 説明変数はあくまでもデータ数m×特徴量数nの形なので，特徴量数が一つの場合でも「.reshape(-1, 1)」で多次元arrayにする."
      ]
    },
    {
      "cell_type": "markdown",
      "metadata": {
        "id": "3dMfpe8VBU3H"
      },
      "source": [
        "#### 予測の結果もリストで得られることに注意．複数のデータを一気に予測できる．"
      ]
    },
    {
      "cell_type": "code",
      "execution_count": null,
      "metadata": {
        "id": "XbYxpfDmBU3H"
      },
      "outputs": [],
      "source": [
        ""
      ]
    }
  ],
  "metadata": {
    "kernelspec": {
      "display_name": "Python 3",
      "language": "python",
      "name": "python3"
    },
    "language_info": {
      "codemirror_mode": {
        "name": "ipython",
        "version": 3
      },
      "file_extension": ".py",
      "mimetype": "text/x-python",
      "name": "python",
      "nbconvert_exporter": "python",
      "pygments_lexer": "ipython3",
      "version": "3.7.6"
    },
    "colab": {
      "name": "lesson5.ipynb",
      "provenance": []
    }
  },
  "nbformat": 4,
  "nbformat_minor": 0
}