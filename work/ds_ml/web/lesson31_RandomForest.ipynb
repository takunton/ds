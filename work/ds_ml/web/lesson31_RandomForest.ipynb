{
  "nbformat": 4,
  "nbformat_minor": 0,
  "metadata": {
    "colab": {
      "provenance": [],
      "authorship_tag": "ABX9TyME6IFOZRImFxYl4ucCPhqL",
      "include_colab_link": true
    },
    "kernelspec": {
      "name": "python3",
      "display_name": "Python 3"
    },
    "language_info": {
      "name": "python"
    }
  },
  "cells": [
    {
      "cell_type": "markdown",
      "metadata": {
        "id": "view-in-github",
        "colab_type": "text"
      },
      "source": [
        "<a href=\"https://colab.research.google.com/github/takunton/ds/blob/main/work/ds_ml/web/lesson31_RandomForest.ipynb\" target=\"_parent\"><img src=\"https://colab.research.google.com/assets/colab-badge.svg\" alt=\"Open In Colab\"/></a>"
      ]
    },
    {
      "cell_type": "code",
      "execution_count": 15,
      "metadata": {
        "id": "m3ybc8VroMgl"
      },
      "outputs": [],
      "source": [
        "import pandas as pd\n",
        "import matplotlib.pyplot as plt\n",
        "import seaborn as sns\n",
        "\n",
        "# データロード\n",
        "df = sns.load_dataset('titanic')\n",
        "# 欠損値drop\n",
        "df = df.dropna()\n",
        "# 特徴量\n",
        "X = df.loc[:, (df.columns!='survived') & (df.columns!='alive')]\n",
        "# 質的変数をダミー変数化\n",
        "X = pd.get_dummies(X, drop_first=True)\n",
        "# 目的変数\n",
        "y = df['survived']"
      ]
    },
    {
      "cell_type": "code",
      "source": [
        "# モデル作成\n",
        "from sklearn.ensemble import RandomForestClassifier\n",
        "from sklearn import tree\n",
        "# ランダムフォレスト\n",
        "rf_model = RandomForestClassifier(random_state=0, ccp_alpha=0.02)\n",
        "# 決定木\n",
        "dt_model = tree.DecisionTreeClassifier(random_state=0, ccp_alpha=0.02)"
      ],
      "metadata": {
        "id": "7uv1hR5soaEb"
      },
      "execution_count": 3,
      "outputs": []
    },
    {
      "cell_type": "code",
      "source": [
        "# k-fold\n",
        "from sklearn.model_selection import cross_val_score\n",
        "from sklearn.model_selection import RepeatedStratifiedKFold\n",
        "cv = RepeatedStratifiedKFold(n_splits=5, n_repeats=3, random_state=0)\n",
        "\n",
        "# ランダムフォレストスコア\n",
        "rf_scores = cross_val_score(rf_model, X, y, scoring='accuracy', cv=cv, n_jobs=-1)\n",
        "# 決定木スコア\n",
        "dt_scores = cross_val_score(dt_model, X, y, scoring='accuracy', cv=cv, n_jobs=-1)"
      ],
      "metadata": {
        "id": "1CAAw85cou10"
      },
      "execution_count": 9,
      "outputs": []
    },
    {
      "cell_type": "code",
      "source": [
        "# スコアグラフ\n",
        "score_df = pd.DataFrame({'random forest': rf_scores, 'decision tree': dt_scores})\n",
        "sns.barplot(data=score_df)"
      ],
      "metadata": {
        "colab": {
          "base_uri": "https://localhost:8080/",
          "height": 283
        },
        "id": "OvtCb9kOpD34",
        "outputId": "93eb9b94-944c-46b3-8381-6f533547e674"
      },
      "execution_count": 10,
      "outputs": [
        {
          "output_type": "execute_result",
          "data": {
            "text/plain": [
              "<matplotlib.axes._subplots.AxesSubplot at 0x7f06bfcc1f70>"
            ]
          },
          "metadata": {},
          "execution_count": 10
        },
        {
          "output_type": "display_data",
          "data": {
            "text/plain": [
              "<Figure size 432x288 with 1 Axes>"
            ],
            "image/png": "[encoded data removed]"
          },
          "metadata": {
            "needs_background": "light"
          }
        }
      ]
    },
    {
      "cell_type": "code",
      "source": [
        "# pvalue >= 0.05のため有意差なし\n",
        "from scipy import stats\n",
        "stats.ttest_rel(score_df['random forest'], score_df['decision tree'])"
      ],
      "metadata": {
        "colab": {
          "base_uri": "https://localhost:8080/"
        },
        "id": "PujUtYrLpGsO",
        "outputId": "2242458e-b10a-41d0-b14e-4059ce97a245"
      },
      "execution_count": 12,
      "outputs": [
        {
          "output_type": "execute_result",
          "data": {
            "text/plain": [
              "Ttest_relResult(statistic=0.9517151387117377, pvalue=0.35738431321019015)"
            ]
          },
          "metadata": {},
          "execution_count": 12
        }
      ]
    },
    {
      "cell_type": "code",
      "source": [
        "rf_model.fit(X, y)\n",
        "plt.barh(X.columns, rf_model.feature_importances_)"
      ],
      "metadata": {
        "colab": {
          "base_uri": "https://localhost:8080/",
          "height": 283
        },
        "id": "0PISiUr7pVSP",
        "outputId": "a09bbe19-29ce-4163-a8fb-e1584ab2da0a"
      },
      "execution_count": 16,
      "outputs": [
        {
          "output_type": "execute_result",
          "data": {
            "text/plain": [
              "<BarContainer object of 22 artists>"
            ]
          },
          "metadata": {},
          "execution_count": 16
        },
        {
          "output_type": "display_data",
          "data": {
            "text/plain": [
              "<Figure size 432x288 with 1 Axes>"
            ],
            "image/png": "[encoded data removed]"
          },
          "metadata": {
            "needs_background": "light"
          }
        }
      ]
    },
    {
      "cell_type": "code",
      "source": [],
      "metadata": {
        "id": "inBt-lHgpwBA"
      },
      "execution_count": null,
      "outputs": []
    }
  ]
}