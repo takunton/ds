{
 "cells": [
  {
   "cell_type": "markdown",
   "metadata": {},
   "source": [
    "# PCA"
   ]
  },
  {
   "cell_type": "code",
   "execution_count": 1,
   "metadata": {},
   "outputs": [],
   "source": [
    "import numpy as np\n",
    "import pandas as pd\n",
    "import seaborn as sns\n",
    "\n",
    "from sklearn.decomposition import PCA\n",
    "from sklearn.preprocessing import StandardScaler"
   ]
  },
  {
   "cell_type": "markdown",
   "metadata": {},
   "source": [
    "## PCA from scrach"
   ]
  },
  {
   "cell_type": "code",
   "execution_count": 2,
   "metadata": {},
   "outputs": [],
   "source": [
    "# サンプルデータ準備\n",
    "x = np.array([3, 4, 2, 3, 4, 4, 3])\n",
    "y = np.array([2, 3, 5, 5, 3, 2, 3])\n",
    "X = pd.DataFrame({'x': x, 'y': y})"
   ]
  },
  {
   "cell_type": "code",
   "execution_count": 3,
   "metadata": {},
   "outputs": [],
   "source": [
    "def my_pca(X, num_components):\n",
    "    # 1.標準化\n",
    "    scaler = StandardScaler()\n",
    "    X_scaled = scaler.fit_transform(X)\n",
    "    \n",
    "    # 2.分散共分散行列\n",
    "    cov_mat = np.cov(X_scaled, rowvar=False)\n",
    "\n",
    "    # 3.固有ベクトルと固有値\n",
    "    eigen_values, eigen_vectors = np.linalg.eigh(cov_mat)\n",
    "    sorted_index = np.argsort(eigen_values)[::-1]\n",
    "    sorted_values = eigen_values[sorted_index]\n",
    "    sorted_vectors = eigen_vectors[:, sorted_index]\n",
    "    subset_vectors = sorted_vectors[:, :num_components]\n",
    "    \n",
    "    # 4.主成分にXを変換\n",
    "    X_reduced = np.dot(X_scaled, subset_vectors)\n",
    "    \n",
    "    return X_reduced    "
   ]
  },
  {
   "cell_type": "code",
   "execution_count": 4,
   "metadata": {},
   "outputs": [
    {
     "data": {
      "text/plain": [
       "array([[-0.49467432],\n",
       "       [-0.89576549],\n",
       "       [ 2.34350404],\n",
       "       [ 1.33314107],\n",
       "       [-0.89576549],\n",
       "       [-1.50503729],\n",
       "       [ 0.11459748]])"
      ]
     },
     "execution_count": 4,
     "metadata": {},
     "output_type": "execute_result"
    }
   ],
   "source": [
    "my_pca(X,1)"
   ]
  },
  {
   "cell_type": "markdown",
   "metadata": {},
   "source": [
    "## PCA from sklearn"
   ]
  },
  {
   "cell_type": "code",
   "execution_count": 5,
   "metadata": {},
   "outputs": [
    {
     "data": {
      "text/plain": [
       "array([[-0.49467432],\n",
       "       [-0.89576549],\n",
       "       [ 2.34350404],\n",
       "       [ 1.33314107],\n",
       "       [-0.89576549],\n",
       "       [-1.50503729],\n",
       "       [ 0.11459748]])"
      ]
     },
     "execution_count": 5,
     "metadata": {},
     "output_type": "execute_result"
    }
   ],
   "source": [
    "# 標準化\n",
    "scaler = StandardScaler()\n",
    "X_scaled = scaler.fit_transform(X)\n",
    "\n",
    "# pca\n",
    "pca = PCA(n_components=1)\n",
    "pca.fit_transform(X_scaled)"
   ]
  },
  {
   "cell_type": "markdown",
   "metadata": {},
   "source": [
    "## PCA iris"
   ]
  },
  {
   "cell_type": "code",
   "execution_count": 6,
   "metadata": {},
   "outputs": [],
   "source": [
    "# データ準備\n",
    "df = sns.load_dataset('iris')\n",
    "\n",
    "# 変数定義\n",
    "y_col = 'species'\n",
    "X = df.loc[:, df.columns!=y_col] #X = df.drop(columns=[y_col])でもOK\n",
    "y = df[y_col].values\n",
    "\n",
    "# 標準化\n",
    "X_scaled = StandardScaler().fit_transform(X)\n",
    "\n",
    "# pca\n",
    "X_pc = PCA(n_components=2).fit_transform(X_scaled)"
   ]
  },
  {
   "cell_type": "code",
   "execution_count": null,
   "metadata": {},
   "outputs": [
    {
     "data": {
      "text/plain": [
       "<matplotlib.axes._subplots.AxesSubplot at 0x7effc302f550>"
      ]
     },
     "execution_count": 8,
     "metadata": {},
     "output_type": "execute_result"
    }
   ],
   "source": [
    "# 主成分分析したdfと目的変数を結合\n",
    "df_pc = pd.DataFrame(np.concatenate([X_pc, y.reshape(-1,1)], axis=1)\n",
    "                    ,columns = ['first_component', 'second_component', 'species'])\n",
    "# 散布図\n",
    "sns.scatterplot(x='first_component', y='second_component', hue='species', data=df_pc)"
   ]
  },
  {
   "cell_type": "code",
   "execution_count": null,
   "metadata": {},
   "outputs": [],
   "source": []
  }
 ],
 "metadata": {
  "kernelspec": {
   "display_name": "Python 3",
   "language": "python",
   "name": "python3"
  },
  "language_info": {
   "codemirror_mode": {
    "name": "ipython",
    "version": 3
   },
   "file_extension": ".py",
   "mimetype": "text/x-python",
   "name": "python",
   "nbconvert_exporter": "python",
   "pygments_lexer": "ipython3",
   "version": "3.7.6"
  }
 },
 "nbformat": 4,
 "nbformat_minor": 4
}
