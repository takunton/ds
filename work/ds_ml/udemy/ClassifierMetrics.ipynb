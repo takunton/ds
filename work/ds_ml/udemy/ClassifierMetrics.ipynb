{
 "cells": [
  {
   "cell_type": "markdown",
   "metadata": {},
   "source": [
    "# 分類器の精度指標"
   ]
  },
  {
   "cell_type": "code",
   "execution_count": 1,
   "metadata": {},
   "outputs": [],
   "source": [
    "import numpy as np\n",
    "import pandas as pd\n",
    "import matplotlib.pyplot as plt\n",
    "import seaborn as sns\n",
    "\n",
    "from sklearn.preprocessing import label_binarize\n",
    "from sklearn.linear_model import LogisticRegression\n",
    "from sklearn.metrics import confusion_matrix, ConfusionMatrixDisplay,accuracy_score,precision_score,recall_score,precision_recall_curve,f1_score,roc_curve,auc\n",
    "from sklearn.model_selection import train_test_split\n",
    "\n",
    "from scipy.stats import hmean"
   ]
  },
  {
   "cell_type": "code",
   "execution_count": 2,
   "metadata": {},
   "outputs": [],
   "source": [
    "# データロード\n",
    "df = sns.load_dataset('iris')\n",
    "\n",
    "y_col = 'species'\n",
    "X = df.drop(columns=[y_col])\n",
    "y = df[y_col]"
   ]
  },
  {
   "cell_type": "code",
   "execution_count": 3,
   "metadata": {},
   "outputs": [],
   "source": [
    "# hold-out\n",
    "X_train, X_test, y_train, y_test = train_test_split(X, y, test_size=0.3, random_state=0)"
   ]
  },
  {
   "cell_type": "code",
   "execution_count": 4,
   "metadata": {},
   "outputs": [
    {
     "data": {
      "text/plain": [
       "LogisticRegression(C=1.0, class_weight=None, dual=False, fit_intercept=True,\n",
       "                   intercept_scaling=1, l1_ratio=None, max_iter=100,\n",
       "                   multi_class='auto', n_jobs=None, penalty='none',\n",
       "                   random_state=None, solver='lbfgs', tol=0.0001, verbose=0,\n",
       "                   warm_start=False)"
      ]
     },
     "execution_count": 4,
     "metadata": {},
     "output_type": "execute_result"
    }
   ],
   "source": [
    "# 学習\n",
    "model = LogisticRegression(penalty='none')\n",
    "model.fit(X_train, y_train)"
   ]
  },
  {
   "cell_type": "code",
   "execution_count": 5,
   "metadata": {},
   "outputs": [],
   "source": [
    "# 予測\n",
    "y_pred = model.predict(X_test)"
   ]
  },
  {
   "cell_type": "markdown",
   "metadata": {},
   "source": [
    "## 混合行列"
   ]
  },
  {
   "cell_type": "code",
   "execution_count": 6,
   "metadata": {},
   "outputs": [],
   "source": [
    "# 「行：正解、列：予測」を意味\n",
    "cm = confusion_matrix(y_test, y_pred)"
   ]
  },
  {
   "cell_type": "code",
   "execution_count": 7,
   "metadata": {},
   "outputs": [
    {
     "data": {
      "text/plain": [
       "<sklearn.metrics._plot.confusion_matrix.ConfusionMatrixDisplay at 0x7f21b346be10>"
      ]
     },
     "execution_count": 7,
     "metadata": {},
     "output_type": "execute_result"
    },
    {
     "data": {
      "image/png": "[encoded data removed]",
      "text/plain": [
       "<Figure size 432x288 with 2 Axes>"
      ]
     },
     "metadata": {
      "needs_background": "light"
     },
     "output_type": "display_data"
    }
   ],
   "source": [
    "# 混合行列表示\n",
    "disp = ConfusionMatrixDisplay(confusion_matrix=cm, display_labels=model.classes_)\n",
    "disp.plot()"
   ]
  },
  {
   "cell_type": "markdown",
   "metadata": {},
   "source": [
    "## Accuracy（正解率）"
   ]
  },
  {
   "cell_type": "code",
   "execution_count": 8,
   "metadata": {},
   "outputs": [
    {
     "data": {
      "text/plain": [
       "0.5"
      ]
     },
     "execution_count": 8,
     "metadata": {},
     "output_type": "execute_result"
    }
   ],
   "source": [
    "y_true_ac = np.array([1,1,0,1,0,0,1,1])\n",
    "y_pred_ac = np.array([1,1,1,0,0,1,0,1])\n",
    "accuracy_score(y_true_ac, y_pred_ac)"
   ]
  },
  {
   "cell_type": "markdown",
   "metadata": {},
   "source": [
    "## Precision（適合率）"
   ]
  },
  {
   "cell_type": "code",
   "execution_count": 9,
   "metadata": {},
   "outputs": [
    {
     "data": {
      "text/plain": [
       "0.6"
      ]
     },
     "execution_count": 9,
     "metadata": {},
     "output_type": "execute_result"
    }
   ],
   "source": [
    "y_true_pr = np.array([1,1,0,1,0,0,1,1])\n",
    "y_pred_pr = np.array([1,1,1,0,0,1,0,1])\n",
    "precision_score(y_true_pr, y_pred_pr)"
   ]
  },
  {
   "cell_type": "markdown",
   "metadata": {},
   "source": [
    "## Recall（再現率）"
   ]
  },
  {
   "cell_type": "code",
   "execution_count": 10,
   "metadata": {},
   "outputs": [
    {
     "data": {
      "text/plain": [
       "0.6"
      ]
     },
     "execution_count": 10,
     "metadata": {},
     "output_type": "execute_result"
    }
   ],
   "source": [
    "y_true_rec = np.array([1,1,0,1,0,0,1,1])\n",
    "y_pred_rec = np.array([1,1,1,0,0,1,0,1])\n",
    "recall_score(y_true_rec, y_pred_rec)"
   ]
  },
  {
   "cell_type": "markdown",
   "metadata": {},
   "source": [
    "## Specificity（特異度）"
   ]
  },
  {
   "cell_type": "code",
   "execution_count": 11,
   "metadata": {},
   "outputs": [],
   "source": [
    "y_true_sp = np.array([1,1,0,1,0,0,1,1])\n",
    "y_pred_sp = np.array([1,1,1,0,0,1,0,1])"
   ]
  },
  {
   "cell_type": "code",
   "execution_count": 12,
   "metadata": {},
   "outputs": [
    {
     "data": {
      "text/plain": [
       "0.3333333333333333"
      ]
     },
     "execution_count": 12,
     "metadata": {},
     "output_type": "execute_result"
    }
   ],
   "source": [
    "recall_score(y_true_sp!=1, y_pred_sp!=1)"
   ]
  },
  {
   "cell_type": "markdown",
   "metadata": {},
   "source": [
    "## 他クラス評価におけるPrecision"
   ]
  },
  {
   "cell_type": "code",
   "execution_count": 13,
   "metadata": {},
   "outputs": [
    {
     "data": {
      "text/plain": [
       "array(['setosa', 'versicolor', 'virginica'], dtype=object)"
      ]
     },
     "execution_count": 13,
     "metadata": {},
     "output_type": "execute_result"
    }
   ],
   "source": [
    "model.classes_"
   ]
  },
  {
   "cell_type": "code",
   "execution_count": 14,
   "metadata": {},
   "outputs": [
    {
     "data": {
      "text/plain": [
       "array([1.        , 0.94444444, 0.90909091])"
      ]
     },
     "execution_count": 14,
     "metadata": {},
     "output_type": "execute_result"
    }
   ],
   "source": [
    "# avearage none\n",
    "precision_score(y_test,y_pred,average=None)"
   ]
  },
  {
   "cell_type": "code",
   "execution_count": 15,
   "metadata": {},
   "outputs": [
    {
     "data": {
      "text/plain": [
       "0.9511784511784511"
      ]
     },
     "execution_count": 15,
     "metadata": {},
     "output_type": "execute_result"
    }
   ],
   "source": [
    "# avearage macro\n",
    "precision_score(y_test,y_pred,average='macro')"
   ]
  },
  {
   "cell_type": "code",
   "execution_count": 16,
   "metadata": {},
   "outputs": [
    {
     "data": {
      "text/plain": [
       "0.9555555555555556"
      ]
     },
     "execution_count": 16,
     "metadata": {},
     "output_type": "execute_result"
    }
   ],
   "source": [
    "# avearage micro\n",
    "precision_score(y_test,y_pred,average='micro')"
   ]
  },
  {
   "cell_type": "code",
   "execution_count": 17,
   "metadata": {},
   "outputs": [
    {
     "data": {
      "text/plain": [
       "0.9555555555555556"
      ]
     },
     "execution_count": 17,
     "metadata": {},
     "output_type": "execute_result"
    }
   ],
   "source": [
    "# average precision micro = accurancy\n",
    "accuracy_score(y_test,y_pred)"
   ]
  },
  {
   "cell_type": "markdown",
   "metadata": {},
   "source": [
    "## Precision-Recall Curve"
   ]
  },
  {
   "cell_type": "code",
   "execution_count": 18,
   "metadata": {},
   "outputs": [
    {
     "data": {
      "text/html": [
       "<div>\n",
       "<style scoped>\n",
       "    .dataframe tbody tr th:only-of-type {\n",
       "        vertical-align: middle;\n",
       "    }\n",
       "\n",
       "    .dataframe tbody tr th {\n",
       "        vertical-align: top;\n",
       "    }\n",
       "\n",
       "    .dataframe thead th {\n",
       "        text-align: right;\n",
       "    }\n",
       "</style>\n",
       "<table border=\"1\" class=\"dataframe\">\n",
       "  <thead>\n",
       "    <tr style=\"text-align: right;\">\n",
       "      <th></th>\n",
       "      <th>age</th>\n",
       "      <th>resting_blood_pressure</th>\n",
       "      <th>cholesterol</th>\n",
       "      <th>max_heart_rate_achieved</th>\n",
       "      <th>st_depression</th>\n",
       "      <th>num_major_vessels</th>\n",
       "      <th>target</th>\n",
       "      <th>sex_male</th>\n",
       "      <th>chest_pain_type_atypical angina</th>\n",
       "      <th>chest_pain_type_non-anginal pain</th>\n",
       "      <th>chest_pain_type_typical angina</th>\n",
       "      <th>fasting_blood_sugar_lower than 120mg/ml</th>\n",
       "      <th>rest_electrocardiographic_left ventricular hypertrophy</th>\n",
       "      <th>rest_electrocardiographic_normal</th>\n",
       "      <th>exercise_induced_angina_yes</th>\n",
       "      <th>st_slope_flat</th>\n",
       "      <th>st_slope_upsloping</th>\n",
       "      <th>thalassemia_normal</th>\n",
       "      <th>thalassemia_reversable defect</th>\n",
       "    </tr>\n",
       "  </thead>\n",
       "  <tbody>\n",
       "    <tr>\n",
       "      <th>0</th>\n",
       "      <td>52</td>\n",
       "      <td>125</td>\n",
       "      <td>212</td>\n",
       "      <td>168</td>\n",
       "      <td>1.0</td>\n",
       "      <td>2</td>\n",
       "      <td>0</td>\n",
       "      <td>1</td>\n",
       "      <td>0</td>\n",
       "      <td>0</td>\n",
       "      <td>1</td>\n",
       "      <td>1</td>\n",
       "      <td>0</td>\n",
       "      <td>0</td>\n",
       "      <td>0</td>\n",
       "      <td>0</td>\n",
       "      <td>0</td>\n",
       "      <td>0</td>\n",
       "      <td>1</td>\n",
       "    </tr>\n",
       "    <tr>\n",
       "      <th>1</th>\n",
       "      <td>53</td>\n",
       "      <td>140</td>\n",
       "      <td>203</td>\n",
       "      <td>155</td>\n",
       "      <td>3.1</td>\n",
       "      <td>0</td>\n",
       "      <td>0</td>\n",
       "      <td>1</td>\n",
       "      <td>0</td>\n",
       "      <td>0</td>\n",
       "      <td>1</td>\n",
       "      <td>0</td>\n",
       "      <td>0</td>\n",
       "      <td>1</td>\n",
       "      <td>1</td>\n",
       "      <td>0</td>\n",
       "      <td>1</td>\n",
       "      <td>0</td>\n",
       "      <td>1</td>\n",
       "    </tr>\n",
       "    <tr>\n",
       "      <th>2</th>\n",
       "      <td>70</td>\n",
       "      <td>145</td>\n",
       "      <td>174</td>\n",
       "      <td>125</td>\n",
       "      <td>2.6</td>\n",
       "      <td>0</td>\n",
       "      <td>0</td>\n",
       "      <td>1</td>\n",
       "      <td>0</td>\n",
       "      <td>0</td>\n",
       "      <td>1</td>\n",
       "      <td>1</td>\n",
       "      <td>0</td>\n",
       "      <td>0</td>\n",
       "      <td>1</td>\n",
       "      <td>0</td>\n",
       "      <td>1</td>\n",
       "      <td>0</td>\n",
       "      <td>1</td>\n",
       "    </tr>\n",
       "    <tr>\n",
       "      <th>3</th>\n",
       "      <td>61</td>\n",
       "      <td>148</td>\n",
       "      <td>203</td>\n",
       "      <td>161</td>\n",
       "      <td>0.0</td>\n",
       "      <td>1</td>\n",
       "      <td>0</td>\n",
       "      <td>1</td>\n",
       "      <td>0</td>\n",
       "      <td>0</td>\n",
       "      <td>1</td>\n",
       "      <td>1</td>\n",
       "      <td>0</td>\n",
       "      <td>0</td>\n",
       "      <td>0</td>\n",
       "      <td>0</td>\n",
       "      <td>0</td>\n",
       "      <td>0</td>\n",
       "      <td>1</td>\n",
       "    </tr>\n",
       "    <tr>\n",
       "      <th>4</th>\n",
       "      <td>62</td>\n",
       "      <td>138</td>\n",
       "      <td>294</td>\n",
       "      <td>106</td>\n",
       "      <td>1.9</td>\n",
       "      <td>3</td>\n",
       "      <td>0</td>\n",
       "      <td>0</td>\n",
       "      <td>0</td>\n",
       "      <td>0</td>\n",
       "      <td>1</td>\n",
       "      <td>0</td>\n",
       "      <td>0</td>\n",
       "      <td>0</td>\n",
       "      <td>0</td>\n",
       "      <td>1</td>\n",
       "      <td>0</td>\n",
       "      <td>1</td>\n",
       "      <td>0</td>\n",
       "    </tr>\n",
       "  </tbody>\n",
       "</table>\n",
       "</div>"
      ],
      "text/plain": [
       "   age  resting_blood_pressure  cholesterol  max_heart_rate_achieved  \\\n",
       "0   52                     125          212                      168   \n",
       "1   53                     140          203                      155   \n",
       "2   70                     145          174                      125   \n",
       "3   61                     148          203                      161   \n",
       "4   62                     138          294                      106   \n",
       "\n",
       "   st_depression  num_major_vessels  target  sex_male  \\\n",
       "0            1.0                  2       0         1   \n",
       "1            3.1                  0       0         1   \n",
       "2            2.6                  0       0         1   \n",
       "3            0.0                  1       0         1   \n",
       "4            1.9                  3       0         0   \n",
       "\n",
       "   chest_pain_type_atypical angina  chest_pain_type_non-anginal pain  \\\n",
       "0                                0                                 0   \n",
       "1                                0                                 0   \n",
       "2                                0                                 0   \n",
       "3                                0                                 0   \n",
       "4                                0                                 0   \n",
       "\n",
       "   chest_pain_type_typical angina  fasting_blood_sugar_lower than 120mg/ml  \\\n",
       "0                               1                                        1   \n",
       "1                               1                                        0   \n",
       "2                               1                                        1   \n",
       "3                               1                                        1   \n",
       "4                               1                                        0   \n",
       "\n",
       "   rest_electrocardiographic_left ventricular hypertrophy  \\\n",
       "0                                                  0        \n",
       "1                                                  0        \n",
       "2                                                  0        \n",
       "3                                                  0        \n",
       "4                                                  0        \n",
       "\n",
       "   rest_electrocardiographic_normal  exercise_induced_angina_yes  \\\n",
       "0                                 0                            0   \n",
       "1                                 1                            1   \n",
       "2                                 0                            1   \n",
       "3                                 0                            0   \n",
       "4                                 0                            0   \n",
       "\n",
       "   st_slope_flat  st_slope_upsloping  thalassemia_normal  \\\n",
       "0              0                   0                   0   \n",
       "1              0                   1                   0   \n",
       "2              0                   1                   0   \n",
       "3              0                   0                   0   \n",
       "4              1                   0                   1   \n",
       "\n",
       "   thalassemia_reversable defect  \n",
       "0                              1  \n",
       "1                              1  \n",
       "2                              1  \n",
       "3                              1  \n",
       "4                              0  "
      ]
     },
     "execution_count": 18,
     "metadata": {},
     "output_type": "execute_result"
    }
   ],
   "source": [
    "df = pd.read_csv('data/heart_preprocessed.csv')\n",
    "df.head()"
   ]
  },
  {
   "cell_type": "code",
   "execution_count": 19,
   "metadata": {},
   "outputs": [],
   "source": [
    "# 目的変数、説明変数\n",
    "y_col = 'target'\n",
    "X = df.drop(columns=[y_col])\n",
    "y = df[y_col]\n",
    "\n",
    "# hold-out\n",
    "X_train, X_test, y_train, y_test = train_test_split(X, y, test_size=0.3, random_state=0)\n",
    "\n",
    "# 学習\n",
    "model = LogisticRegression(solver='liblinear')\n",
    "model.fit(X_train, y_train)\n",
    "\n",
    "# 予測（確率）\n",
    "y_pred_proba = model.predict_proba(X_test)"
   ]
  },
  {
   "cell_type": "code",
   "execution_count": 20,
   "metadata": {},
   "outputs": [],
   "source": [
    "precision, recall, thresholds = precision_recall_curve(y_test, y_pred_proba[:,1])"
   ]
  },
  {
   "cell_type": "code",
   "execution_count": 21,
   "metadata": {},
   "outputs": [
    {
     "data": {
      "text/plain": [
       "array([0.5509434 , 0.54924242, 0.55343511, 0.55555556, 0.55984556,\n",
       "       0.5620155 , 0.56640625, 0.56862745, 0.57312253, 0.58      ])"
      ]
     },
     "execution_count": 21,
     "metadata": {},
     "output_type": "execute_result"
    }
   ],
   "source": [
    "precision[:10]"
   ]
  },
  {
   "cell_type": "code",
   "execution_count": 22,
   "metadata": {},
   "outputs": [
    {
     "data": {
      "text/plain": [
       "array([1.        , 0.99315068, 0.99315068, 0.99315068, 0.99315068,\n",
       "       0.99315068, 0.99315068, 0.99315068, 0.99315068, 0.99315068])"
      ]
     },
     "execution_count": 22,
     "metadata": {},
     "output_type": "execute_result"
    }
   ],
   "source": [
    "recall[:10]"
   ]
  },
  {
   "cell_type": "code",
   "execution_count": 23,
   "metadata": {},
   "outputs": [
    {
     "data": {
      "text/plain": [
       "array([0.01653742, 0.01660076, 0.0168656 , 0.01737142, 0.01760092,\n",
       "       0.01804646, 0.02207049, 0.02247327, 0.02319608, 0.02390539])"
      ]
     },
     "execution_count": 23,
     "metadata": {},
     "output_type": "execute_result"
    }
   ],
   "source": [
    "thresholds[:10]"
   ]
  },
  {
   "cell_type": "code",
   "execution_count": 24,
   "metadata": {},
   "outputs": [
    {
     "data": {
      "text/plain": [
       "array([[0.49520585, 0.50479415],\n",
       "       [0.28366802, 0.71633198],\n",
       "       [0.99732492, 0.00267508],\n",
       "       [0.06897633, 0.93102367],\n",
       "       [0.47851468, 0.52148532],\n",
       "       [0.99002332, 0.00997668],\n",
       "       [0.66307864, 0.33692136],\n",
       "       [0.7927538 , 0.2072462 ],\n",
       "       [0.3021324 , 0.6978676 ],\n",
       "       [0.3021324 , 0.6978676 ]])"
      ]
     },
     "execution_count": 24,
     "metadata": {},
     "output_type": "execute_result"
    }
   ],
   "source": [
    "y_pred_proba[:10]"
   ]
  },
  {
   "cell_type": "code",
   "execution_count": 25,
   "metadata": {},
   "outputs": [
    {
     "data": {
      "image/png": "[encoded data removed]",
      "text/plain": [
       "<Figure size 432x288 with 1 Axes>"
      ]
     },
     "metadata": {
      "needs_background": "light"
     },
     "output_type": "display_data"
    }
   ],
   "source": [
    "# 回帰直線\n",
    "plt.plot(recall, precision)\n",
    "plt.xlabel('recall')\n",
    "plt.ylabel('precision')\n",
    "plt.title('Precision Recall Curve')\n",
    "plt.show()"
   ]
  },
  {
   "cell_type": "code",
   "execution_count": 26,
   "metadata": {},
   "outputs": [
    {
     "data": {
      "text/plain": [
       "array([0, 1])"
      ]
     },
     "execution_count": 26,
     "metadata": {},
     "output_type": "execute_result"
    }
   ],
   "source": [
    "model.classes_"
   ]
  },
  {
   "cell_type": "markdown",
   "metadata": {},
   "source": [
    "## F値"
   ]
  },
  {
   "cell_type": "code",
   "execution_count": 27,
   "metadata": {},
   "outputs": [
    {
     "data": {
      "text/plain": [
       "0.4444444444444445"
      ]
     },
     "execution_count": 27,
     "metadata": {},
     "output_type": "execute_result"
    }
   ],
   "source": [
    "y_true_f = [1, 0, 0, 1, 0, 0, 1, 1]\n",
    "y_pred_f = [1, 1, 1, 0, 0, 1, 0, 1]\n",
    "\n",
    "f1_score(y_true_f, y_pred_f)"
   ]
  },
  {
   "cell_type": "markdown",
   "metadata": {},
   "source": [
    "### 調和平均ver"
   ]
  },
  {
   "cell_type": "code",
   "execution_count": 28,
   "metadata": {},
   "outputs": [
    {
     "data": {
      "text/plain": [
       "0.4444444444444444"
      ]
     },
     "execution_count": 28,
     "metadata": {},
     "output_type": "execute_result"
    }
   ],
   "source": [
    "rec = recall_score(y_true_f, y_pred_f)\n",
    "pre = precision_score(y_true_f, y_pred_f)\n",
    "\n",
    "# recallとprecisionの調和平均でF値を計算\n",
    "hmean([rec, pre])"
   ]
  },
  {
   "cell_type": "markdown",
   "metadata": {},
   "source": [
    "## Precision_Recall_F-value"
   ]
  },
  {
   "cell_type": "code",
   "execution_count": 29,
   "metadata": {},
   "outputs": [
    {
     "data": {
      "image/png": "[encoded data removed]",
      "text/plain": [
       "<Figure size 432x288 with 1 Axes>"
      ]
     },
     "metadata": {
      "needs_background": "light"
     },
     "output_type": "display_data"
    },
    {
     "name": "stdout",
     "output_type": "stream",
     "text": [
      "66th thresholds=(0.44164670248434684) is the highest f1_score=0.8626198083067093\n"
     ]
    }
   ],
   "source": [
    "# 適合率、再現率、閾値を取得\n",
    "precision, recall, thresholds = precision_recall_curve(y_test, y_pred_proba[:,1])\n",
    "\n",
    "# F値を計算\n",
    "#リスト内方表記\n",
    "f1 = [hmean([p, r]) for p, r in list(zip(precision, recall))]\n",
    "# ndarray\n",
    "# f1 = hmean([recall, precision])\n",
    "\n",
    "# グラフ描画\n",
    "plt.plot(thresholds, precision[:-1], label='precision')\n",
    "plt.plot(thresholds, recall[:-1], label='recall')\n",
    "plt.plot(thresholds, f1[:-1], label='f1 score')\n",
    "plt.xlabel('thresholds')\n",
    "plt.title('Precision_Recall_F-value')\n",
    "plt.legend()\n",
    "plt.show()\n",
    "\n",
    "# F値最大\n",
    "print(f'{np.argmax(f1)}th thresholds=({thresholds[np.argmax(f1)]}) is the highest f1_score={np.max(f1)}')"
   ]
  },
  {
   "cell_type": "code",
   "execution_count": 30,
   "metadata": {},
   "outputs": [
    {
     "name": "stdout",
     "output_type": "stream",
     "text": [
      "0.44164670248434684\n"
     ]
    }
   ],
   "source": [
    "# F値最大要素\n",
    "f_max_idx = np.argmax(f1)\n",
    "print(thresholds[np.argmax(f1)])"
   ]
  },
  {
   "cell_type": "markdown",
   "metadata": {},
   "source": [
    "## ROCとAUC"
   ]
  },
  {
   "cell_type": "code",
   "execution_count": 31,
   "metadata": {},
   "outputs": [
    {
     "data": {
      "image/png": "[encoded data removed]",
      "text/plain": [
       "<Figure size 432x288 with 1 Axes>"
      ]
     },
     "metadata": {
      "needs_background": "light"
     },
     "output_type": "display_data"
    },
    {
     "name": "stdout",
     "output_type": "stream",
     "text": [
      "ACU=0.919542785981142\n"
     ]
    }
   ],
   "source": [
    "fpr, tpr, thresholds = roc_curve(y_test, y_pred_proba[:,1])\n",
    "\n",
    "# グラフ描画\n",
    "plt.plot(fpr, tpr)\n",
    "plt.xlabel('1-Specificity(FPR)')\n",
    "plt.ylabel('Sensitivity(TPR)')\n",
    "plt.title('ROC')\n",
    "plt.show()\n",
    "\n",
    "print(f'ACU={auc(fpr, tpr)}')"
   ]
  },
  {
   "cell_type": "code",
   "execution_count": 32,
   "metadata": {},
   "outputs": [
    {
     "data": {
      "text/plain": [
       "array([1.99179934e+00, 9.91799335e-01, 9.77815971e-01, 9.77248698e-01,\n",
       "       9.76701317e-01, 9.66978762e-01, 9.65701767e-01, 9.61163389e-01,\n",
       "       9.60196664e-01, 9.59310567e-01, 9.58933799e-01, 9.55109061e-01,\n",
       "       9.50221733e-01, 9.40079736e-01, 9.37938455e-01, 9.37695491e-01,\n",
       "       9.37266301e-01, 9.34996696e-01, 9.31023674e-01, 9.30490679e-01,\n",
       "       9.26428078e-01, 9.02334831e-01, 8.89692701e-01, 8.87804300e-01,\n",
       "       8.83837865e-01, 8.79787044e-01, 8.75057201e-01, 8.66226983e-01,\n",
       "       8.61966173e-01, 8.41483431e-01, 8.39524444e-01, 8.32565389e-01,\n",
       "       8.13354420e-01, 8.09444639e-01, 7.92649569e-01, 7.91801726e-01,\n",
       "       7.84178998e-01, 7.75249591e-01, 7.66183775e-01, 7.65680150e-01,\n",
       "       7.47198847e-01, 7.46281809e-01, 7.30154086e-01, 7.24235270e-01,\n",
       "       7.16331984e-01, 6.97867602e-01, 6.96789861e-01, 6.95073004e-01,\n",
       "       6.94675245e-01, 6.94637319e-01, 6.91861091e-01, 6.66386755e-01,\n",
       "       6.50636857e-01, 6.36071150e-01, 6.20972894e-01, 6.19280145e-01,\n",
       "       6.05010515e-01, 5.80974060e-01, 5.73123461e-01, 5.60497993e-01,\n",
       "       5.55859098e-01, 5.42709274e-01, 5.41487317e-01, 5.40649257e-01,\n",
       "       5.24156705e-01, 5.21485316e-01, 5.04794146e-01, 4.94423074e-01,\n",
       "       4.90550209e-01, 4.41646702e-01, 3.62769622e-01, 3.36921360e-01,\n",
       "       3.34298998e-01, 3.26226298e-01, 3.15425099e-01, 3.13789001e-01,\n",
       "       2.60915385e-01, 2.49514863e-01, 2.44973262e-01, 2.12147293e-01,\n",
       "       2.08111187e-01, 1.96685215e-01, 1.92200679e-01, 1.87567789e-01,\n",
       "       1.69647444e-01, 1.68981443e-01, 1.50915462e-01, 1.18172836e-01,\n",
       "       1.10640617e-01, 1.05508537e-01, 9.70616147e-02, 9.19223568e-02,\n",
       "       8.44122469e-02, 7.84966647e-02, 7.67469333e-02, 7.08316070e-02,\n",
       "       4.86904198e-02, 4.11309109e-02, 3.89352382e-02, 3.88847355e-02,\n",
       "       3.61414269e-02, 3.52190876e-02, 3.39203370e-02, 3.21487659e-02,\n",
       "       2.94156436e-02, 2.93666732e-02, 2.85675199e-02, 2.63697849e-02,\n",
       "       2.39053867e-02, 2.31960766e-02, 2.24732744e-02, 2.20704863e-02,\n",
       "       1.80464618e-02, 1.76009182e-02, 1.73714156e-02, 1.68656026e-02,\n",
       "       1.66007566e-02, 1.65374196e-02, 1.48190350e-02, 1.35573750e-02,\n",
       "       1.17177223e-02, 9.97668044e-03, 7.60818037e-03, 6.65167310e-03,\n",
       "       4.99351243e-03, 4.33030871e-03, 3.33924919e-03, 3.12424273e-03,\n",
       "       2.01324397e-03, 1.74840647e-03, 1.57548935e-03, 3.56869583e-04])"
      ]
     },
     "execution_count": 32,
     "metadata": {},
     "output_type": "execute_result"
    }
   ],
   "source": [
    "# 陽性とするthresholds（閾値）が増加\n",
    "# 　正しく陽性となるデータが増加\n",
    "# 　誤って陽性となるデータも増加\n",
    "thresholds"
   ]
  },
  {
   "cell_type": "markdown",
   "metadata": {},
   "source": [
    "## 他クラスROC"
   ]
  },
  {
   "cell_type": "code",
   "execution_count": 33,
   "metadata": {},
   "outputs": [],
   "source": [
    "# データロード\n",
    "df = sns.load_dataset('iris')\n",
    "\n",
    "# 目的変数、説明変数\n",
    "y_col = 'species'\n",
    "X = df.drop(columns=[y_col])\n",
    "y = df[y_col]\n",
    "\n",
    "# hold-out\n",
    "X_train, X_test, y_train, y_test = train_test_split(X, y, test_size=0.3, random_state=0)\n",
    "\n",
    "# 学習\n",
    "model = LogisticRegression()\n",
    "model.fit(X_train, y_train)\n",
    "\n",
    "# 予測（確率）\n",
    "y_pred_proba = model.predict_proba(X_test)"
   ]
  },
  {
   "cell_type": "markdown",
   "metadata": {},
   "source": [
    "### macro平均"
   ]
  },
  {
   "cell_type": "code",
   "execution_count": 34,
   "metadata": {},
   "outputs": [],
   "source": [
    "# one_hot\n",
    "y_test_one_hot = label_binarize(y_test, classes=model.classes_)\n",
    "\n",
    "# roc計算\n",
    "fpr = {}\n",
    "tpr = {}\n",
    "roc_auc = {}\n",
    "n_classes = len(model.classes_)\n",
    "for i in range(n_classes):\n",
    "    fpr[i], tpr[i], _ = roc_curve(y_test_one_hot[:, i], y_pred_proba[:, i])\n",
    "    roc_auc[i] = auc(fpr[i], tpr[i])"
   ]
  },
  {
   "cell_type": "code",
   "execution_count": 35,
   "metadata": {},
   "outputs": [
    {
     "data": {
      "image/png": "[encoded data removed]",
      "text/plain": [
       "<Figure size 432x288 with 1 Axes>"
      ]
     },
     "metadata": {
      "needs_background": "light"
     },
     "output_type": "display_data"
    }
   ],
   "source": [
    "# それぞれのクラスのROC\n",
    "for i in fpr.keys():\n",
    "    plt.plot(fpr[i], tpr[i], label=f'class:{i}')\n",
    "    plt.legend()"
   ]
  },
  {
   "cell_type": "code",
   "execution_count": 36,
   "metadata": {},
   "outputs": [
    {
     "data": {
      "text/plain": [
       "array([0.        , 1.        , 2.        , 2.66666667, 3.33333333,\n",
       "       4.        , 6.        ])"
      ]
     },
     "execution_count": 36,
     "metadata": {},
     "output_type": "execute_result"
    }
   ],
   "source": [
    "# 線形補完（np.interp）\n",
    "all_x = np.arange(7)\n",
    "data_x = [0, 2, 5, 6]\n",
    "data_y = [0, 2, 4, 6]\n",
    "# index:1,3,5の要素を補完\n",
    "np.interp(all_x, data_x, data_y)"
   ]
  },
  {
   "cell_type": "code",
   "execution_count": 37,
   "metadata": {},
   "outputs": [],
   "source": [
    "# 必要なxのリスト：各クラスのfprのユニーク値\n",
    "all_fpr = np.unique(np.concatenate([fpr[i] for i in fpr]))\n",
    "\n",
    "# 線形補完\n",
    "mean_tpr = np.zeros_like(all_fpr)\n",
    "for i in range(n_classes):\n",
    "    mean_tpr += np.interp(all_fpr, fpr[i], tpr[i])\n",
    "    \n",
    "mean_tpr = mean_tpr / n_classes"
   ]
  },
  {
   "cell_type": "code",
   "execution_count": 38,
   "metadata": {},
   "outputs": [],
   "source": [
    "# マクロ平均格納\n",
    "fpr['macro'] = all_fpr\n",
    "tpr['macro'] = mean_tpr\n",
    "roc_auc['macro'] = auc(all_fpr, mean_tpr)"
   ]
  },
  {
   "cell_type": "code",
   "execution_count": 39,
   "metadata": {},
   "outputs": [
    {
     "data": {
      "image/png": "[encoded data removed]",
      "text/plain": [
       "<Figure size 432x288 with 1 Axes>"
      ]
     },
     "metadata": {
      "needs_background": "light"
     },
     "output_type": "display_data"
    }
   ],
   "source": [
    "# macro平均を含めたROC\n",
    "for i in fpr.keys():\n",
    "    plt.plot(fpr[i], tpr[i], label=f'class:{i}')\n",
    "    plt.legend()"
   ]
  },
  {
   "cell_type": "markdown",
   "metadata": {},
   "source": [
    "### micro平均"
   ]
  },
  {
   "cell_type": "code",
   "execution_count": 48,
   "metadata": {},
   "outputs": [],
   "source": [
    "# ミクロ平均格納\n",
    "fpr['micro'], tpr['micro'], _ = roc_curve(y_test_one_hot.ravel(), y_pred_proba.ravel())\n",
    "roc_auc['micro'] = auc(fpr['micro'], tpr['micro'])"
   ]
  },
  {
   "cell_type": "code",
   "execution_count": 50,
   "metadata": {},
   "outputs": [
    {
     "data": {
      "image/png": "[encoded data removed]",
      "text/plain": [
       "<Figure size 432x288 with 1 Axes>"
      ]
     },
     "metadata": {
      "needs_background": "light"
     },
     "output_type": "display_data"
    }
   ],
   "source": [
    "# micro平均を含めたROC\n",
    "for i in fpr.keys():\n",
    "    plt.plot(fpr[i], tpr[i], label=f'class:{i}')\n",
    "    plt.legend()"
   ]
  },
  {
   "cell_type": "code",
   "execution_count": null,
   "metadata": {},
   "outputs": [],
   "source": []
  }
 ],
 "metadata": {
  "kernelspec": {
   "display_name": "Python 3 (ipykernel)",
   "language": "python",
   "name": "python3"
  },
  "language_info": {
   "codemirror_mode": {
    "name": "ipython",
    "version": 3
   },
   "file_extension": ".py",
   "mimetype": "text/x-python",
   "name": "python",
   "nbconvert_exporter": "python",
   "pygments_lexer": "ipython3",
   "version": "3.9.12"
  }
 },
 "nbformat": 4,
 "nbformat_minor": 4
}
