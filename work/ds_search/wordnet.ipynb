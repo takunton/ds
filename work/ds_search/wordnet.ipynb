{
 "cells": [
  {
   "cell_type": "code",
   "execution_count": 1,
   "id": "3c75df1f-ade4-4420-8e16-1a6b542594b4",
   "metadata": {},
   "outputs": [],
   "source": [
    "# nltkインストール\n",
    "\n",
    "# !pip install nltk"
   ]
  },
  {
   "cell_type": "code",
   "execution_count": 2,
   "id": "75e5b740-f55d-44a9-9585-a3f2b13b9c08",
   "metadata": {},
   "outputs": [],
   "source": [
    "# 1. dをクリック\n",
    "# 2. allが出てくるまで、Enter\n",
    "# 3. allを入力、Enter\n",
    "# 4. download実行\n",
    "\n",
    "# nltk.download()"
   ]
  },
  {
   "cell_type": "code",
   "execution_count": 3,
   "id": "6708fe7f-7623-44c3-9688-859a7be71258",
   "metadata": {},
   "outputs": [],
   "source": [
    "import nltk\n",
    "from nltk.corpus import wordnet"
   ]
  },
  {
   "cell_type": "code",
   "execution_count": 19,
   "id": "bdcf2c7a-49f1-4627-9ab5-4904174e523d",
   "metadata": {},
   "outputs": [
    {
     "name": "stdout",
     "output_type": "stream",
     "text": [
      "['ディフォルト', 'ディフォールト', 'デフォルト', 'デフォールト', '不履行', '不払', '不払い', '不納', '怠納', '未払い', '未納', '滞納']\n"
     ]
    }
   ],
   "source": [
    "synsets = wordnet.synsets(\"滞納\",lang='jpn')\n",
    "\n",
    "rice_synset=synsets[0]\n",
    "synonyms=rice_synset.lemma_names(\"jpn\")\n",
    "print(synonyms)"
   ]
  }
 ],
 "metadata": {
  "kernelspec": {
   "display_name": "Python 3 (ipykernel)",
   "language": "python",
   "name": "python3"
  },
  "language_info": {
   "codemirror_mode": {
    "name": "ipython",
    "version": 3
   },
   "file_extension": ".py",
   "mimetype": "text/x-python",
   "name": "python",
   "nbconvert_exporter": "python",
   "pygments_lexer": "ipython3",
   "version": "3.9.12"
  }
 },
 "nbformat": 4,
 "nbformat_minor": 5
}
