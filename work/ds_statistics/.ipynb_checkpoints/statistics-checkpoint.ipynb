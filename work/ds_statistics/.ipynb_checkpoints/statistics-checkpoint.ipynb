{
 "cells": [
  {
   "cell_type": "markdown",
   "metadata": {},
   "source": [
    "## ライブラリupdare"
   ]
  },
  {
   "cell_type": "code",
   "execution_count": 1,
   "metadata": {},
   "outputs": [
    {
     "name": "stdout",
     "output_type": "stream",
     "text": [
      "Requirement already up-to-date: scipy in /opt/anaconda3/lib/python3.7/site-packages (1.7.3)\n",
      "Requirement already satisfied, skipping upgrade: numpy<1.23.0,>=1.16.5 in /opt/anaconda3/lib/python3.7/site-packages (from scipy) (1.18.1)\n",
      "\u001b[33mWARNING: You are using pip version 20.1.1; however, version 22.1.2 is available.\n",
      "You should consider upgrading via the '/opt/anaconda3/bin/python -m pip install --upgrade pip' command.\u001b[0m\n"
     ]
    }
   ],
   "source": [
    "!pip install scipy --upgrade"
   ]
  },
  {
   "cell_type": "markdown",
   "metadata": {},
   "source": [
    "## ライブラリimport"
   ]
  },
  {
   "cell_type": "code",
   "execution_count": 124,
   "metadata": {},
   "outputs": [
    {
     "name": "stdout",
     "output_type": "stream",
     "text": [
      "The autoreload extension is already loaded. To reload it, use:\n",
      "  %reload_ext autoreload\n"
     ]
    }
   ],
   "source": [
    "%load_ext autoreload\n",
    "%autoreload 2\n",
    "import numpy as np\n",
    "import pandas as pd\n",
    "import matplotlib.pyplot as plt\n",
    "import seaborn as sns\n",
    "import StatsUtil\n",
    "from scipy import stats\n",
    "from sklearn.preprocessing import StandardScaler\n",
    "from statsmodels.stats.proportion import proportions_ztest\n",
    "from statsmodels.api import qqplot\n",
    "from statsmodels.stats.power import TTestIndPower \n",
    "%matplotlib inline"
   ]
  },
  {
   "cell_type": "markdown",
   "metadata": {},
   "source": [
    "## データ準備"
   ]
  },
  {
   "cell_type": "code",
   "execution_count": 3,
   "metadata": {},
   "outputs": [
    {
     "data": {
      "text/html": [
       "<div>\n",
       "<style scoped>\n",
       "    .dataframe tbody tr th:only-of-type {\n",
       "        vertical-align: middle;\n",
       "    }\n",
       "\n",
       "    .dataframe tbody tr th {\n",
       "        vertical-align: top;\n",
       "    }\n",
       "\n",
       "    .dataframe thead th {\n",
       "        text-align: right;\n",
       "    }\n",
       "</style>\n",
       "<table border=\"1\" class=\"dataframe\">\n",
       "  <thead>\n",
       "    <tr style=\"text-align: right;\">\n",
       "      <th></th>\n",
       "      <th>total_bill</th>\n",
       "      <th>tip</th>\n",
       "      <th>sex</th>\n",
       "      <th>smoker</th>\n",
       "      <th>day</th>\n",
       "      <th>time</th>\n",
       "      <th>size</th>\n",
       "      <th>tip_rate</th>\n",
       "    </tr>\n",
       "  </thead>\n",
       "  <tbody>\n",
       "    <tr>\n",
       "      <th>0</th>\n",
       "      <td>16.99</td>\n",
       "      <td>1.01</td>\n",
       "      <td>Female</td>\n",
       "      <td>No</td>\n",
       "      <td>Sun</td>\n",
       "      <td>Dinner</td>\n",
       "      <td>2</td>\n",
       "      <td>0.059447</td>\n",
       "    </tr>\n",
       "    <tr>\n",
       "      <th>1</th>\n",
       "      <td>10.34</td>\n",
       "      <td>1.66</td>\n",
       "      <td>Male</td>\n",
       "      <td>No</td>\n",
       "      <td>Sun</td>\n",
       "      <td>Dinner</td>\n",
       "      <td>3</td>\n",
       "      <td>0.160542</td>\n",
       "    </tr>\n",
       "    <tr>\n",
       "      <th>2</th>\n",
       "      <td>21.01</td>\n",
       "      <td>3.50</td>\n",
       "      <td>Male</td>\n",
       "      <td>No</td>\n",
       "      <td>Sun</td>\n",
       "      <td>Dinner</td>\n",
       "      <td>3</td>\n",
       "      <td>0.166587</td>\n",
       "    </tr>\n",
       "    <tr>\n",
       "      <th>3</th>\n",
       "      <td>23.68</td>\n",
       "      <td>3.31</td>\n",
       "      <td>Male</td>\n",
       "      <td>No</td>\n",
       "      <td>Sun</td>\n",
       "      <td>Dinner</td>\n",
       "      <td>2</td>\n",
       "      <td>0.139780</td>\n",
       "    </tr>\n",
       "    <tr>\n",
       "      <th>4</th>\n",
       "      <td>24.59</td>\n",
       "      <td>3.61</td>\n",
       "      <td>Female</td>\n",
       "      <td>No</td>\n",
       "      <td>Sun</td>\n",
       "      <td>Dinner</td>\n",
       "      <td>4</td>\n",
       "      <td>0.146808</td>\n",
       "    </tr>\n",
       "    <tr>\n",
       "      <th>...</th>\n",
       "      <td>...</td>\n",
       "      <td>...</td>\n",
       "      <td>...</td>\n",
       "      <td>...</td>\n",
       "      <td>...</td>\n",
       "      <td>...</td>\n",
       "      <td>...</td>\n",
       "      <td>...</td>\n",
       "    </tr>\n",
       "    <tr>\n",
       "      <th>239</th>\n",
       "      <td>29.03</td>\n",
       "      <td>5.92</td>\n",
       "      <td>Male</td>\n",
       "      <td>No</td>\n",
       "      <td>Sat</td>\n",
       "      <td>Dinner</td>\n",
       "      <td>3</td>\n",
       "      <td>0.203927</td>\n",
       "    </tr>\n",
       "    <tr>\n",
       "      <th>240</th>\n",
       "      <td>27.18</td>\n",
       "      <td>2.00</td>\n",
       "      <td>Female</td>\n",
       "      <td>Yes</td>\n",
       "      <td>Sat</td>\n",
       "      <td>Dinner</td>\n",
       "      <td>2</td>\n",
       "      <td>0.073584</td>\n",
       "    </tr>\n",
       "    <tr>\n",
       "      <th>241</th>\n",
       "      <td>22.67</td>\n",
       "      <td>2.00</td>\n",
       "      <td>Male</td>\n",
       "      <td>Yes</td>\n",
       "      <td>Sat</td>\n",
       "      <td>Dinner</td>\n",
       "      <td>2</td>\n",
       "      <td>0.088222</td>\n",
       "    </tr>\n",
       "    <tr>\n",
       "      <th>242</th>\n",
       "      <td>17.82</td>\n",
       "      <td>1.75</td>\n",
       "      <td>Male</td>\n",
       "      <td>No</td>\n",
       "      <td>Sat</td>\n",
       "      <td>Dinner</td>\n",
       "      <td>2</td>\n",
       "      <td>0.098204</td>\n",
       "    </tr>\n",
       "    <tr>\n",
       "      <th>243</th>\n",
       "      <td>18.78</td>\n",
       "      <td>3.00</td>\n",
       "      <td>Female</td>\n",
       "      <td>No</td>\n",
       "      <td>Thur</td>\n",
       "      <td>Dinner</td>\n",
       "      <td>2</td>\n",
       "      <td>0.159744</td>\n",
       "    </tr>\n",
       "  </tbody>\n",
       "</table>\n",
       "<p>244 rows × 8 columns</p>\n",
       "</div>"
      ],
      "text/plain": [
       "     total_bill   tip     sex smoker   day    time  size  tip_rate\n",
       "0         16.99  1.01  Female     No   Sun  Dinner     2  0.059447\n",
       "1         10.34  1.66    Male     No   Sun  Dinner     3  0.160542\n",
       "2         21.01  3.50    Male     No   Sun  Dinner     3  0.166587\n",
       "3         23.68  3.31    Male     No   Sun  Dinner     2  0.139780\n",
       "4         24.59  3.61  Female     No   Sun  Dinner     4  0.146808\n",
       "..          ...   ...     ...    ...   ...     ...   ...       ...\n",
       "239       29.03  5.92    Male     No   Sat  Dinner     3  0.203927\n",
       "240       27.18  2.00  Female    Yes   Sat  Dinner     2  0.073584\n",
       "241       22.67  2.00    Male    Yes   Sat  Dinner     2  0.088222\n",
       "242       17.82  1.75    Male     No   Sat  Dinner     2  0.098204\n",
       "243       18.78  3.00  Female     No  Thur  Dinner     2  0.159744\n",
       "\n",
       "[244 rows x 8 columns]"
      ]
     },
     "execution_count": 3,
     "metadata": {},
     "output_type": "execute_result"
    }
   ],
   "source": [
    "df = StatsUtil.get_tip_df()\n",
    "df"
   ]
  },
  {
   "cell_type": "markdown",
   "metadata": {},
   "source": [
    "## 分布の描画"
   ]
  },
  {
   "cell_type": "code",
   "execution_count": 4,
   "metadata": {},
   "outputs": [
    {
     "data": {
      "text/plain": [
       "<matplotlib.axes._subplots.AxesSubplot at 0x7f9145aed9d0>"
      ]
     },
     "execution_count": 4,
     "metadata": {},
     "output_type": "execute_result"
    },
    {
     "data": {
      "image/png": "[encoded data removed]",
      "text/plain": [
       "<Figure size 432x288 with 1 Axes>"
      ]
     },
     "metadata": {
      "needs_background": "light"
     },
     "output_type": "display_data"
    }
   ],
   "source": [
    "# ヒストグラム（連続変数の場合、使用）\n",
    "sns.distplot(df['tip_rate'], kde=False)"
   ]
  },
  {
   "cell_type": "code",
   "execution_count": 5,
   "metadata": {},
   "outputs": [
    {
     "data": {
      "text/plain": [
       "<seaborn.axisgrid.FacetGrid at 0x7f9145209610>"
      ]
     },
     "execution_count": 5,
     "metadata": {},
     "output_type": "execute_result"
    },
    {
     "data": {
      "image/png": "[encoded data removed]",
      "text/plain": [
       "<Figure size 360x360 with 1 Axes>"
      ]
     },
     "metadata": {
      "needs_background": "light"
     },
     "output_type": "display_data"
    }
   ],
   "source": [
    "# 棒グラフ（カテゴリ変数の場合、使用）\n",
    "sns.catplot(x='time', data=df, kind='count')"
   ]
  },
  {
   "cell_type": "markdown",
   "metadata": {},
   "source": [
    "##  平均値"
   ]
  },
  {
   "cell_type": "code",
   "execution_count": 6,
   "metadata": {},
   "outputs": [
    {
     "data": {
      "text/plain": [
       "0.16080258172250478"
      ]
     },
     "execution_count": 6,
     "metadata": {},
     "output_type": "execute_result"
    }
   ],
   "source": [
    "# numpyによる平均値\n",
    "df['tip_rate'].mean()"
   ]
  },
  {
   "cell_type": "code",
   "execution_count": 7,
   "metadata": {},
   "outputs": [
    {
     "data": {
      "text/plain": [
       "0.16080258172250478"
      ]
     },
     "execution_count": 7,
     "metadata": {},
     "output_type": "execute_result"
    }
   ],
   "source": [
    "# seriesによる平均値\n",
    "np.mean(df['tip_rate'])"
   ]
  },
  {
   "cell_type": "code",
   "execution_count": 8,
   "metadata": {},
   "outputs": [
    {
     "data": {
      "text/plain": [
       "sex\n",
       "Male      0.157651\n",
       "Female    0.166491\n",
       "Name: tip_rate, dtype: float64"
      ]
     },
     "execution_count": 8,
     "metadata": {},
     "output_type": "execute_result"
    }
   ],
   "source": [
    "# groupbyによる平均値\n",
    "# groupbyはdataframeのため[]により必要な列だけseriesで取得\n",
    "df.groupby('sex').mean()['tip_rate']"
   ]
  },
  {
   "cell_type": "code",
   "execution_count": 9,
   "metadata": {},
   "outputs": [
    {
     "data": {
      "text/plain": [
       "<matplotlib.axes._subplots.AxesSubplot at 0x7f91451a66d0>"
      ]
     },
     "execution_count": 9,
     "metadata": {},
     "output_type": "execute_result"
    },
    {
     "data": {
      "image/png": "[encoded data removed]",
      "text/plain": [
       "<Figure size 432x288 with 1 Axes>"
      ]
     },
     "metadata": {
      "needs_background": "light"
     },
     "output_type": "display_data"
    }
   ],
   "source": [
    "# seabornでのカテゴリ別の平均値描画（ci=Noneにより信頼区間を非表示）\n",
    "sns.barplot(x='sex', y='tip_rate', data=df, ci=None)"
   ]
  },
  {
   "cell_type": "markdown",
   "metadata": {},
   "source": [
    "## 中央値"
   ]
  },
  {
   "cell_type": "code",
   "execution_count": 10,
   "metadata": {},
   "outputs": [
    {
     "data": {
      "text/plain": [
       "0.15476977125802577"
      ]
     },
     "execution_count": 10,
     "metadata": {},
     "output_type": "execute_result"
    }
   ],
   "source": [
    "# seriesによる中央値\n",
    "df['tip_rate'].median()"
   ]
  },
  {
   "cell_type": "code",
   "execution_count": 11,
   "metadata": {},
   "outputs": [
    {
     "data": {
      "text/plain": [
       "0.15476977125802577"
      ]
     },
     "execution_count": 11,
     "metadata": {},
     "output_type": "execute_result"
    }
   ],
   "source": [
    "# numpyによる中央値\n",
    "np.median(df['tip_rate'])"
   ]
  },
  {
   "cell_type": "code",
   "execution_count": 12,
   "metadata": {},
   "outputs": [
    {
     "data": {
      "text/plain": [
       "sex\n",
       "Male      0.153492\n",
       "Female    0.155581\n",
       "Name: tip_rate, dtype: float64"
      ]
     },
     "execution_count": 12,
     "metadata": {},
     "output_type": "execute_result"
    }
   ],
   "source": [
    "# groupbyによる中央値\n",
    "# groupbyはdataframeのため[]により必要な列だけseriesで取得\n",
    "df.groupby('sex').median()['tip_rate']"
   ]
  },
  {
   "cell_type": "code",
   "execution_count": 13,
   "metadata": {},
   "outputs": [
    {
     "data": {
      "text/plain": [
       "<matplotlib.axes._subplots.AxesSubplot at 0x7f914510e850>"
      ]
     },
     "execution_count": 13,
     "metadata": {},
     "output_type": "execute_result"
    },
    {
     "data": {
      "image/png": "[encoded data removed]",
      "text/plain": [
       "<Figure size 432x288 with 1 Axes>"
      ]
     },
     "metadata": {
      "needs_background": "light"
     },
     "output_type": "display_data"
    }
   ],
   "source": [
    "# seabornでのカテゴリ別の中央値描画（ci=Noneにより信頼区間を非表示）\n",
    "sns.barplot(x='sex', y='tip_rate', data=df, estimator=np.median, ci=None)"
   ]
  },
  {
   "cell_type": "code",
   "execution_count": 14,
   "metadata": {},
   "outputs": [
    {
     "data": {
      "text/html": [
       "<div>\n",
       "<style scoped>\n",
       "    .dataframe tbody tr th:only-of-type {\n",
       "        vertical-align: middle;\n",
       "    }\n",
       "\n",
       "    .dataframe tbody tr th {\n",
       "        vertical-align: top;\n",
       "    }\n",
       "\n",
       "    .dataframe thead th {\n",
       "        text-align: right;\n",
       "    }\n",
       "</style>\n",
       "<table border=\"1\" class=\"dataframe\">\n",
       "  <thead>\n",
       "    <tr style=\"text-align: right;\">\n",
       "      <th></th>\n",
       "      <th>total_bill</th>\n",
       "      <th>tip</th>\n",
       "      <th>sex</th>\n",
       "      <th>smoker</th>\n",
       "      <th>day</th>\n",
       "      <th>time</th>\n",
       "      <th>size</th>\n",
       "      <th>tip_rate</th>\n",
       "    </tr>\n",
       "  </thead>\n",
       "  <tbody>\n",
       "    <tr>\n",
       "      <th>237</th>\n",
       "      <td>32.83</td>\n",
       "      <td>1.17</td>\n",
       "      <td>Male</td>\n",
       "      <td>Yes</td>\n",
       "      <td>Sat</td>\n",
       "      <td>Dinner</td>\n",
       "      <td>2</td>\n",
       "      <td>0.035638</td>\n",
       "    </tr>\n",
       "    <tr>\n",
       "      <th>102</th>\n",
       "      <td>44.30</td>\n",
       "      <td>2.50</td>\n",
       "      <td>Female</td>\n",
       "      <td>Yes</td>\n",
       "      <td>Sat</td>\n",
       "      <td>Dinner</td>\n",
       "      <td>3</td>\n",
       "      <td>0.056433</td>\n",
       "    </tr>\n",
       "    <tr>\n",
       "      <th>57</th>\n",
       "      <td>26.41</td>\n",
       "      <td>1.50</td>\n",
       "      <td>Female</td>\n",
       "      <td>No</td>\n",
       "      <td>Sat</td>\n",
       "      <td>Dinner</td>\n",
       "      <td>2</td>\n",
       "      <td>0.056797</td>\n",
       "    </tr>\n",
       "    <tr>\n",
       "      <th>0</th>\n",
       "      <td>16.99</td>\n",
       "      <td>1.01</td>\n",
       "      <td>Female</td>\n",
       "      <td>No</td>\n",
       "      <td>Sun</td>\n",
       "      <td>Dinner</td>\n",
       "      <td>2</td>\n",
       "      <td>0.059447</td>\n",
       "    </tr>\n",
       "    <tr>\n",
       "      <th>187</th>\n",
       "      <td>30.46</td>\n",
       "      <td>2.00</td>\n",
       "      <td>Male</td>\n",
       "      <td>Yes</td>\n",
       "      <td>Sun</td>\n",
       "      <td>Dinner</td>\n",
       "      <td>5</td>\n",
       "      <td>0.065660</td>\n",
       "    </tr>\n",
       "    <tr>\n",
       "      <th>...</th>\n",
       "      <td>...</td>\n",
       "      <td>...</td>\n",
       "      <td>...</td>\n",
       "      <td>...</td>\n",
       "      <td>...</td>\n",
       "      <td>...</td>\n",
       "      <td>...</td>\n",
       "      <td>...</td>\n",
       "    </tr>\n",
       "    <tr>\n",
       "      <th>183</th>\n",
       "      <td>23.17</td>\n",
       "      <td>6.50</td>\n",
       "      <td>Male</td>\n",
       "      <td>Yes</td>\n",
       "      <td>Sun</td>\n",
       "      <td>Dinner</td>\n",
       "      <td>4</td>\n",
       "      <td>0.280535</td>\n",
       "    </tr>\n",
       "    <tr>\n",
       "      <th>232</th>\n",
       "      <td>11.61</td>\n",
       "      <td>3.39</td>\n",
       "      <td>Male</td>\n",
       "      <td>No</td>\n",
       "      <td>Sat</td>\n",
       "      <td>Dinner</td>\n",
       "      <td>2</td>\n",
       "      <td>0.291990</td>\n",
       "    </tr>\n",
       "    <tr>\n",
       "      <th>67</th>\n",
       "      <td>3.07</td>\n",
       "      <td>1.00</td>\n",
       "      <td>Female</td>\n",
       "      <td>Yes</td>\n",
       "      <td>Sat</td>\n",
       "      <td>Dinner</td>\n",
       "      <td>1</td>\n",
       "      <td>0.325733</td>\n",
       "    </tr>\n",
       "    <tr>\n",
       "      <th>178</th>\n",
       "      <td>9.60</td>\n",
       "      <td>4.00</td>\n",
       "      <td>Female</td>\n",
       "      <td>Yes</td>\n",
       "      <td>Sun</td>\n",
       "      <td>Dinner</td>\n",
       "      <td>2</td>\n",
       "      <td>0.416667</td>\n",
       "    </tr>\n",
       "    <tr>\n",
       "      <th>172</th>\n",
       "      <td>7.25</td>\n",
       "      <td>5.15</td>\n",
       "      <td>Male</td>\n",
       "      <td>Yes</td>\n",
       "      <td>Sun</td>\n",
       "      <td>Dinner</td>\n",
       "      <td>2</td>\n",
       "      <td>0.710345</td>\n",
       "    </tr>\n",
       "  </tbody>\n",
       "</table>\n",
       "<p>244 rows × 8 columns</p>\n",
       "</div>"
      ],
      "text/plain": [
       "     total_bill   tip     sex smoker  day    time  size  tip_rate\n",
       "237       32.83  1.17    Male    Yes  Sat  Dinner     2  0.035638\n",
       "102       44.30  2.50  Female    Yes  Sat  Dinner     3  0.056433\n",
       "57        26.41  1.50  Female     No  Sat  Dinner     2  0.056797\n",
       "0         16.99  1.01  Female     No  Sun  Dinner     2  0.059447\n",
       "187       30.46  2.00    Male    Yes  Sun  Dinner     5  0.065660\n",
       "..          ...   ...     ...    ...  ...     ...   ...       ...\n",
       "183       23.17  6.50    Male    Yes  Sun  Dinner     4  0.280535\n",
       "232       11.61  3.39    Male     No  Sat  Dinner     2  0.291990\n",
       "67         3.07  1.00  Female    Yes  Sat  Dinner     1  0.325733\n",
       "178        9.60  4.00  Female    Yes  Sun  Dinner     2  0.416667\n",
       "172        7.25  5.15    Male    Yes  Sun  Dinner     2  0.710345\n",
       "\n",
       "[244 rows x 8 columns]"
      ]
     },
     "execution_count": 14,
     "metadata": {},
     "output_type": "execute_result"
    }
   ],
   "source": [
    "# Femaleのtip_rateの平均値が高いのは、多く払っている外れ値がいるから\n",
    "df.sort_values('tip_rate', ascending=True)"
   ]
  },
  {
   "cell_type": "markdown",
   "metadata": {},
   "source": [
    "## 最頻値"
   ]
  },
  {
   "cell_type": "code",
   "execution_count": 15,
   "metadata": {},
   "outputs": [
    {
     "name": "stdout",
     "output_type": "stream",
     "text": [
      "[[13.42 2.0 'Male' 'No' 'Sat' 'Dinner' 2 0.1448225923244026]]\n",
      "[[  3  33 157 151  87 176 156   2]]\n"
     ]
    }
   ],
   "source": [
    "# scipyによる最頻値\n",
    "mode, count = stats.mode(df)\n",
    "print(mode)\n",
    "print(count)"
   ]
  },
  {
   "cell_type": "code",
   "execution_count": 16,
   "metadata": {},
   "outputs": [
    {
     "data": {
      "text/plain": [
       "0    0.144823\n",
       "1    0.153846\n",
       "dtype: float64"
      ]
     },
     "execution_count": 16,
     "metadata": {},
     "output_type": "execute_result"
    }
   ],
   "source": [
    "# seriesによる最頻値（戻り値：series）\n",
    "df['tip_rate'].mode()"
   ]
  },
  {
   "cell_type": "markdown",
   "metadata": {},
   "source": [
    "## 範囲"
   ]
  },
  {
   "cell_type": "code",
   "execution_count": 17,
   "metadata": {},
   "outputs": [
    {
     "data": {
      "text/plain": [
       "1.0"
      ]
     },
     "execution_count": 17,
     "metadata": {},
     "output_type": "execute_result"
    }
   ],
   "source": [
    "# seriesによる最小値\n",
    "df['tip'].min()"
   ]
  },
  {
   "cell_type": "code",
   "execution_count": 18,
   "metadata": {},
   "outputs": [
    {
     "data": {
      "text/plain": [
       "1.0"
      ]
     },
     "execution_count": 18,
     "metadata": {},
     "output_type": "execute_result"
    }
   ],
   "source": [
    "# numpyによる最小値\n",
    "np.min(df['tip'])"
   ]
  },
  {
   "cell_type": "code",
   "execution_count": 19,
   "metadata": {},
   "outputs": [
    {
     "data": {
      "text/html": [
       "<div>\n",
       "<style scoped>\n",
       "    .dataframe tbody tr th:only-of-type {\n",
       "        vertical-align: middle;\n",
       "    }\n",
       "\n",
       "    .dataframe tbody tr th {\n",
       "        vertical-align: top;\n",
       "    }\n",
       "\n",
       "    .dataframe thead th {\n",
       "        text-align: right;\n",
       "    }\n",
       "</style>\n",
       "<table border=\"1\" class=\"dataframe\">\n",
       "  <thead>\n",
       "    <tr style=\"text-align: right;\">\n",
       "      <th></th>\n",
       "      <th>total_bill</th>\n",
       "      <th>tip</th>\n",
       "      <th>size</th>\n",
       "      <th>tip_rate</th>\n",
       "    </tr>\n",
       "    <tr>\n",
       "      <th>sex</th>\n",
       "      <th></th>\n",
       "      <th></th>\n",
       "      <th></th>\n",
       "      <th></th>\n",
       "    </tr>\n",
       "  </thead>\n",
       "  <tbody>\n",
       "    <tr>\n",
       "      <th>Male</th>\n",
       "      <td>7.25</td>\n",
       "      <td>1.0</td>\n",
       "      <td>1</td>\n",
       "      <td>0.035638</td>\n",
       "    </tr>\n",
       "    <tr>\n",
       "      <th>Female</th>\n",
       "      <td>3.07</td>\n",
       "      <td>1.0</td>\n",
       "      <td>1</td>\n",
       "      <td>0.056433</td>\n",
       "    </tr>\n",
       "  </tbody>\n",
       "</table>\n",
       "</div>"
      ],
      "text/plain": [
       "        total_bill  tip  size  tip_rate\n",
       "sex                                    \n",
       "Male          7.25  1.0     1  0.035638\n",
       "Female        3.07  1.0     1  0.056433"
      ]
     },
     "execution_count": 19,
     "metadata": {},
     "output_type": "execute_result"
    }
   ],
   "source": [
    "# groupbyによる最小値\n",
    "# groupbyはdataframeのため[]により必要な列だけseriesで取得\n",
    "df.groupby('sex').min()"
   ]
  },
  {
   "cell_type": "code",
   "execution_count": 20,
   "metadata": {},
   "outputs": [
    {
     "data": {
      "text/plain": [
       "10.0"
      ]
     },
     "execution_count": 20,
     "metadata": {},
     "output_type": "execute_result"
    }
   ],
   "source": [
    "# seriesによる最大値\n",
    "df['tip'].max()"
   ]
  },
  {
   "cell_type": "code",
   "execution_count": 21,
   "metadata": {},
   "outputs": [
    {
     "data": {
      "text/plain": [
       "10.0"
      ]
     },
     "execution_count": 21,
     "metadata": {},
     "output_type": "execute_result"
    }
   ],
   "source": [
    "# numpyによる最大値\n",
    "np.max(df['tip'])"
   ]
  },
  {
   "cell_type": "code",
   "execution_count": 22,
   "metadata": {},
   "outputs": [
    {
     "data": {
      "text/html": [
       "<div>\n",
       "<style scoped>\n",
       "    .dataframe tbody tr th:only-of-type {\n",
       "        vertical-align: middle;\n",
       "    }\n",
       "\n",
       "    .dataframe tbody tr th {\n",
       "        vertical-align: top;\n",
       "    }\n",
       "\n",
       "    .dataframe thead th {\n",
       "        text-align: right;\n",
       "    }\n",
       "</style>\n",
       "<table border=\"1\" class=\"dataframe\">\n",
       "  <thead>\n",
       "    <tr style=\"text-align: right;\">\n",
       "      <th></th>\n",
       "      <th>total_bill</th>\n",
       "      <th>tip</th>\n",
       "      <th>size</th>\n",
       "      <th>tip_rate</th>\n",
       "    </tr>\n",
       "    <tr>\n",
       "      <th>sex</th>\n",
       "      <th></th>\n",
       "      <th></th>\n",
       "      <th></th>\n",
       "      <th></th>\n",
       "    </tr>\n",
       "  </thead>\n",
       "  <tbody>\n",
       "    <tr>\n",
       "      <th>Male</th>\n",
       "      <td>50.81</td>\n",
       "      <td>10.0</td>\n",
       "      <td>6</td>\n",
       "      <td>0.710345</td>\n",
       "    </tr>\n",
       "    <tr>\n",
       "      <th>Female</th>\n",
       "      <td>44.30</td>\n",
       "      <td>6.5</td>\n",
       "      <td>6</td>\n",
       "      <td>0.416667</td>\n",
       "    </tr>\n",
       "  </tbody>\n",
       "</table>\n",
       "</div>"
      ],
      "text/plain": [
       "        total_bill   tip  size  tip_rate\n",
       "sex                                     \n",
       "Male         50.81  10.0     6  0.710345\n",
       "Female       44.30   6.5     6  0.416667"
      ]
     },
     "execution_count": 22,
     "metadata": {},
     "output_type": "execute_result"
    }
   ],
   "source": [
    "# groupbyによる最大値\n",
    "# groupbyはdataframeのため[]により必要な列だけseriesで取得\n",
    "df.groupby('sex').max()"
   ]
  },
  {
   "cell_type": "markdown",
   "metadata": {},
   "source": [
    "## 四分位数"
   ]
  },
  {
   "cell_type": "code",
   "execution_count": 23,
   "metadata": {},
   "outputs": [
    {
     "data": {
      "text/plain": [
       "0.25    0.129127\n",
       "0.50    0.154770\n",
       "0.75    0.191475\n",
       "Name: tip_rate, dtype: float64"
      ]
     },
     "execution_count": 23,
     "metadata": {},
     "output_type": "execute_result"
    }
   ],
   "source": [
    "# seriesによる四分位数\n",
    "df['tip_rate'].quantile([0.25, 0.5, 0.75])"
   ]
  },
  {
   "cell_type": "code",
   "execution_count": 24,
   "metadata": {},
   "outputs": [
    {
     "data": {
      "text/plain": [
       "array([0.12912736, 0.15476977, 0.19147549])"
      ]
     },
     "execution_count": 24,
     "metadata": {},
     "output_type": "execute_result"
    }
   ],
   "source": [
    "# numpyによる四分位数\n",
    "np.quantile(df['tip_rate'], [0.25, 0.5, 0.75])"
   ]
  },
  {
   "cell_type": "code",
   "execution_count": 25,
   "metadata": {},
   "outputs": [
    {
     "data": {
      "text/plain": [
       "0.06234812458689154"
      ]
     },
     "execution_count": 25,
     "metadata": {},
     "output_type": "execute_result"
    }
   ],
   "source": [
    "# 四分位範囲\n",
    "stats.iqr(df['tip_rate'])"
   ]
  },
  {
   "cell_type": "code",
   "execution_count": 26,
   "metadata": {},
   "outputs": [
    {
     "data": {
      "text/plain": [
       "0.03117406229344577"
      ]
     },
     "execution_count": 26,
     "metadata": {},
     "output_type": "execute_result"
    }
   ],
   "source": [
    "# 四分位偏差\n",
    "stats.iqr(df['tip_rate']) / 2"
   ]
  },
  {
   "cell_type": "code",
   "execution_count": 27,
   "metadata": {},
   "outputs": [
    {
     "data": {
      "image/png": "[encoded data removed]",
      "text/plain": [
       "<Figure size 432x288 with 1 Axes>"
      ]
     },
     "metadata": {
      "needs_background": "light"
     },
     "output_type": "display_data"
    }
   ],
   "source": [
    "# 箱ひげ図（matplotlib）\n",
    "plt.boxplot(df['tip_rate'])\n",
    "plt.show()"
   ]
  },
  {
   "cell_type": "code",
   "execution_count": 28,
   "metadata": {},
   "outputs": [
    {
     "data": {
      "text/plain": [
       "<matplotlib.axes._subplots.AxesSubplot at 0x7f9145075650>"
      ]
     },
     "execution_count": 28,
     "metadata": {},
     "output_type": "execute_result"
    },
    {
     "data": {
      "image/png": "[encoded data removed]",
      "text/plain": [
       "<Figure size 432x288 with 1 Axes>"
      ]
     },
     "metadata": {
      "needs_background": "light"
     },
     "output_type": "display_data"
    }
   ],
   "source": [
    "# 箱ひげ図（seaborn）\n",
    "sns.boxplot(x='day', y='total_bill', data=df)"
   ]
  },
  {
   "cell_type": "markdown",
   "metadata": {},
   "source": [
    "## 分散"
   ]
  },
  {
   "cell_type": "code",
   "execution_count": 29,
   "metadata": {},
   "outputs": [
    {
     "data": {
      "text/plain": [
       "1.9066085124966428"
      ]
     },
     "execution_count": 29,
     "metadata": {},
     "output_type": "execute_result"
    }
   ],
   "source": [
    "# scipyで計算できる分散は不偏分散のため、ただの分散はnumpyで計算\n",
    "np.var(df['tip'])"
   ]
  },
  {
   "cell_type": "markdown",
   "metadata": {},
   "source": [
    "## 標準偏差"
   ]
  },
  {
   "cell_type": "code",
   "execution_count": 30,
   "metadata": {},
   "outputs": [
    {
     "data": {
      "text/plain": [
       "1.3807999538298958"
      ]
     },
     "execution_count": 30,
     "metadata": {},
     "output_type": "execute_result"
    }
   ],
   "source": [
    "np.std(df['tip'])"
   ]
  },
  {
   "cell_type": "markdown",
   "metadata": {},
   "source": [
    "## 共分散"
   ]
  },
  {
   "cell_type": "code",
   "execution_count": 31,
   "metadata": {},
   "outputs": [
    {
     "data": {
      "text/plain": [
       "array([[78.92813149,  8.28938892],\n",
       "       [ 8.28938892,  1.90660851]])"
      ]
     },
     "execution_count": 31,
     "metadata": {},
     "output_type": "execute_result"
    }
   ],
   "source": [
    "# bias=Falseだと不偏共分散となる\n",
    "np.cov(df['total_bill'], df['tip'], bias=True)"
   ]
  },
  {
   "cell_type": "code",
   "execution_count": 32,
   "metadata": {},
   "outputs": [
    {
     "data": {
      "text/plain": [
       "array([[78.92813149,  8.28938892,  5.04522121],\n",
       "       [ 8.28938892,  1.90660851,  0.64126747],\n",
       "       [ 5.04522121,  0.64126747,  0.9008835 ]])"
      ]
     },
     "execution_count": 32,
     "metadata": {},
     "output_type": "execute_result"
    }
   ],
   "source": [
    "# 3変数行列の共分散行列\n",
    "# [tota_billの分散, 　　　　total_billとtipの共分散, total_billとsizeの共分散]\n",
    "# [tipとtotal_billの共分散, tipの分散, 　　　　　　　tipとsizeの共分散]\n",
    "# [sizeとtota_billの共分散, sizeとtipの共分散, 　　　sizeの分散]\n",
    "x = np.stack([df['total_bill'], df['tip'], df['size']], axis=0)\n",
    "np.cov(x, bias=True)"
   ]
  },
  {
   "cell_type": "code",
   "execution_count": 33,
   "metadata": {},
   "outputs": [
    {
     "data": {
      "text/html": [
       "<div>\n",
       "<style scoped>\n",
       "    .dataframe tbody tr th:only-of-type {\n",
       "        vertical-align: middle;\n",
       "    }\n",
       "\n",
       "    .dataframe tbody tr th {\n",
       "        vertical-align: top;\n",
       "    }\n",
       "\n",
       "    .dataframe thead th {\n",
       "        text-align: right;\n",
       "    }\n",
       "</style>\n",
       "<table border=\"1\" class=\"dataframe\">\n",
       "  <thead>\n",
       "    <tr style=\"text-align: right;\">\n",
       "      <th></th>\n",
       "      <th>total_bill</th>\n",
       "      <th>tip</th>\n",
       "      <th>size</th>\n",
       "      <th>tip_rate</th>\n",
       "    </tr>\n",
       "  </thead>\n",
       "  <tbody>\n",
       "    <tr>\n",
       "      <th>total_bill</th>\n",
       "      <td>79.252939</td>\n",
       "      <td>8.323502</td>\n",
       "      <td>5.065983</td>\n",
       "      <td>-0.184107</td>\n",
       "    </tr>\n",
       "    <tr>\n",
       "      <th>tip</th>\n",
       "      <td>8.323502</td>\n",
       "      <td>1.914455</td>\n",
       "      <td>0.643906</td>\n",
       "      <td>0.028931</td>\n",
       "    </tr>\n",
       "    <tr>\n",
       "      <th>size</th>\n",
       "      <td>5.065983</td>\n",
       "      <td>0.643906</td>\n",
       "      <td>0.904591</td>\n",
       "      <td>-0.008298</td>\n",
       "    </tr>\n",
       "    <tr>\n",
       "      <th>tip_rate</th>\n",
       "      <td>-0.184107</td>\n",
       "      <td>0.028931</td>\n",
       "      <td>-0.008298</td>\n",
       "      <td>0.003730</td>\n",
       "    </tr>\n",
       "  </tbody>\n",
       "</table>\n",
       "</div>"
      ],
      "text/plain": [
       "            total_bill       tip      size  tip_rate\n",
       "total_bill   79.252939  8.323502  5.065983 -0.184107\n",
       "tip           8.323502  1.914455  0.643906  0.028931\n",
       "size          5.065983  0.643906  0.904591 -0.008298\n",
       "tip_rate     -0.184107  0.028931 -0.008298  0.003730"
      ]
     },
     "execution_count": 33,
     "metadata": {},
     "output_type": "execute_result"
    }
   ],
   "source": [
    "# dfでは不偏共分散が導出される\n",
    "df.cov()"
   ]
  },
  {
   "cell_type": "markdown",
   "metadata": {},
   "source": [
    "## 相関係数"
   ]
  },
  {
   "cell_type": "code",
   "execution_count": 34,
   "metadata": {},
   "outputs": [
    {
     "data": {
      "text/plain": [
       "array([[1.        , 0.67573411],\n",
       "       [0.67573411, 1.        ]])"
      ]
     },
     "execution_count": 34,
     "metadata": {},
     "output_type": "execute_result"
    }
   ],
   "source": [
    "np.corrcoef(df['total_bill'], df['tip'])"
   ]
  },
  {
   "cell_type": "code",
   "execution_count": 35,
   "metadata": {},
   "outputs": [
    {
     "data": {
      "text/plain": [
       "array([[1.        , 0.67573411, 0.59831513],\n",
       "       [0.67573411, 1.        , 0.48929878],\n",
       "       [0.59831513, 0.48929878, 1.        ]])"
      ]
     },
     "execution_count": 35,
     "metadata": {},
     "output_type": "execute_result"
    }
   ],
   "source": [
    "# 3変数行列の相関行列\n",
    "# [tota_bill同士の相関係数, 　total_billとtipの相関係数, total_billとsizeの相関係数]\n",
    "# [tipとtotal_billの相関係数, tip同士の相関係数, 　　　　tipとsizeの相関係数]\n",
    "# [sizeとtota_billの相関係数, sizeとtipの相関係数, 　　　size同士の相関係数]\n",
    "x = np.stack([df['total_bill'], df['tip'], df['size']], axis=0)\n",
    "np.corrcoef(x)"
   ]
  },
  {
   "cell_type": "code",
   "execution_count": 36,
   "metadata": {},
   "outputs": [
    {
     "data": {
      "text/html": [
       "<div>\n",
       "<style scoped>\n",
       "    .dataframe tbody tr th:only-of-type {\n",
       "        vertical-align: middle;\n",
       "    }\n",
       "\n",
       "    .dataframe tbody tr th {\n",
       "        vertical-align: top;\n",
       "    }\n",
       "\n",
       "    .dataframe thead th {\n",
       "        text-align: right;\n",
       "    }\n",
       "</style>\n",
       "<table border=\"1\" class=\"dataframe\">\n",
       "  <thead>\n",
       "    <tr style=\"text-align: right;\">\n",
       "      <th></th>\n",
       "      <th>total_bill</th>\n",
       "      <th>tip</th>\n",
       "      <th>size</th>\n",
       "      <th>tip_rate</th>\n",
       "    </tr>\n",
       "  </thead>\n",
       "  <tbody>\n",
       "    <tr>\n",
       "      <th>total_bill</th>\n",
       "      <td>1.000000</td>\n",
       "      <td>0.675734</td>\n",
       "      <td>0.598315</td>\n",
       "      <td>-0.338624</td>\n",
       "    </tr>\n",
       "    <tr>\n",
       "      <th>tip</th>\n",
       "      <td>0.675734</td>\n",
       "      <td>1.000000</td>\n",
       "      <td>0.489299</td>\n",
       "      <td>0.342370</td>\n",
       "    </tr>\n",
       "    <tr>\n",
       "      <th>size</th>\n",
       "      <td>0.598315</td>\n",
       "      <td>0.489299</td>\n",
       "      <td>1.000000</td>\n",
       "      <td>-0.142860</td>\n",
       "    </tr>\n",
       "    <tr>\n",
       "      <th>tip_rate</th>\n",
       "      <td>-0.338624</td>\n",
       "      <td>0.342370</td>\n",
       "      <td>-0.142860</td>\n",
       "      <td>1.000000</td>\n",
       "    </tr>\n",
       "  </tbody>\n",
       "</table>\n",
       "</div>"
      ],
      "text/plain": [
       "            total_bill       tip      size  tip_rate\n",
       "total_bill    1.000000  0.675734  0.598315 -0.338624\n",
       "tip           0.675734  1.000000  0.489299  0.342370\n",
       "size          0.598315  0.489299  1.000000 -0.142860\n",
       "tip_rate     -0.338624  0.342370 -0.142860  1.000000"
      ]
     },
     "execution_count": 36,
     "metadata": {},
     "output_type": "execute_result"
    }
   ],
   "source": [
    "# 連続変数のみ抜粋し相関係数が計算される\n",
    "# カテゴリ変数（sexなど）は自動で除かれる\n",
    "df.corr()"
   ]
  },
  {
   "cell_type": "code",
   "execution_count": 37,
   "metadata": {},
   "outputs": [
    {
     "data": {
      "text/plain": [
       "<matplotlib.axes._subplots.AxesSubplot at 0x7f9144facb10>"
      ]
     },
     "execution_count": 37,
     "metadata": {},
     "output_type": "execute_result"
    },
    {
     "data": {
      "image/png": "[encoded data removed]",
      "text/plain": [
       "<Figure size 432x288 with 2 Axes>"
      ]
     },
     "metadata": {
      "needs_background": "light"
     },
     "output_type": "display_data"
    }
   ],
   "source": [
    "# ヒートマップで相関係数を可視表示\n",
    "# cmap:色を指定、annot：数値を表示\n",
    "sns.heatmap(df.corr(), cmap='coolwarm', annot=True)"
   ]
  },
  {
   "cell_type": "markdown",
   "metadata": {},
   "source": [
    "## 連関"
   ]
  },
  {
   "cell_type": "code",
   "execution_count": 38,
   "metadata": {},
   "outputs": [
    {
     "data": {
      "text/html": [
       "<div>\n",
       "<style scoped>\n",
       "    .dataframe tbody tr th:only-of-type {\n",
       "        vertical-align: middle;\n",
       "    }\n",
       "\n",
       "    .dataframe tbody tr th {\n",
       "        vertical-align: top;\n",
       "    }\n",
       "\n",
       "    .dataframe thead th {\n",
       "        text-align: right;\n",
       "    }\n",
       "</style>\n",
       "<table border=\"1\" class=\"dataframe\">\n",
       "  <thead>\n",
       "    <tr style=\"text-align: right;\">\n",
       "      <th>time</th>\n",
       "      <th>Lunch</th>\n",
       "      <th>Dinner</th>\n",
       "    </tr>\n",
       "    <tr>\n",
       "      <th>sex</th>\n",
       "      <th></th>\n",
       "      <th></th>\n",
       "    </tr>\n",
       "  </thead>\n",
       "  <tbody>\n",
       "    <tr>\n",
       "      <th>Male</th>\n",
       "      <td>33</td>\n",
       "      <td>124</td>\n",
       "    </tr>\n",
       "    <tr>\n",
       "      <th>Female</th>\n",
       "      <td>35</td>\n",
       "      <td>52</td>\n",
       "    </tr>\n",
       "  </tbody>\n",
       "</table>\n",
       "</div>"
      ],
      "text/plain": [
       "time    Lunch  Dinner\n",
       "sex                  \n",
       "Male       33     124\n",
       "Female     35      52"
      ]
     },
     "execution_count": 38,
     "metadata": {},
     "output_type": "execute_result"
    }
   ],
   "source": [
    "# 分割表を表示\n",
    "pd.crosstab(df['sex'], df['time'])"
   ]
  },
  {
   "cell_type": "code",
   "execution_count": 39,
   "metadata": {},
   "outputs": [
    {
     "data": {
      "text/plain": [
       "(10.277251918677742,\n",
       " 0.0013468039268008766,\n",
       " 1,\n",
       " array([[ 43.75409836, 113.24590164],\n",
       "        [ 24.24590164,  62.75409836]]))"
      ]
     },
     "execution_count": 39,
     "metadata": {},
     "output_type": "execute_result"
    }
   ],
   "source": [
    "# x2と期待度数を取得\n",
    "# 第1戻り値：x2値、第3戻り値：期待度数配列（連関がない場合の度数）\n",
    "# x2値は、度数の大きさに依存するため標準化した値に変換する必要がある　⇒　クラメールの連関係数（x2を0～1に標準化）\n",
    "cont_table = pd.crosstab(df['sex'], df['time'])\n",
    "stats.chi2_contingency(cont_table, correction=False)"
   ]
  },
  {
   "cell_type": "markdown",
   "metadata": {},
   "source": [
    "## クラメールの連関係数"
   ]
  },
  {
   "cell_type": "code",
   "execution_count": 40,
   "metadata": {},
   "outputs": [
    {
     "data": {
      "text/plain": [
       "0.20523129613344476"
      ]
     },
     "execution_count": 40,
     "metadata": {},
     "output_type": "execute_result"
    }
   ],
   "source": [
    "StatsUtil.cramers_v(df['sex'], df['time'])"
   ]
  },
  {
   "cell_type": "markdown",
   "metadata": {},
   "source": [
    "## 確率分布"
   ]
  },
  {
   "cell_type": "code",
   "execution_count": 41,
   "metadata": {},
   "outputs": [
    {
     "data": {
      "text/plain": [
       "2"
      ]
     },
     "execution_count": 41,
     "metadata": {},
     "output_type": "execute_result"
    }
   ],
   "source": [
    "# 離散値の一様分布：離散型確率分布⇒確率質量関数（PMF）\n",
    "# random variates(rvs)：確率変量（サイコロであれば1～6）\n",
    "stats.randint.rvs(1, 7)\n",
    "\n",
    "# もう一つの書き方\n",
    "stats.randint(1, 7).rvs()"
   ]
  },
  {
   "cell_type": "code",
   "execution_count": 42,
   "metadata": {},
   "outputs": [
    {
     "data": {
      "text/plain": [
       "0.15677709200238177"
      ]
     },
     "execution_count": 42,
     "metadata": {},
     "output_type": "execute_result"
    }
   ],
   "source": [
    "# 連続値の一様分布：連続型確率分布⇒確率密度関数（PDF）\n",
    "stats.uniform.rvs(0, 1)\n",
    "\n",
    "# もう一つの書き方\n",
    "stats.uniform(0, 1).rvs()"
   ]
  },
  {
   "cell_type": "markdown",
   "metadata": {},
   "source": [
    "## 確率分布の描画"
   ]
  },
  {
   "cell_type": "code",
   "execution_count": 43,
   "metadata": {},
   "outputs": [
    {
     "data": {
      "text/plain": [
       "[<matplotlib.lines.Line2D at 0x7f9144e71610>]"
      ]
     },
     "execution_count": 43,
     "metadata": {},
     "output_type": "execute_result"
    },
    {
     "data": {
      "image/png": "[encoded data removed]",
      "text/plain": [
       "<Figure size 432x288 with 1 Axes>"
      ]
     },
     "metadata": {
      "needs_background": "light"
     },
     "output_type": "display_data"
    }
   ],
   "source": [
    "# 連続値の配列：linspace\n",
    "x = np.linspace(-3, 3, 100)\n",
    "y = StatsUtil.sample_func(x)\n",
    "\n",
    "plt.plot(x,y)"
   ]
  },
  {
   "cell_type": "code",
   "execution_count": 44,
   "metadata": {},
   "outputs": [
    {
     "data": {
      "text/plain": [
       "[<matplotlib.lines.Line2D at 0x7f9144dd5c10>]"
      ]
     },
     "execution_count": 44,
     "metadata": {},
     "output_type": "execute_result"
    },
    {
     "data": {
      "image/png": "[encoded data removed]",
      "text/plain": [
       "<Figure size 432x288 with 1 Axes>"
      ]
     },
     "metadata": {
      "needs_background": "light"
     },
     "output_type": "display_data"
    }
   ],
   "source": [
    "# 離散値の配列：arange\n",
    "x = np.arange(-3, 3)\n",
    "y = StatsUtil.sample_func(x)\n",
    "\n",
    "plt.plot(x,y)"
   ]
  },
  {
   "cell_type": "code",
   "execution_count": 45,
   "metadata": {},
   "outputs": [
    {
     "data": {
      "text/plain": [
       "<matplotlib.collections.LineCollection at 0x7f9144d89fd0>"
      ]
     },
     "execution_count": 45,
     "metadata": {},
     "output_type": "execute_result"
    },
    {
     "data": {
      "image/png": "[encoded data removed]",
      "text/plain": [
       "<Figure size 432x288 with 1 Axes>"
      ]
     },
     "metadata": {
      "needs_background": "light"
     },
     "output_type": "display_data"
    }
   ],
   "source": [
    "# 確率質量関数を描画\n",
    "# 離散値の配列：arange\n",
    "x = np.arange(1, 7)\n",
    "y = stats.randint(1, 7).pmf(x)\n",
    "\n",
    "# 点同士を線で結ばないように設定\n",
    "plt.plot(x, y, 'o')\n",
    "plt.vlines(x, 0, y)"
   ]
  },
  {
   "cell_type": "code",
   "execution_count": 46,
   "metadata": {},
   "outputs": [
    {
     "data": {
      "text/plain": [
       "[<matplotlib.lines.Line2D at 0x7f9144d3b050>]"
      ]
     },
     "execution_count": 46,
     "metadata": {},
     "output_type": "execute_result"
    },
    {
     "data": {
      "image/png": "[encoded data removed]",
      "text/plain": [
       "<Figure size 432x288 with 1 Axes>"
      ]
     },
     "metadata": {
      "needs_background": "light"
     },
     "output_type": "display_data"
    }
   ],
   "source": [
    "# 確率密度関数を描画\n",
    "# 連続値の配列：arange\n",
    "x = np.linspace(-2, 2, 1000)\n",
    "y = stats.uniform(0, 1).pdf(x)\n",
    "\n",
    "plt.plot(x, y)"
   ]
  },
  {
   "cell_type": "markdown",
   "metadata": {},
   "source": [
    "## 累積分布関数"
   ]
  },
  {
   "cell_type": "code",
   "execution_count": 47,
   "metadata": {},
   "outputs": [
    {
     "data": {
      "text/plain": [
       "[<matplotlib.lines.Line2D at 0x7f9144ca4950>]"
      ]
     },
     "execution_count": 47,
     "metadata": {},
     "output_type": "execute_result"
    },
    {
     "data": {
      "image/png": "[encoded data removed]",
      "text/plain": [
       "<Figure size 432x288 with 1 Axes>"
      ]
     },
     "metadata": {
      "needs_background": "light"
     },
     "output_type": "display_data"
    }
   ],
   "source": [
    "# 累積分布関数を描画（cdf）\n",
    "x = np.linspace(-3, 3, 10000)\n",
    "y = stats.norm().cdf(x)\n",
    "\n",
    "plt.plot(x, y)"
   ]
  },
  {
   "cell_type": "code",
   "execution_count": 48,
   "metadata": {},
   "outputs": [
    {
     "data": {
      "text/plain": [
       "[<matplotlib.lines.Line2D at 0x7f9144c14690>]"
      ]
     },
     "execution_count": 48,
     "metadata": {},
     "output_type": "execute_result"
    },
    {
     "data": {
      "image/png": "[encoded data removed]",
      "text/plain": [
       "<Figure size 432x288 with 1 Axes>"
      ]
     },
     "metadata": {
      "needs_background": "light"
     },
     "output_type": "display_data"
    }
   ],
   "source": [
    "# 累積分布関数を描画（sf = 1-cdf）\n",
    "x = np.linspace(-3, 3, 10000)\n",
    "y = stats.norm().sf(x)\n",
    "\n",
    "plt.plot(x, y)"
   ]
  },
  {
   "cell_type": "markdown",
   "metadata": {},
   "source": [
    "## 正規分布"
   ]
  },
  {
   "cell_type": "code",
   "execution_count": 49,
   "metadata": {},
   "outputs": [
    {
     "data": {
      "text/plain": [
       "[<matplotlib.lines.Line2D at 0x7f9145067410>]"
      ]
     },
     "execution_count": 49,
     "metadata": {},
     "output_type": "execute_result"
    },
    {
     "data": {
      "image/png": "[encoded data removed]",
      "text/plain": [
       "<Figure size 432x288 with 1 Axes>"
      ]
     },
     "metadata": {
      "needs_background": "light"
     },
     "output_type": "display_data"
    }
   ],
   "source": [
    "# 正規分布を描画（norm）\n",
    "x = np.linspace(-5, 15, 100)\n",
    "# mean；10,std:3\n",
    "y = stats.norm(loc=10, scale=3).pdf(x)\n",
    "# mean；8,std:3\n",
    "y2 = stats.norm(loc=8, scale=3).pdf(x)\n",
    "# mean；10,std:8\n",
    "y3 = stats.norm(loc=8, scale=8).pdf(x)\n",
    "# mean；0,std:1\n",
    "y4 = stats.norm().pdf(x)\n",
    "\n",
    "plt.plot(x, y)\n",
    "plt.plot(x, y2)\n",
    "plt.plot(x, y3)\n",
    "plt.plot(x, y4)"
   ]
  },
  {
   "cell_type": "markdown",
   "metadata": {},
   "source": [
    "## カーネル密度推定（KDE）"
   ]
  },
  {
   "cell_type": "code",
   "execution_count": 50,
   "metadata": {},
   "outputs": [
    {
     "data": {
      "text/plain": [
       "[<matplotlib.lines.Line2D at 0x7f9144b8fc10>]"
      ]
     },
     "execution_count": 50,
     "metadata": {},
     "output_type": "execute_result"
    },
    {
     "data": {
      "image/png": "[encoded data removed]",
      "text/plain": [
       "<Figure size 432x288 with 1 Axes>"
      ]
     },
     "metadata": {
      "needs_background": "light"
     },
     "output_type": "display_data"
    }
   ],
   "source": [
    "# tipの確率密度推定を描画\n",
    "x = np.linspace(-5, 10, 1000)\n",
    "y = stats.gaussian_kde(df['tip']).pdf(x)\n",
    "\n",
    "plt.plot(x,y)"
   ]
  },
  {
   "cell_type": "code",
   "execution_count": 51,
   "metadata": {},
   "outputs": [
    {
     "data": {
      "text/plain": [
       "<matplotlib.axes._subplots.AxesSubplot at 0x7f9144b58990>"
      ]
     },
     "execution_count": 51,
     "metadata": {},
     "output_type": "execute_result"
    },
    {
     "data": {
      "image/png": "[encoded data removed]",
      "text/plain": [
       "<Figure size 432x288 with 1 Axes>"
      ]
     },
     "metadata": {
      "needs_background": "light"
     },
     "output_type": "display_data"
    }
   ],
   "source": [
    "# tipの確率密度推定を描画（seaborn）\n",
    "sns.distplot(df['tip'], kde=True)"
   ]
  },
  {
   "cell_type": "code",
   "execution_count": 52,
   "metadata": {},
   "outputs": [
    {
     "data": {
      "text/plain": [
       "array([[1.86722364, 2.6487467 , 2.60972525, 4.31661428, 3.00842944,\n",
       "        4.28517002, 1.05095316, 5.65997083, 1.73365844, 2.77766849,\n",
       "        2.77870941, 3.99249142, 1.15068724, 3.54300908, 2.63375727,\n",
       "        1.79887478, 4.04762648, 3.07400059, 5.17647148, 2.06662053,\n",
       "        3.78856745, 2.13426758, 2.98083981, 5.71861241, 1.8364708 ,\n",
       "        4.37542179, 1.68285128, 2.94758224, 5.78887266, 3.59591784,\n",
       "        1.62577598, 4.503064  , 3.88109782, 2.40713241, 3.17363253,\n",
       "        3.40629644, 1.95784989, 2.30928379, 3.11246279, 8.80615117,\n",
       "        0.97673946, 2.67859934, 3.80034433, 0.79628076, 3.31526418,\n",
       "        2.17485095, 4.74527885, 2.49738438, 3.69384336, 3.17983632,\n",
       "        1.83822697, 2.39055789, 2.62591505, 2.72077018, 2.79248079,\n",
       "        2.77967782, 3.13347804, 2.55473381, 1.83056008, 1.62165473,\n",
       "        3.21190062, 4.34297894, 2.26868297, 2.53494637, 1.09913748,\n",
       "        4.42956976, 2.46221919, 2.45160587, 1.07160059, 1.90555809,\n",
       "        5.34281347, 3.13820513, 2.520271  , 3.55772423, 1.85397551,\n",
       "        5.29101342, 5.25512406, 1.98231957, 4.2449195 , 1.19498283,\n",
       "        7.17284555, 4.11901691, 3.73621146, 4.49779192, 1.19305282,\n",
       "        1.90538752, 4.41311708, 2.67205303, 1.127598  , 2.7744636 ,\n",
       "        3.33692022, 2.84421852, 1.01136856, 1.79479088, 4.74573552,\n",
       "        3.10988082, 4.70106019, 3.51324193, 4.0992848 , 2.24655916,\n",
       "        2.22777254, 3.60856601, 3.24239569, 1.24086124, 2.11923143,\n",
       "        3.65522849, 2.06516887, 4.51738729, 0.11883141, 2.44257102,\n",
       "        2.70850885, 3.02242428, 3.4946324 , 4.69023098, 3.62080284,\n",
       "        2.12299985, 4.18977479, 4.90213014, 3.63385118, 1.33583786,\n",
       "        2.25341964, 2.90709996, 1.80582617, 1.01751469, 1.95071622,\n",
       "        0.43086314, 2.13768507, 2.16409667, 1.3581783 , 4.42814407,\n",
       "        4.41121756, 1.89366697, 2.74021894, 3.07517517, 1.94501648,\n",
       "        3.73071717, 3.60425352, 2.28478826, 1.83651494, 4.3302187 ,\n",
       "        2.278879  , 2.99781059, 2.68713996, 3.34549165, 4.04623038,\n",
       "        5.09003097, 2.5082972 , 1.94921229, 2.60899197, 2.89945589,\n",
       "        3.36497317, 3.69824932, 2.21101538, 2.48142733, 2.0805269 ,\n",
       "        2.97930149, 2.26172174, 4.26602373, 2.85949826, 2.92379725,\n",
       "        3.41442337, 3.09174436, 1.52630633, 3.63777591, 2.72709399,\n",
       "        6.42465061, 2.13596648, 2.16597333, 0.62579571, 3.93724096,\n",
       "        2.04486027, 6.9950098 , 3.36048172, 1.05213649, 1.53025175,\n",
       "        2.04790212, 2.45564572, 4.94965676, 7.44190546, 2.34350002,\n",
       "        3.47558509, 2.15285737, 4.95271003, 1.60179712, 3.16092002,\n",
       "        1.23149061, 3.68100482, 4.64035265, 7.26765587, 3.29552016,\n",
       "        1.71517652, 3.3011415 , 2.69083998, 1.8320763 , 1.84166195,\n",
       "        0.7227152 , 1.12288376, 3.56835087, 3.37444307, 2.27152194,\n",
       "        1.82943377, 5.19107111, 6.47393441, 2.47131333, 1.936574  ,\n",
       "        2.95034999, 2.86014577, 0.9965933 , 3.75442305, 3.00602793,\n",
       "        1.31210014, 3.04553622, 4.56664712, 4.68542836, 4.16685244,\n",
       "        1.60870863, 1.88841787, 2.87108103, 3.45100536, 1.90360846,\n",
       "        3.74837257, 2.57525244, 6.51964342, 3.51361236, 1.47167711,\n",
       "        5.99166993, 1.41236555, 2.52802269, 1.730045  , 1.81307395,\n",
       "        1.75772616, 1.62936609, 3.3552547 , 2.40247862, 4.85803033,\n",
       "        1.33276222, 3.45367683, 3.252089  , 0.69577674, 2.03717096,\n",
       "        4.77696881, 4.00272955, 3.03634785, 1.34073676]])"
      ]
     },
     "execution_count": 52,
     "metadata": {},
     "output_type": "execute_result"
    }
   ],
   "source": [
    "# 作成した確率密度推定器からサンプルデータを生成\n",
    "stats.gaussian_kde(df['tip']).resample()"
   ]
  },
  {
   "cell_type": "markdown",
   "metadata": {},
   "source": [
    "## 68-95-99.7ルール"
   ]
  },
  {
   "cell_type": "code",
   "execution_count": 53,
   "metadata": {},
   "outputs": [
    {
     "name": "stdout",
     "output_type": "stream",
     "text": [
      "s1 : 0.6788%\n",
      "s2 : 0.9546%\n",
      "s3 : 0.9968%\n"
     ]
    }
   ],
   "source": [
    "StatsUtil.norm_percent(4, 3, 10000)"
   ]
  },
  {
   "cell_type": "code",
   "execution_count": 54,
   "metadata": {},
   "outputs": [
    {
     "name": "stdout",
     "output_type": "stream",
     "text": [
      "s1 : 0.682985%\n",
      "s2 : 0.954464%\n",
      "s3 : 0.997293%\n"
     ]
    }
   ],
   "source": [
    "StatsUtil.norm_percent(0, 1, 1000000)"
   ]
  },
  {
   "cell_type": "markdown",
   "metadata": {},
   "source": [
    "## 標準化"
   ]
  },
  {
   "cell_type": "code",
   "execution_count": 55,
   "metadata": {},
   "outputs": [],
   "source": [
    "# 標準化の関数を持つStandardScalerクラス\n",
    "scaler = StandardScaler()"
   ]
  },
  {
   "cell_type": "code",
   "execution_count": 56,
   "metadata": {},
   "outputs": [],
   "source": [
    "# 1次元配列では、2次元に変換が必要\n",
    "# reshapeの-1はdf['tip_rate']の配列数\n",
    "scaled = scaler.fit_transform(df['tip_rate'].values.reshape(-1, 1))"
   ]
  },
  {
   "cell_type": "code",
   "execution_count": 57,
   "metadata": {},
   "outputs": [
    {
     "data": {
      "text/plain": [
       "array([[ 33.36981828],\n",
       "       [ 49.95717657],\n",
       "       [ 50.94914672],\n",
       "       [ 46.5507406 ],\n",
       "       [ 47.70375032],\n",
       "       [ 54.17363756],\n",
       "       [ 61.03379478],\n",
       "       [ 42.66063856],\n",
       "       [ 44.99836433],\n",
       "       [ 59.47315739],\n",
       "       [ 50.93553526],\n",
       "       [ 46.88272423],\n",
       "       [ 40.3216191 ],\n",
       "       [ 50.32413406],\n",
       "       [ 57.02885077],\n",
       "       [ 53.42053237],\n",
       "       [ 50.14151189],\n",
       "       [ 60.98406513],\n",
       "       [ 57.45627991],\n",
       "       [ 50.23381346],\n",
       "       [ 60.97282376],\n",
       "       [ 45.85412481],\n",
       "       [ 46.81774845],\n",
       "       [ 55.16606793],\n",
       "       [ 49.94116426],\n",
       "       [ 45.17355156],\n",
       "       [ 48.16004664],\n",
       "       [ 49.47525348],\n",
       "       [ 56.12895542],\n",
       "       [ 48.665917  ],\n",
       "       [ 48.52820785],\n",
       "       [ 45.9698051 ],\n",
       "       [ 56.30066304],\n",
       "       [ 43.04511479],\n",
       "       [ 53.79214012],\n",
       "       [ 48.16616736],\n",
       "       [ 43.73579175],\n",
       "       [ 53.36888626],\n",
       "       [ 43.8951679 ],\n",
       "       [ 49.8515239 ],\n",
       "       [ 46.52948726],\n",
       "       [ 47.48515471],\n",
       "       [ 59.63290777],\n",
       "       [ 45.99012678],\n",
       "       [ 53.84070953],\n",
       "       [ 50.52857055],\n",
       "       [ 60.52041476],\n",
       "       [ 54.0006288 ],\n",
       "       [ 35.3973396 ],\n",
       "       [ 50.90152794],\n",
       "       [ 56.3267274 ],\n",
       "       [ 65.07375667],\n",
       "       [ 48.12620246],\n",
       "       [ 49.3665092 ],\n",
       "       [ 51.47570612],\n",
       "       [ 53.1650116 ],\n",
       "       [ 36.56601957],\n",
       "       [ 32.93500302],\n",
       "       [ 49.30776628],\n",
       "       [ 46.49227458],\n",
       "       [ 49.5739623 ],\n",
       "       [ 47.37804841],\n",
       "       [ 53.09625771],\n",
       "       [ 57.34643039],\n",
       "       [ 48.24153466],\n",
       "       [ 49.35516491],\n",
       "       [ 48.2524786 ],\n",
       "       [ 77.06130127],\n",
       "       [ 39.91824625],\n",
       "       [ 46.46215549],\n",
       "       [ 50.50715093],\n",
       "       [ 52.4520256 ],\n",
       "       [ 42.79699139],\n",
       "       [ 56.06793973],\n",
       "       [ 48.12172255],\n",
       "       [ 43.13037834],\n",
       "       [ 51.81673116],\n",
       "       [ 47.74496292],\n",
       "       [ 45.24301069],\n",
       "       [ 49.33309471],\n",
       "       [ 48.93651833],\n",
       "       [ 57.10110461],\n",
       "       [ 53.43336797],\n",
       "       [ 48.71957357],\n",
       "       [ 44.45931227],\n",
       "       [ 47.97080424],\n",
       "       [ 48.8004908 ],\n",
       "       [ 59.51906867],\n",
       "       [ 62.46062397],\n",
       "       [ 46.87832598],\n",
       "       [ 40.60704424],\n",
       "       [ 49.1504314 ],\n",
       "       [ 52.15112759],\n",
       "       [ 66.84708553],\n",
       "       [ 47.05556301],\n",
       "       [ 42.93598234],\n",
       "       [ 47.6742034 ],\n",
       "       [ 44.07446712],\n",
       "       [ 47.04440661],\n",
       "       [ 43.36843538],\n",
       "       [ 59.75631384],\n",
       "       [ 55.62061733],\n",
       "       [ 32.87540045],\n",
       "       [ 49.08378862],\n",
       "       [ 55.61572178],\n",
       "       [ 41.13462312],\n",
       "       [ 56.12711033],\n",
       "       [ 51.53707264],\n",
       "       [ 57.43889329],\n",
       "       [ 69.479608  ],\n",
       "       [ 58.77536154],\n",
       "       [ 46.24730104],\n",
       "       [ 40.85549097],\n",
       "       [ 41.08556125],\n",
       "       [ 49.14333731],\n",
       "       [ 56.79159437],\n",
       "       [ 51.40986169],\n",
       "       [ 46.72542784],\n",
       "       [ 47.37613674],\n",
       "       [ 43.5123681 ],\n",
       "       [ 56.0384026 ],\n",
       "       [ 44.15617917],\n",
       "       [ 52.38124986],\n",
       "       [ 44.18990694],\n",
       "       [ 56.74693487],\n",
       "       [ 46.74093754],\n",
       "       [ 52.11763561],\n",
       "       [ 46.2161284 ],\n",
       "       [ 52.4520256 ],\n",
       "       [ 39.29029772],\n",
       "       [ 36.51511527],\n",
       "       [ 46.52363333],\n",
       "       [ 45.64960687],\n",
       "       [ 50.38222686],\n",
       "       [ 52.81918791],\n",
       "       [ 47.71660922],\n",
       "       [ 55.38308684],\n",
       "       [ 46.80708671],\n",
       "       [ 44.12561337],\n",
       "       [ 57.90261058],\n",
       "       [ 56.48775347],\n",
       "       [ 55.66602723],\n",
       "       [ 43.53307925],\n",
       "       [ 53.94446492],\n",
       "       [ 46.58477378],\n",
       "       [ 53.09090836],\n",
       "       [ 35.5872623 ],\n",
       "       [ 46.14720457],\n",
       "       [ 52.63984329],\n",
       "       [ 67.31161959],\n",
       "       [ 52.76969363],\n",
       "       [ 48.60868178],\n",
       "       [ 49.66298053],\n",
       "       [ 36.98274227],\n",
       "       [ 40.21456781],\n",
       "       [ 51.8691218 ],\n",
       "       [ 40.64702048],\n",
       "       [ 48.22754286],\n",
       "       [ 55.59814954],\n",
       "       [ 43.51616964],\n",
       "       [ 50.32620446],\n",
       "       [ 56.01667278],\n",
       "       [ 43.85991159],\n",
       "       [ 47.37804841],\n",
       "       [ 51.72741873],\n",
       "       [ 46.90261294],\n",
       "       [ 41.31986199],\n",
       "       [ 46.90033389],\n",
       "       [ 48.56065517],\n",
       "       [ 54.48655474],\n",
       "       [ 55.90826656],\n",
       "       [ 56.41064571],\n",
       "       [140.16734169],\n",
       "       [ 39.99792609],\n",
       "       [ 62.63550921],\n",
       "       [ 39.12599719],\n",
       "       [ 41.95885912],\n",
       "       [ 46.27855979],\n",
       "       [ 91.98145738],\n",
       "       [ 40.43589049],\n",
       "       [ 41.0417674 ],\n",
       "       [ 63.35175951],\n",
       "       [ 36.27903382],\n",
       "       [ 69.64538616],\n",
       "       [ 35.75484482],\n",
       "       [ 63.26729012],\n",
       "       [ 51.09300556],\n",
       "       [ 34.38925415],\n",
       "       [ 55.25619338],\n",
       "       [ 52.02759875],\n",
       "       [ 39.30212077],\n",
       "       [ 58.31982167],\n",
       "       [ 38.38521979],\n",
       "       [ 45.02655396],\n",
       "       [ 63.20032769],\n",
       "       [ 54.86876203],\n",
       "       [ 55.35236429],\n",
       "       [ 42.64602619],\n",
       "       [ 48.85860894],\n",
       "       [ 47.90570383],\n",
       "       [ 58.69393055],\n",
       "       [ 49.50255391],\n",
       "       [ 48.85860894],\n",
       "       [ 48.6277311 ],\n",
       "       [ 55.5842425 ],\n",
       "       [ 55.79382202],\n",
       "       [ 44.65783063],\n",
       "       [ 36.32527496],\n",
       "       [ 37.33976793],\n",
       "       [ 52.29089621],\n",
       "       [ 34.53261128],\n",
       "       [ 56.31732732],\n",
       "       [ 54.17037552],\n",
       "       [ 54.52726576],\n",
       "       [ 61.47545002],\n",
       "       [ 37.60704326],\n",
       "       [ 41.10198862],\n",
       "       [ 44.85114879],\n",
       "       [ 54.14195282],\n",
       "       [ 40.43741533],\n",
       "       [ 53.30098196],\n",
       "       [ 66.16355048],\n",
       "       [ 60.33253757],\n",
       "       [ 54.41894081],\n",
       "       [ 42.93354743],\n",
       "       [ 48.82757926],\n",
       "       [ 56.13869725],\n",
       "       [ 47.68596782],\n",
       "       [ 57.22213523],\n",
       "       [ 44.97863668],\n",
       "       [ 37.28336948],\n",
       "       [ 54.98827559],\n",
       "       [ 71.52480645],\n",
       "       [ 46.0109013 ],\n",
       "       [ 55.3114932 ],\n",
       "       [ 43.98304383],\n",
       "       [ 36.63796431],\n",
       "       [ 29.46337075],\n",
       "       [ 45.00140909],\n",
       "       [ 57.07572834],\n",
       "       [ 35.68934191],\n",
       "       [ 38.09123541],\n",
       "       [ 39.72904473],\n",
       "       [ 49.826378  ]])"
      ]
     },
     "execution_count": 57,
     "metadata": {},
     "output_type": "execute_result"
    }
   ],
   "source": [
    "# 偏差値を計算\n",
    "scaled * 10 + 50"
   ]
  },
  {
   "cell_type": "markdown",
   "metadata": {},
   "source": [
    "## 二項分布"
   ]
  },
  {
   "cell_type": "code",
   "execution_count": 58,
   "metadata": {},
   "outputs": [
    {
     "data": {
      "text/plain": [
       "<matplotlib.collections.LineCollection at 0x7f9144aea3d0>"
      ]
     },
     "execution_count": 58,
     "metadata": {},
     "output_type": "execute_result"
    },
    {
     "data": {
      "image/png": "[encoded data removed]",
      "text/plain": [
       "<Figure size 432x288 with 1 Axes>"
      ]
     },
     "metadata": {
      "needs_background": "light"
     },
     "output_type": "display_data"
    }
   ],
   "source": [
    "# n：発生回数\n",
    "n = 4\n",
    "x = np.arange(n+1)\n",
    "y = stats.binom(n=n, p=1/6).pmf(x)\n",
    "plt.plot(x, y, 'o')\n",
    "plt.vlines(x, 0, y)"
   ]
  },
  {
   "cell_type": "markdown",
   "metadata": {},
   "source": [
    "## 二項分布⇒正規分布"
   ]
  },
  {
   "cell_type": "code",
   "execution_count": 59,
   "metadata": {},
   "outputs": [
    {
     "data": {
      "text/plain": [
       "[<matplotlib.lines.Line2D at 0x7f9144a1b510>]"
      ]
     },
     "execution_count": 59,
     "metadata": {},
     "output_type": "execute_result"
    },
    {
     "data": {
      "image/png": "[encoded data removed]",
      "text/plain": [
       "<Figure size 432x288 with 1 Axes>"
      ]
     },
     "metadata": {
      "needs_background": "light"
     },
     "output_type": "display_data"
    }
   ],
   "source": [
    "# サイコロを100回降った場合の確率質量関数\n",
    "n = 100\n",
    "p = 1/6\n",
    "x = np.arange(n+1)\n",
    "y = stats.binom(n=n, p=p).pmf(x)\n",
    "plt.plot(x, y)"
   ]
  },
  {
   "cell_type": "code",
   "execution_count": 60,
   "metadata": {},
   "outputs": [
    {
     "data": {
      "text/plain": [
       "[<matplotlib.lines.Line2D at 0x7f9144a00b10>]"
      ]
     },
     "execution_count": 60,
     "metadata": {},
     "output_type": "execute_result"
    },
    {
     "data": {
      "image/png": "[encoded data removed]",
      "text/plain": [
       "<Figure size 432x288 with 1 Axes>"
      ]
     },
     "metadata": {
      "needs_background": "light"
     },
     "output_type": "display_data"
    }
   ],
   "source": [
    "# 二項分布より求めた平均、分散から正規分布を描画\n",
    "y = stats.norm(n*p, np.sqrt(n*p*(1-p))).pdf(x)\n",
    "plt.plot(x, y)"
   ]
  },
  {
   "cell_type": "code",
   "execution_count": 61,
   "metadata": {},
   "outputs": [
    {
     "data": {
      "text/plain": [
       "16.666666666666664"
      ]
     },
     "execution_count": 61,
     "metadata": {},
     "output_type": "execute_result"
    }
   ],
   "source": [
    "# 平均（関数より）\n",
    "stats.binom(n=n, p=p).mean()"
   ]
  },
  {
   "cell_type": "code",
   "execution_count": 62,
   "metadata": {},
   "outputs": [
    {
     "data": {
      "text/plain": [
       "16.666666666666664"
      ]
     },
     "execution_count": 62,
     "metadata": {},
     "output_type": "execute_result"
    }
   ],
   "source": [
    "# 平均（公式より）= np\n",
    "n * p"
   ]
  },
  {
   "cell_type": "code",
   "execution_count": 63,
   "metadata": {},
   "outputs": [
    {
     "data": {
      "text/plain": [
       "13.888888888888888"
      ]
     },
     "execution_count": 63,
     "metadata": {},
     "output_type": "execute_result"
    }
   ],
   "source": [
    "# 分散（関数より）\n",
    "stats.binom(n=n, p=p).var()"
   ]
  },
  {
   "cell_type": "code",
   "execution_count": 64,
   "metadata": {},
   "outputs": [
    {
     "data": {
      "text/plain": [
       "13.888888888888888"
      ]
     },
     "execution_count": 64,
     "metadata": {},
     "output_type": "execute_result"
    }
   ],
   "source": [
    "# 分散（公式より）= np(1-p)\n",
    "n * p * (1 - p)"
   ]
  },
  {
   "cell_type": "markdown",
   "metadata": {},
   "source": [
    "## 標本分布"
   ]
  },
  {
   "cell_type": "code",
   "execution_count": 65,
   "metadata": {},
   "outputs": [
    {
     "name": "stdout",
     "output_type": "stream",
     "text": [
      "標本平均:3.0008858\n",
      "標本分散:0.03252178307836\n",
      "\n",
      "母平均　:2.9982786885245902\n",
      "母分散　:0.03813217024993285\n"
     ]
    }
   ],
   "source": [
    "StatsUtil.calc_sample_mean(df['tip'], 1000, 50)"
   ]
  },
  {
   "cell_type": "markdown",
   "metadata": {},
   "source": [
    "## 不偏分散"
   ]
  },
  {
   "cell_type": "code",
   "execution_count": 66,
   "metadata": {},
   "outputs": [
    {
     "data": {
      "text/plain": [
       "1.914454638062471"
      ]
     },
     "execution_count": 66,
     "metadata": {},
     "output_type": "execute_result"
    }
   ],
   "source": [
    "# 不偏分散（stats）\n",
    "stats.tvar(df['tip'])"
   ]
  },
  {
   "cell_type": "code",
   "execution_count": 67,
   "metadata": {},
   "outputs": [
    {
     "data": {
      "text/plain": [
       "1.9144546380624725"
      ]
     },
     "execution_count": 67,
     "metadata": {},
     "output_type": "execute_result"
    }
   ],
   "source": [
    "# 不偏分散（np.var）\n",
    "# ddof（自由度）=1で不偏分散を計算\n",
    "np.var(df['tip'], ddof=1)"
   ]
  },
  {
   "cell_type": "code",
   "execution_count": 68,
   "metadata": {},
   "outputs": [
    {
     "data": {
      "text/plain": [
       "1.3836381890011822"
      ]
     },
     "execution_count": 68,
     "metadata": {},
     "output_type": "execute_result"
    }
   ],
   "source": [
    "# 不偏分散の平方根（stats.tvar）\n",
    "np.sqrt(stats.tvar(df['tip']))"
   ]
  },
  {
   "cell_type": "code",
   "execution_count": 69,
   "metadata": {},
   "outputs": [
    {
     "data": {
      "text/plain": [
       "1.3836381890011822"
      ]
     },
     "execution_count": 69,
     "metadata": {},
     "output_type": "execute_result"
    }
   ],
   "source": [
    "# 不偏分散の平方根（stats.tstd）\n",
    "stats.tstd(df['tip'])"
   ]
  },
  {
   "cell_type": "code",
   "execution_count": 70,
   "metadata": {},
   "outputs": [
    {
     "data": {
      "text/plain": [
       "1.3836381890011826"
      ]
     },
     "execution_count": 70,
     "metadata": {},
     "output_type": "execute_result"
    }
   ],
   "source": [
    "# ddof（自由度）=1で不偏分散の平方根を計算\n",
    "np.std(df['tip'], ddof=1)"
   ]
  },
  {
   "cell_type": "markdown",
   "metadata": {},
   "source": [
    "## 不偏分散の不偏性"
   ]
  },
  {
   "cell_type": "code",
   "execution_count": 71,
   "metadata": {},
   "outputs": [
    {
     "name": "stdout",
     "output_type": "stream",
     "text": [
      "分散平均　　:1.874964394812\n",
      "不偏分散平均:1.9132289742979591\n",
      "\n",
      "母分散　　　:1.9066085124966428\n"
     ]
    }
   ],
   "source": [
    "StatsUtil.calc_sample_var(df['tip'], 10000, 50)"
   ]
  },
  {
   "cell_type": "markdown",
   "metadata": {},
   "source": [
    "## 比率の区間推定"
   ]
  },
  {
   "cell_type": "code",
   "execution_count": 72,
   "metadata": {},
   "outputs": [
    {
     "data": {
      "text/plain": [
       "(570.0, 630.0)"
      ]
     },
     "execution_count": 72,
     "metadata": {},
     "output_type": "execute_result"
    }
   ],
   "source": [
    "# binomは二項分布用の関数のため、結果は比率ではなく発生回数\n",
    "# ci　　　：95%\n",
    "# 標本数　：1000\n",
    "# 標本比率：0.6\n",
    "stats.binom.interval(0.95, 1000, 0.6)"
   ]
  },
  {
   "cell_type": "code",
   "execution_count": 73,
   "metadata": {},
   "outputs": [
    {
     "data": {
      "text/plain": [
       "(560.0, 640.0)"
      ]
     },
     "execution_count": 73,
     "metadata": {},
     "output_type": "execute_result"
    }
   ],
   "source": [
    "# ci　　　：99%\n",
    "# 標本数　：1000\n",
    "# 標本比率：0.6\n",
    "stats.binom.interval(0.99, 1000, 0.6)"
   ]
  },
  {
   "cell_type": "code",
   "execution_count": 74,
   "metadata": {},
   "outputs": [
    {
     "data": {
      "text/plain": [
       "tuple"
      ]
     },
     "execution_count": 74,
     "metadata": {},
     "output_type": "execute_result"
    }
   ],
   "source": [
    "type(stats.binom.interval(0.95, 1000, 0.6))"
   ]
  },
  {
   "cell_type": "markdown",
   "metadata": {},
   "source": [
    "## 比率の区間推定検証"
   ]
  },
  {
   "cell_type": "code",
   "execution_count": 75,
   "metadata": {},
   "outputs": [
    {
     "name": "stdout",
     "output_type": "stream",
     "text": [
      "【推定結果】成功:973,失敗:27\n",
      "【推定結果】成功:994,失敗:6\n"
     ]
    }
   ],
   "source": [
    "StatsUtil.sim_rate(df, 'sex', 'Male', 1000, 50, 0.95)\n",
    "StatsUtil.sim_rate(df, 'sex', 'Male', 1000, 50, 0.99)"
   ]
  },
  {
   "cell_type": "markdown",
   "metadata": {},
   "source": [
    "## 平均の区間推定"
   ]
  },
  {
   "cell_type": "code",
   "execution_count": 76,
   "metadata": {},
   "outputs": [
    {
     "data": {
      "text/plain": [
       "2.9982786885245902"
      ]
     },
     "execution_count": 76,
     "metadata": {},
     "output_type": "execute_result"
    }
   ],
   "source": [
    "df['tip'].mean()"
   ]
  },
  {
   "cell_type": "markdown",
   "metadata": {},
   "source": [
    "## 平均の区間推定検証"
   ]
  },
  {
   "cell_type": "code",
   "execution_count": 77,
   "metadata": {},
   "outputs": [
    {
     "name": "stdout",
     "output_type": "stream",
     "text": [
      "【推定結果】成功:94,失敗:6\n"
     ]
    }
   ],
   "source": [
    "StatsUtil.sim_mean(df, 'tip', 100, 50, 0.95)"
   ]
  },
  {
   "cell_type": "markdown",
   "metadata": {},
   "source": [
    "## t分布"
   ]
  },
  {
   "cell_type": "code",
   "execution_count": 78,
   "metadata": {},
   "outputs": [
    {
     "data": {
      "text/plain": [
       "<matplotlib.legend.Legend at 0x7f9144a5ead0>"
      ]
     },
     "execution_count": 78,
     "metadata": {},
     "output_type": "execute_result"
    },
    {
     "data": {
      "image/png": "[encoded data removed]",
      "text/plain": [
       "<Figure size 432x288 with 1 Axes>"
      ]
     },
     "metadata": {
      "needs_background": "light"
     },
     "output_type": "display_data"
    }
   ],
   "source": [
    "# t分布を描画（t）\n",
    "x = np.linspace(-3, 3, 100)\n",
    "z = stats.norm().pdf(x)\n",
    "\n",
    "for dof in range(1, 12, 5):\n",
    "    t = stats.t(dof).pdf(x)\n",
    "    plt.plot(x, t, label=f't dist(dof={dof})')\n",
    "\n",
    "plt.plot(x, z, label='std norm', linewidth=3)\n",
    "plt.legend()"
   ]
  },
  {
   "cell_type": "markdown",
   "metadata": {},
   "source": [
    "## 平均の区間推定検証（t分布）"
   ]
  },
  {
   "cell_type": "code",
   "execution_count": 79,
   "metadata": {},
   "outputs": [
    {
     "name": "stdout",
     "output_type": "stream",
     "text": [
      "【推定結果】成功:9708,失敗:292\n",
      "【推定結果】成功:9747,失敗:253\n"
     ]
    }
   ],
   "source": [
    "StatsUtil.sim_mean(df, 'tip', 10000, 50, 0.95)\n",
    "StatsUtil.sim_mean_t(df, 'tip', 10000, 50, 0.95)"
   ]
  },
  {
   "cell_type": "markdown",
   "metadata": {},
   "source": [
    "## 比率差の検定（Z-test）"
   ]
  },
  {
   "cell_type": "code",
   "execution_count": 80,
   "metadata": {},
   "outputs": [
    {
     "data": {
      "text/plain": [
       "(-0.3840618481549573, 0.35046630388746547)"
      ]
     },
     "execution_count": 80,
     "metadata": {},
     "output_type": "execute_result"
    }
   ],
   "source": [
    "# 第３引数がvalueのため、alternativeを明記\n",
    "proportions_ztest([30, 33], [1000, 1000], alternative='smaller')\n",
    "\n",
    "# 戻り値１：検定統計量（標準化したz値）\n",
    "# 戻り値２：p値（有意水準5%の場合、0.05より小さいのであれば棄却）"
   ]
  },
  {
   "cell_type": "code",
   "execution_count": 81,
   "metadata": {},
   "outputs": [
    {
     "data": {
      "text/plain": [
       "tuple"
      ]
     },
     "execution_count": 81,
     "metadata": {},
     "output_type": "execute_result"
    }
   ],
   "source": [
    "# 第３引数がvalueのため、alternativeを明記\n",
    "type(proportions_ztest([30, 33], [1000, 1000], alternative='smaller'))"
   ]
  },
  {
   "cell_type": "markdown",
   "metadata": {},
   "source": [
    "## 連関の検定"
   ]
  },
  {
   "cell_type": "code",
   "execution_count": 82,
   "metadata": {},
   "outputs": [
    {
     "data": {
      "text/plain": [
       "(24.107142857142858,\n",
       " 9.112167294252327e-07,\n",
       " 1,\n",
       " array([[ 6., 14.],\n",
       "        [24., 56.]]))"
      ]
     },
     "execution_count": 82,
     "metadata": {},
     "output_type": "execute_result"
    }
   ],
   "source": [
    "# correction=False：イェイツの修正をoff\n",
    "obs = [[15, 5], [15, 65]]\n",
    "stats.chi2_contingency(obs, correction=False)\n",
    "\n",
    "# 戻り値１：x2値\n",
    "# 戻り値２：p値（有意水準5%の場合、0.05より小さいのであれば棄却（連関あり））\n",
    "# 戻り値３：自由度\n",
    "# 戻り値４：連関なしでの期待度数"
   ]
  },
  {
   "cell_type": "code",
   "execution_count": 83,
   "metadata": {},
   "outputs": [
    {
     "data": {
      "text/plain": [
       "(21.502976190476193,\n",
       " 3.5327994689842735e-06,\n",
       " 1,\n",
       " array([[ 6., 14.],\n",
       "        [24., 56.]]))"
      ]
     },
     "execution_count": 83,
     "metadata": {},
     "output_type": "execute_result"
    }
   ],
   "source": [
    "# correction=False：イェイツの修正をon\n",
    "obs = [[15, 5], [15, 65]]\n",
    "stats.chi2_contingency(obs)\n",
    "\n",
    "# x2値が小さくなるよう補正されるため、\n",
    "# 「off：棄却される、on：棄却されない」ということが起こりうる"
   ]
  },
  {
   "cell_type": "markdown",
   "metadata": {},
   "source": [
    "## Z検定とカイ二乗検定が同じ結果になるか検証"
   ]
  },
  {
   "cell_type": "code",
   "execution_count": 84,
   "metadata": {},
   "outputs": [],
   "source": [
    "n = 50\n",
    "sample_df1 = df['time'].sample(n)\n",
    "sample_df2 = df['time'].sample(n)"
   ]
  },
  {
   "cell_type": "code",
   "execution_count": 85,
   "metadata": {},
   "outputs": [
    {
     "name": "stdout",
     "output_type": "stream",
     "text": [
      "s1:40 s2:32\n"
     ]
    }
   ],
   "source": [
    "cnt1 = sample_df1.value_counts()['Dinner']\n",
    "cnt2 = sample_df2.value_counts()['Dinner']\n",
    "print('s1:{} s2:{}'.format(cnt1, cnt2))"
   ]
  },
  {
   "cell_type": "code",
   "execution_count": 86,
   "metadata": {},
   "outputs": [
    {
     "data": {
      "text/plain": [
       "(1.781741612749496, 0.07479137758694414)"
      ]
     },
     "execution_count": 86,
     "metadata": {},
     "output_type": "execute_result"
    }
   ],
   "source": [
    "# 母比率の検定\n",
    "proportions_ztest([cnt1, cnt2], [n, n], alternative='two-sided')"
   ]
  },
  {
   "cell_type": "code",
   "execution_count": 87,
   "metadata": {},
   "outputs": [
    {
     "data": {
      "text/plain": [
       "(3.1746031746031744,\n",
       " 0.07479137758694426,\n",
       " 1,\n",
       " array([[36., 14.],\n",
       "        [36., 14.]]))"
      ]
     },
     "execution_count": 87,
     "metadata": {},
     "output_type": "execute_result"
    }
   ],
   "source": [
    "# 連関の検定\n",
    "sample1_freq = sample_df1.value_counts().values\n",
    "sample2_freq = sample_df2.value_counts().values\n",
    "\n",
    "obs = [sample1_freq, sample2_freq]\n",
    "stats.chi2_contingency(obs, correction=False)"
   ]
  },
  {
   "cell_type": "markdown",
   "metadata": {},
   "source": [
    "## 平均値差の検定"
   ]
  },
  {
   "cell_type": "code",
   "execution_count": 88,
   "metadata": {},
   "outputs": [],
   "source": [
    "# チップ率取得\n",
    "male_tips = df[df['sex']=='Male']['tip_rate']\n",
    "female_tips= df[df['sex']=='Female']['tip_rate']"
   ]
  },
  {
   "cell_type": "code",
   "execution_count": 89,
   "metadata": {},
   "outputs": [
    {
     "name": "stdout",
     "output_type": "stream",
     "text": [
      "male:0.15765054700429748 female:0.16649073632892475\n"
     ]
    }
   ],
   "source": [
    "# 男女のチップ率平均\n",
    "print('male:{} female:{}'.format(male_tips.mean(), female_tips.mean()))"
   ]
  },
  {
   "cell_type": "code",
   "execution_count": 90,
   "metadata": {},
   "outputs": [
    {
     "name": "stdout",
     "output_type": "stream",
     "text": [
      "検定統計量:-1.0833972270477996 p値:0.2797103849605489 (27.971038496054888%で差がある)\n"
     ]
    }
   ],
   "source": [
    "# スチューデントのt検定\n",
    "t, p = stats.ttest_ind(male_tips, female_tips)\n",
    "\n",
    "print('検定統計量:{} p値:{} ({}%で差がある)'.format(t, p, p*100))"
   ]
  },
  {
   "cell_type": "code",
   "execution_count": 91,
   "metadata": {},
   "outputs": [
    {
     "name": "stdout",
     "output_type": "stream",
     "text": [
      "検定統計量:-1.1432770167349968 p値:0.2542456188927583 (25.424561889275832%で差がある)\n"
     ]
    }
   ],
   "source": [
    "# ウェルチのt検定\n",
    "t, p = stats.ttest_ind(male_tips, female_tips, equal_var=False)\n",
    "\n",
    "print('検定統計量:{} p値:{} ({}%で差がある)'.format(t, p, p*100))"
   ]
  },
  {
   "cell_type": "code",
   "execution_count": 92,
   "metadata": {},
   "outputs": [
    {
     "data": {
      "text/plain": [
       "<matplotlib.axes._subplots.AxesSubplot at 0x7f9144899850>"
      ]
     },
     "execution_count": 92,
     "metadata": {},
     "output_type": "execute_result"
    },
    {
     "data": {
      "image/png": "[encoded data removed]",
      "text/plain": [
       "<Figure size 432x288 with 1 Axes>"
      ]
     },
     "metadata": {
      "needs_background": "light"
     },
     "output_type": "display_data"
    }
   ],
   "source": [
    "# ヒストグラム\n",
    "sns.distplot(male_tips)\n",
    "sns.distplot(female_tips)"
   ]
  },
  {
   "cell_type": "code",
   "execution_count": 93,
   "metadata": {},
   "outputs": [
    {
     "data": {
      "text/plain": [
       "<matplotlib.axes._subplots.AxesSubplot at 0x7f91447d4c90>"
      ]
     },
     "execution_count": 93,
     "metadata": {},
     "output_type": "execute_result"
    },
    {
     "data": {
      "image/png": "[encoded data removed]",
      "text/plain": [
       "<Figure size 432x288 with 1 Axes>"
      ]
     },
     "metadata": {
      "needs_background": "light"
     },
     "output_type": "display_data"
    }
   ],
   "source": [
    "# 箱ひげ図\n",
    "sns.boxplot(data=df, x='sex', y='tip_rate')"
   ]
  },
  {
   "cell_type": "code",
   "execution_count": 94,
   "metadata": {},
   "outputs": [
    {
     "name": "stdout",
     "output_type": "stream",
     "text": [
      "male_var:0.004169445577529407 female_var:0.0028433004255488206\n"
     ]
    }
   ],
   "source": [
    "# 男女の分散\n",
    "print('male_var:{} female_var:{}'.format(np.var(male_tips), np.var(female_tips)))"
   ]
  },
  {
   "cell_type": "markdown",
   "metadata": {},
   "source": [
    "## Q-Qプロット"
   ]
  },
  {
   "cell_type": "code",
   "execution_count": 95,
   "metadata": {},
   "outputs": [
    {
     "data": {
      "image/png": "[encoded data removed]",
      "text/plain": [
       "<Figure size 432x288 with 1 Axes>"
      ]
     },
     "metadata": {
      "needs_background": "light"
     },
     "output_type": "display_data"
    }
   ],
   "source": [
    "# 男性のtip_rateをQ-Qプロット\n",
    "male_fig = qqplot(male_tips,\n",
    "                  line='r',\n",
    "                  dist=stats.norm(loc=np.mean(male_tips), scale=np.sqrt(stats.tvar(male_tips))))"
   ]
  },
  {
   "cell_type": "code",
   "execution_count": 96,
   "metadata": {},
   "outputs": [
    {
     "data": {
      "image/png": "[encoded data removed]",
      "text/plain": [
       "<Figure size 432x288 with 1 Axes>"
      ]
     },
     "metadata": {
      "needs_background": "light"
     },
     "output_type": "display_data"
    }
   ],
   "source": [
    "# 女性のtip_rateをQ-Qプロット\n",
    "male_fig = qqplot(female_tips,\n",
    "                  line='r',\n",
    "                  dist=stats.norm(loc=np.mean(female_tips), scale=np.sqrt(stats.tvar(female_tips))))"
   ]
  },
  {
   "cell_type": "markdown",
   "metadata": {},
   "source": [
    "## シャピロ-ウィルク検定"
   ]
  },
  {
   "cell_type": "code",
   "execution_count": 97,
   "metadata": {},
   "outputs": [
    {
     "data": {
      "text/plain": [
       "ShapiroResult(statistic=0.7447847127914429, pvalue=3.2243281107541917e-15)"
      ]
     },
     "execution_count": 97,
     "metadata": {},
     "output_type": "execute_result"
    }
   ],
   "source": [
    "# 男性の検定\n",
    "# 外れ値により、正規分布に従うという帰無仮説が棄却される\n",
    "stats.shapiro(male_tips)"
   ]
  },
  {
   "cell_type": "code",
   "execution_count": 98,
   "metadata": {},
   "outputs": [
    {
     "data": {
      "text/plain": [
       "ShapiroResult(statistic=0.8982974290847778, pvalue=4.717996489489451e-06)"
      ]
     },
     "execution_count": 98,
     "metadata": {},
     "output_type": "execute_result"
    }
   ],
   "source": [
    "# 女性の検定\n",
    "# 外れ値により、正規分布に従うという帰無仮説が棄却される\n",
    "stats.shapiro(female_tips)"
   ]
  },
  {
   "cell_type": "code",
   "execution_count": 99,
   "metadata": {},
   "outputs": [
    {
     "data": {
      "text/plain": [
       "ShapiroResult(statistic=0.9931070804595947, pvalue=0.6644759774208069)"
      ]
     },
     "execution_count": 99,
     "metadata": {},
     "output_type": "execute_result"
    }
   ],
   "source": [
    "# 男性の検定\n",
    "# 外れ値を除くと正規分布に従うという帰無仮説が棄却されない\n",
    "stats.shapiro(np.sort(male_tips)[:-1])"
   ]
  },
  {
   "cell_type": "code",
   "execution_count": 100,
   "metadata": {},
   "outputs": [
    {
     "data": {
      "text/plain": [
       "ShapiroResult(statistic=0.9696651697158813, pvalue=0.04252713546156883)"
      ]
     },
     "execution_count": 100,
     "metadata": {},
     "output_type": "execute_result"
    }
   ],
   "source": [
    "# 女性の検定\n",
    "# 外れ値を除いても正規分布に従うという帰無仮説が棄却される\n",
    "stats.shapiro(np.sort(female_tips)[:-2])"
   ]
  },
  {
   "cell_type": "markdown",
   "metadata": {},
   "source": [
    "## F分布"
   ]
  },
  {
   "cell_type": "code",
   "execution_count": 101,
   "metadata": {},
   "outputs": [
    {
     "data": {
      "text/plain": [
       "<matplotlib.legend.Legend at 0x7f9142e538d0>"
      ]
     },
     "execution_count": 101,
     "metadata": {},
     "output_type": "execute_result"
    },
    {
     "data": {
      "image/png": "[encoded data removed]",
      "text/plain": [
       "<Figure size 432x288 with 1 Axes>"
      ]
     },
     "metadata": {
      "needs_background": "light"
     },
     "output_type": "display_data"
    }
   ],
   "source": [
    "x = np.linspace(0, 3, 100)\n",
    "\n",
    "# 1~12を5とび\n",
    "for dfn in range(1, 12, 5):\n",
    "    # 1~12を5とび\n",
    "    for dfd in range(1, 12, 5):\n",
    "        y = stats.f(dfn=dfn, dfd=dfd).pdf(x)\n",
    "        plt.plot(x, y, label=f'dfn:{dfn}, dfd:{dfd}')\n",
    "\n",
    "# 凡例表示\n",
    "plt.legend()"
   ]
  },
  {
   "cell_type": "markdown",
   "metadata": {},
   "source": [
    "## F検定"
   ]
  },
  {
   "cell_type": "code",
   "execution_count": 102,
   "metadata": {},
   "outputs": [
    {
     "name": "stdout",
     "output_type": "stream",
     "text": [
      "不偏分散　male_tvar:0.004196172792769981 female_tvar:0.002876362058404039\n",
      "F値　1.4588472200534603\n",
      "male_free:156 female_free:86\n"
     ]
    },
    {
     "data": {
      "text/plain": [
       "0.027100863454374447"
      ]
     },
     "execution_count": 102,
     "metadata": {},
     "output_type": "execute_result"
    }
   ],
   "source": [
    "# 男女のF値を取得\n",
    "male_tvar = stats.tvar(male_tips)\n",
    "female_tvar = stats.tvar(female_tips)\n",
    "f = male_tvar/female_tvar\n",
    "print(f'不偏分散　male_tvar:{male_tvar} female_tvar:{female_tvar}')\n",
    "print(f'F値　{f}')\n",
    "\n",
    "# 男女の自由度を取得\n",
    "male_free = len(male_tips) - 1\n",
    "female_free = len(female_tips) - 1\n",
    "print(f'male_free:{male_free} female_free:{female_free}')\n",
    "\n",
    "# p値を計算：棄却域5%にて帰無仮説を棄却⇒等分散でない\n",
    "stats.f(dfn=male_free, dfd=female_free).sf(f)"
   ]
  },
  {
   "cell_type": "markdown",
   "metadata": {},
   "source": [
    "## 対応のある平均値差の検定"
   ]
  },
  {
   "cell_type": "code",
   "execution_count": 103,
   "metadata": {},
   "outputs": [],
   "source": [
    "# 血圧データ取得\n",
    "bp_df = pd.read_csv('data/blood_pressure.csv')"
   ]
  },
  {
   "cell_type": "code",
   "execution_count": 104,
   "metadata": {},
   "outputs": [
    {
     "data": {
      "text/plain": [
       "Ttest_relResult(statistic=3.3371870510833657, pvalue=0.0005648957322420411)"
      ]
     },
     "execution_count": 104,
     "metadata": {},
     "output_type": "execute_result"
    }
   ],
   "source": [
    "# 検定（greater：右側片側検定）\n",
    "stats.ttest_rel(bp_df['bp_before'], bp_df['bp_after'],alternative='greater')"
   ]
  },
  {
   "cell_type": "code",
   "execution_count": 105,
   "metadata": {},
   "outputs": [
    {
     "data": {
      "text/plain": [
       "5.091666666666667"
      ]
     },
     "execution_count": 105,
     "metadata": {},
     "output_type": "execute_result"
    }
   ],
   "source": [
    "# 変化量列：deltaを生成\n",
    "bp_df['delta'] = bp_df['bp_before'] - bp_df['bp_after']\n",
    "bp_df['delta'].mean()"
   ]
  },
  {
   "cell_type": "code",
   "execution_count": 106,
   "metadata": {},
   "outputs": [
    {
     "data": {
      "text/plain": [
       "<matplotlib.axes._subplots.AxesSubplot at 0x7f9142dfe250>"
      ]
     },
     "execution_count": 106,
     "metadata": {},
     "output_type": "execute_result"
    },
    {
     "data": {
      "image/png": "[encoded data removed]",
      "text/plain": [
       "<Figure size 432x288 with 1 Axes>"
      ]
     },
     "metadata": {
      "needs_background": "light"
     },
     "output_type": "display_data"
    }
   ],
   "source": [
    "# 箱ひげ図\n",
    "sns.boxplot(bp_df['delta'])\n",
    "\n",
    "# 第2四分位数が0より大きいため、50%以上が前後で小さくなっている"
   ]
  },
  {
   "cell_type": "markdown",
   "metadata": {},
   "source": [
    "## 自己学習：t分布から対応ありの平均値差の検定"
   ]
  },
  {
   "cell_type": "code",
   "execution_count": 107,
   "metadata": {},
   "outputs": [
    {
     "data": {
      "text/plain": [
       "0.0005648957322420411"
      ]
     },
     "execution_count": 107,
     "metadata": {},
     "output_type": "execute_result"
    }
   ],
   "source": [
    "# 変化量の平均\n",
    "d_mean = bp_df['delta'].mean()\n",
    "# 不偏分散\n",
    "d_tvar = stats.tvar(bp_df['delta'])\n",
    "# データ数\n",
    "num = len(bp_df)\n",
    "\n",
    "# 検定統計量\n",
    "stat = d_mean / np.sqrt(d_tvar / len(bp_df))\n",
    "\n",
    "# 検定\n",
    "stats.t(len(bp_df)-1).sf(stat)"
   ]
  },
  {
   "cell_type": "markdown",
   "metadata": {},
   "source": [
    "## Cohen's dを計算"
   ]
  },
  {
   "cell_type": "code",
   "execution_count": 121,
   "metadata": {},
   "outputs": [
    {
     "data": {
      "text/plain": [
       "0.14480153987269248"
      ]
     },
     "execution_count": 121,
     "metadata": {},
     "output_type": "execute_result"
    }
   ],
   "source": [
    "# tip_rate\n",
    "StatsUtil.cohen_d(male_tips, female_tips)"
   ]
  },
  {
   "cell_type": "code",
   "execution_count": 122,
   "metadata": {},
   "outputs": [
    {
     "data": {
      "text/plain": [
       "0.3044387364807484"
      ]
     },
     "execution_count": 122,
     "metadata": {},
     "output_type": "execute_result"
    }
   ],
   "source": [
    "# total_bill\n",
    "StatsUtil.cohen_d(df[df['sex']=='Male']['total_bill'], df[df['sex']=='Female']['total_bill'])"
   ]
  },
  {
   "cell_type": "markdown",
   "metadata": {},
   "source": [
    "## 検定力分析"
   ]
  },
  {
   "cell_type": "code",
   "execution_count": 126,
   "metadata": {},
   "outputs": [],
   "source": [
    "# TTestIndPowerクラスをインスタンス化\n",
    "power = TTestIndPower()"
   ]
  },
  {
   "cell_type": "code",
   "execution_count": 130,
   "metadata": {},
   "outputs": [],
   "source": [
    "# 効果量\n",
    "e_size = StatsUtil.cohen_d(male_tips, female_tips)"
   ]
  },
  {
   "cell_type": "code",
   "execution_count": 135,
   "metadata": {},
   "outputs": [
    {
     "data": {
      "text/plain": [
       "0.19038260700802212"
      ]
     },
     "execution_count": 135,
     "metadata": {},
     "output_type": "execute_result"
    }
   ],
   "source": [
    "# 検定力を取得\n",
    "power.solve_power(effect_size=e_size,\n",
    "                  nobs1=len(male_tips),\n",
    "                  alpha=0.05,\n",
    "                  power=None,\n",
    "                  ratio=len(female_tips)/len(male_tips))\n",
    "\n",
    "# 検定力が低いため、サンプルサイズを増やす必要がある"
   ]
  },
  {
   "cell_type": "code",
   "execution_count": 137,
   "metadata": {},
   "outputs": [
    {
     "data": {
      "text/plain": [
       "1051.0959553846506"
      ]
     },
     "execution_count": 137,
     "metadata": {},
     "output_type": "execute_result"
    }
   ],
   "source": [
    "# 必要な標本の大きさを取得\n",
    "power.solve_power(effect_size=e_size,\n",
    "                  nobs1=None,\n",
    "                  alpha=0.05,\n",
    "                  power=0.8,\n",
    "                  ratio=len(female_tips)/len(male_tips))"
   ]
  },
  {
   "cell_type": "markdown",
   "metadata": {},
   "source": [
    "## 検定力の推移"
   ]
  },
  {
   "cell_type": "code",
   "execution_count": 155,
   "metadata": {},
   "outputs": [
    {
     "data": {
      "image/png": "[encoded data removed]",
      "text/plain": [
       "<Figure size 432x288 with 1 Axes>"
      ]
     },
     "metadata": {
      "needs_background": "light"
     },
     "output_type": "display_data"
    }
   ],
   "source": [
    "# 検定力の推移グラフ表示\n",
    "nobs = np.arange(5, 100, 1)\n",
    "fig = power.plot_power(dep_var='nobs',\n",
    "                       nobs=np.arange(5, 100, 1),\n",
    "                       effect_size=np.arange(0.2, 0.9, 0.1),\n",
    "                       alpha=0.05)"
   ]
  }
 ],
 "metadata": {
  "kernelspec": {
   "display_name": "Python 3",
   "language": "python",
   "name": "python3"
  },
  "language_info": {
   "codemirror_mode": {
    "name": "ipython",
    "version": 3
   },
   "file_extension": ".py",
   "mimetype": "text/x-python",
   "name": "python",
   "nbconvert_exporter": "python",
   "pygments_lexer": "ipython3",
   "version": "3.7.6"
  }
 },
 "nbformat": 4,
 "nbformat_minor": 4
}
